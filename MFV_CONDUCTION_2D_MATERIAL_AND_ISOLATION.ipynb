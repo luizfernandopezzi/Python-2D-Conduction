{
  "cells": [
    {
      "cell_type": "markdown",
      "metadata": {
        "id": "view-in-github",
        "colab_type": "text"
      },
      "source": [
        "<a href=\"https://colab.research.google.com/github/luizfernandopezzi/Python-2D-Conduction/blob/master/MFV_CONDUCTION_2D_MATERIAL_AND_ISOLATION.ipynb\" target=\"_parent\"><img src=\"https://colab.research.google.com/assets/colab-badge.svg\" alt=\"Open In Colab\"/></a>"
      ]
    },
    {
      "cell_type": "markdown",
      "source": [
        "# ANÁLISE DE TRANSFERÊNCIA DE CALOR POR CONDUÇÃO BIDIMENSIONAL ATRAVÉS DO MÉTODO DOS VOLUMES FINITIOS - MFV"
      ],
      "metadata": {
        "id": "xAlbX3tv5H17"
      }
    },
    {
      "cell_type": "code",
      "source": [
        "import pandas as pd\n",
        "import numpy as np\n",
        "import matplotlib.pyplot as plt"
      ],
      "metadata": {
        "id": "IGbYndLZ6M2H"
      },
      "execution_count": 14,
      "outputs": []
    },
    {
      "cell_type": "markdown",
      "source": [
        "## 1.1) Defininindo as dimensões do domínio"
      ],
      "metadata": {
        "id": "YrmoeQcF6SNj"
      }
    },
    {
      "cell_type": "code",
      "source": [
        "length = 20         # Comprimento [m]\n",
        "heigth = 1*length   # Altura [m]\n",
        "delta = 1        # Dimensão do elemento de malha [m]\n",
        "espessura = 1       # Espessura do material isolante ou material alternativo [m]\n",
        "\n",
        "xmin = 0            # Posição x = 0 (origem) no eixo x, plano x=y\n",
        "xmax = length       # Posição x máximo da geometria/domínio no eixo x, plano x-y\n",
        "ymin = 0            # Posição y = 0 (origem) do eixo y, plano x-y\n",
        "ymax = heigth       # Posição y máximo da geometria/domínio no eixo x, plano x-y\n",
        "\n",
        "xmin_concreto = espessura         # Posição x mínino do material interno no eixo x, plano x-y\n",
        "xmax_concreto = xmax - espessura  # Posição x máximo do material interno no eixo x, plano x-y\n",
        "ymin_concreto = espessura         # Posição y mínimo do material interno no eixo y, plano x-y\n",
        "ymax_concreto = ymax - espessura  # Posição y máxima do material interno no eixo y, plano x-y"
      ],
      "metadata": {
        "id": "Dp9GOE8K7KQD"
      },
      "execution_count": 29,
      "outputs": []
    },
    {
      "cell_type": "markdown",
      "source": [
        "## 1.2) Discretização do domínio e criação da malha computacional"
      ],
      "metadata": {
        "id": "1VFIHhX-BtXj"
      }
    },
    {
      "cell_type": "code",
      "source": [
        "n=int(length/delta) # Número de elementos da malha em cada eixo ortogonal. Malha uniforme com o mesmo número de elementos em ambas direções x-y.\n",
        "\n",
        "#MATRIZ GLOBAL DE POSIÇÃO (X,Y) DO CENTRO DE CADA ELEMENTO DA MALHA\n",
        "\n",
        "x0 = delta / 2                                # Posição x0 do centro do elemento 1, posição (x0, y0)\n",
        "y0 = delta / 2                                # Posição y0 do centro do elemento 1, posição (x0, y0)\n",
        "\n",
        "matriz_posicao = []                           # Inicialização da matriz global de posição do centro de cada elemento da malha\n",
        "\n",
        "\n",
        "# Faz-se uma varredura do domínio entre os limites geométricos 0 e n, através dos sub-índices i e j, representando respectivamente os eixos x e y.\n",
        "# Cada par de valores [i,j] representa o centro (x,y) de um volume finito. Exemplo: para i = j = 0, [0,0] representa o volume finito da linha 0, coluna 0. Para i = 0 e j = 1, [0,1] representa o volume finito da linha 0 e coluna 1.\n",
        "# Exemplo para o primeiro laço/loop:\n",
        "\n",
        "for i in range(n):                          # Para i = 0 (primeira linha do domínio, i = 0)\n",
        "    matriz_posicao.append([])               # Cria-se uma nova matriz [], a qual será a primeira sub-matriz da matriz global de posição, e que irá conter a posição do centro de todos os elementos da primeira linha (i = 0). Aqui, esta sub-matriz para i = 0 representa a primeira linha de elementos da malha. Para o próximo loop, quando i = 1, a subatriz criada representara a segunda linha de elementos. E assim por diante, até i = (n-1), onde teremos uma matriz global de posição com n sub-matrizes, cada uma representando uma linha de n volumes finitos.\n",
        "    y = (i*delta + y0)                      # Quando y = 0, define-se a posição y do centro de cada elemento da primeira linha: y = (0 * delta + y0) = y0 = delta/2\n",
        "\n",
        "    for j in range(n):                      # Agora, cria-se a posição do centro dos volumes finitos de todas as colunas presentes na primeira linha (linha i = 0). Para j = 0:\n",
        "        x = (j*delta + x0)                  # Posição x do volume finito [0,0]: x = (0 * delta + x0) = delta/2\n",
        "        matriz_posicao[i].append((x,y))     # Cria-se o par de coordenadas (x,y) representando o centro do volume finito [0,0].\n",
        "\n",
        "                                            # Repete-se o loop variando o valor de j = 0 até (n-1) para toda a primeira linha, i = 0, criando as coordenadas dos centros de todos os volumes finitos da primeira linha do domínio.\n",
        "                                            # Em seguida, ao finalizar o loop de j para i = 0, inicia-se o loop de i = 1 e todo o procedimento é realizado novamente, mapeando agora, os centros dos volumes finitos de toda a linha i = 1.\n",
        "                                            "
      ],
      "metadata": {
        "id": "dNEKsnShB7nb"
      },
      "execution_count": 30,
      "outputs": []
    },
    {
      "cell_type": "markdown",
      "source": [
        "Domínio Discretizado para n = 7\n",
        "\n",
        "![domain2D.png](data:image/png;base64,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)"
      ],
      "metadata": {
        "id": "OXq-DFq9oOsg"
      }
    },
    {
      "cell_type": "markdown",
      "source": [
        "## 1.3) Modelamento Matemático\n",
        "\n",
        "A equação que representa o fenômeno físico envolvido é a EQUAÇÃO DA DIFUSÃO DE CALOR 2D:"
      ],
      "metadata": {
        "id": "CA6ioTPdvyQs"
      }
    },
    {
      "cell_type": "markdown",
      "source": [
        "Equação 1: $\\frac{\\partial }{\\partial x} \\left ( k \\frac{\\partial T}{\\partial x}  \\right ) + \\frac{\\partial }{\\partial y} \\left ( k \\frac{\\partial T}{\\partial y}  \\right ) + S = 0 \\left [ \\frac{W}{m^3} \\right ]$"
      ],
      "metadata": {
        "id": "GKkh_kHbdOoG"
      }
    },
    {
      "cell_type": "markdown",
      "source": [
        "Volumes Finitos\n",
        "\n",
        "![discretization2D.png](data:image/png;base64,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)"
      ],
      "metadata": {
        "id": "-ZXD_JwooRQD"
      }
    },
    {
      "cell_type": "markdown",
      "source": [
        "Integrando a equação 1 no volume $\\Delta x\\Delta y\\Delta z$ com $\\Delta z = 1$, ou seja, integrando entre os limites:\n",
        "\n",
        "$w \\leq x \\leq e$\n",
        "\n",
        "$s \\leq y\\leq n$\n"
      ],
      "metadata": {
        "id": "ehcjeIpt1L3z"
      }
    },
    {
      "cell_type": "markdown",
      "source": [
        "$\\int_{w}^{e}\\int_{s}^{n}\\frac{\\partial }{\\partial x} \\left ( k \\frac{\\partial T}{\\partial x}  \\right )dydx + \\int_{w}^{e}\\int_{s}^{n}\\frac{\\partial }{\\partial y} \\left ( k \\frac{\\partial T}{\\partial y}  \\right )dydx + \\int_{w}^{e}\\int_{s}^{n}S\\ dydx = 0$"
      ],
      "metadata": {
        "id": "0PXF4QCP2E74"
      }
    },
    {
      "cell_type": "markdown",
      "source": [
        "$\\left [ \\left ( k \\frac{\\partial T}{\\partial x}  \\right )_{e} - \\left ( k \\frac{\\partial T}{\\partial x}  \\right )_{w} \\right ]\\int_{s}^{n} dy + \\left [ \\left ( k \\frac{\\partial T}{\\partial y}  \\right )_{n} - \\left ( k \\frac{\\partial T}{\\partial y}  \\right )_{s} \\right ]\\int_{w}^{e} dx  + \\bar{Sp} \\Delta x_{p}\\Delta y_{p} = 0$"
      ],
      "metadata": {
        "id": "1cNjvmR49NWx"
      }
    },
    {
      "cell_type": "markdown",
      "source": [
        "$\\left [ \\left ( k \\frac{\\partial T}{\\partial x}  \\right )_{e} - \\left ( k \\frac{\\partial T}{\\partial x}  \\right )_{w} \\right ]\\Delta y_{p} + \\left [ \\left ( k \\frac{\\partial T}{\\partial y}  \\right )_{n} - \\left ( k \\frac{\\partial T}{\\partial y}  \\right )_{s} \\right ]\\Delta x_{p}  + \\bar{Sp} \\Delta x_{p}\\Delta y_{p} = 0$"
      ],
      "metadata": {
        "id": "m7cTDcw19PpL"
      }
    },
    {
      "cell_type": "markdown",
      "source": [
        "Assume-se que a temperatura varia de forma linear no interior do volume finito, de modo que as derivadas da equação acima podem ser aproximadas através do Método das Diferenças Finitas. Já o termo fonte, que pode assumir qualquer função, é representado através de uma função por partes:\n",
        "\n",
        "![funcporpartes.png](data:image/png;base64,iVBORw0KGgoAAAANSUhEUgAABHAAAAFcCAYAAACgIEkwAAAAAXNSR0IArs4c6QAAAARnQU1BAACxjwv8YQUAAAAJcEhZcwAAEnQAABJ0Ad5mH3gAAOLqSURBVHhe7N0FXBTbHgfwH7uECAiKCmI3dnd397V9Xuvace283mt3d3d3d2AXNooBFmGgdO8ub2Z2EFAwYMEFf9/38d09s8PG2ZkzZ/6nDCIEICIiIiIiIiIivaWQ/0tERERERERERHqKARwiIiIiIiIiIj3HAA4RERERERERkZ5jAIeIiIiIiIiISM8xgENEREREREREpOcYwCEiIiIiIiIi0nMM4BARERERERER6TkGcIiIiIiIiIiI9BwDOEREREREREREek75n0B+nEKE4s39Rzjm8AgOd9zwOsgEdnbmSGUQCpfLN7DvXghsclojjVLePQYN3t25jg0OvshYICOs4hneUn9wwY49D/DOOhtypTGQt0YJevUI20+4IjC9LbKaM4amr3yf3cGmQ25Q5s0MW2N5IyVAEB6dvoLtjxUolM8SzNLk67vnRvB7nDnkiBtBaZDPzhSxFrefxVVmy08TEREREZHEIEIgPQp4iqULbuGpWkp9xUD4n0KphImpMSzSpEHmbJlRtkwe2Kf9dtU8Kfk/uoDBo3dj06MgRKjVCJe+mRI25RpjZQsP/DX6Jt5HKJG78xA8nFAQqaS/UsP7zRvccnyMQ4cvYfN5D/ilr4pDDl3RwETa4YeofD/g3v3nOHfmBtbvu49HAWnQfc1MrKpuJO+hpfG6jvb1V2DnxwgYZauF4yc7oeZPvA8lroC3b+B4+wmOHb2E9Sdf4R3yY965Efg7MwNt8RMC98cvcfX6A+zacwn7H/oB5drj2da6yMYsTVZ++NzQ+GH7wHHoeMQfEYYZ0G/DFCyqGLMcjBR3md0Eu1Y2Q5U00m5ERERERCT4XPPWhHrj9uUHOHjQAYvXncIC8d/6S9h70QmnLznh1KWHOHb2NrbvPIupMzahS6/pKFRhOKqMOofrPhr5VX4dtes5tOu8Hhv9S2D3pRXwPtsPg4ubCV9QjXfXj2PZNW/4STcHanx87yvcVspUb7G472TUHbwTi854wDuOANa3qfFkwxJU6LwSwzfchZOfBtqo2Ncigrzx1l/7rMrbB29DpYekF0Kxf/xE1Oi3BTOOCDeo4fJmir/g2+jffAZaTziKnQ/9ECZvpuTmJ86NiBB4fAiWysAIVQA8P8S+8/fK7IUOelY4Bnli//It6DZ0LYYsPId9dz4iUHpCg9cnj2D6WS/hkxMlR2IvuPtC/e4clmy+iN3X3kJbrRN7Ll/BmkPP4B5n4S32XL6GJdud8JInAP2mxF6pq9bfxF3tRYF0gHmanMR1DaHEEtUDJ1LoG0z4YwL+eyhciY2LY53jIHQxl5+Tafze4tiWXfh7/m08Fy7q5va1sH1jBzTK8Kua1AOx5+8xaHMgECUG/Ytrf2eFobjZ7yXWLjiOYwE50L9/AbzafByHP9mgw4DGaJ5N2kMQApfbz/DUTwOvU7vRfasbNDY/3wMn4NVzXH4RBPWnOxg18jweaKzQI5YeOOL73d9zADPPBiBPsyYYUzcjh5LoDQ08nR7h3gcNwq4fwh/LnyPciD1wEkTjgzuX3+CtWoULi5dguqMaxuyBkwz93LkR8PgyJq64B68c5TGub0nk+qqQ+4Eye0RdVLPWk4NE/RbLuk/FAAf/aEEaA6RObwN7mwi8ehaOZksmYk1tM/k5+i2w53KCei4TJWfssa17zNPkhz2pf42vAzgIxY5+f6P90RBExBHA0VLh8Zo5qDDFGb4RBsjcsh/uzymFdPKzSSr0HnpUXYA175VoOH0+jrSNTyVagxerZiD/1KfxCuBEUr85jho1d+BinAEcSg6C9i5EuqF3EMoAjo6EYlPP/uh8SsUATjKnk3NDJ2V2Egp6jS1rHiKijD3yqr1w67oTTjg8xHknH2jSZ0fr/p0wv1MuWMq70+9B8/E6ev5vP86+/4TXH8O0wT0DU2TNnRaR099phAptSGAQPnz0R6BKeNokLSo2b4LZo6qhXHwn2tMRsRdc0zabcCpNFezZ1hk1g+/gn8HrseBuoFAjMkH95llxfv9zqceyVf2eeLGsAqzEP1S5Y1KLfzFebOiTKRNQbyJKfkKxWa7TfL6JYn0xgZinyc23ryGp8MfC+djVhBeFxBDrGaFQ/MjskYYo0LYWmqQT942Ax8nLOOyjfSbJhfvhnY/2dDdU6k/LFhERxSK5ldmps6HjgIboVD4XylUqi35DuuLggTnwe7oKftfGYx2DN78lhXU5rD46Da6Xx+GfwvJxLNxwTNw3BQ9Pav89OjMdrtcWwtdxGg6NKIlcEd64tGMjarffiiMffmUf80DsX7gfxz8qULRpbTSwUcIsR2nM3TAMq7qVwx9tmmPUkE5Y0bM8Wv/RDOtGl9EGb0SG1ugwYRCOrvsbGztkAZupUiiNL3aOn40xFzme/GtGqDVIPAcG40DvPDwHdIJ5mrx87xrSDP3jmP/wV9F8uIH+nXfjVAqYviRhIU3TLCiUVfsSESHv4fwqjn7EiU0TAQ61IyJKJlJKma1QJPAiSimCSUbYZzPCt5q+FGls0ahPHxwcYQ9LYccA57PoNf0OPsnPJ7nQ5zh21V84Dw1gkymddgijKE0OdPunN3bNqI9qWbOj8+he2DmrebRh56JUyF2yCBpUL4LKOVLL2yjFCXXFsWPP4PyRNeyvKZCpUGHUr14UtfNa8DqgE8zTZOVHriH6MgxeFnLvPvbc8sT7FFCkxTqEateAwWh7OPg7Q6gEak9MbfUPxt5TA4aZMWbPBEwpGr01NRyvb97AlmOPcNPlEz6FGsAsXXoUKVMCf7YugQJxvK7Gzx17Vh3E8rs2GLO6JWqZhMPjzi2s23sXV139YZDJHj0HNUSt8Gc4/NAX6tBnmDPmLBxVSpT5swsGlzSEgXF6VKmTB5kjP446APePnsS0ba7I028QJlX6MiqYVEOoNPj0+CbmLXXA9RyNcWhoQcT2NoEv72LeglO4kKXR531C3J9h72FHnLzjCTdfNVLb2KFKvSr4q17W7y55HuL+FDsP3MKZe5544xsOA1ML5LTPh2atKqNJHlN5r9io8eHRPew47oRrzu/h4ReGCENT2GTNjArVyqFDnWzIEGcDuga+Tx0xe9G5qO8a6o1rxy5h05nnePLRAFnLV8P43iWQ82cnAlL54e7ZG9h70QUPXvvAOyQCRuaWyJkvN+o3KY9mBdN8Z+liMU+eYPPO67jg/AHuAQawtLVF6Qql0LFJfmQ48qPDROJ3jEtUvrh14iq2n3sO57eBCDE0Q7Z8edCoeWW0KGgOheoDLp5whXdWezQuagmF9y0M6nMCt6I3hinTos1/vTCoYPRvq4Hz1tXotecDVPIWkZF9TWyZVAFxfpUE56mQF9fFCS+f4MEbH/gZmCJzrhyoWa8C2pazwK4fHUIV5oPrQr7sueQKJzd/BGmMkDaTLUqWLyn8NgWQ81uH6/cEemDHoj1Y/iwHJi9rgkrCcRfw0gnb9t3C6Yfv4RVmDNvcedCkVTW0KSL8BvKfxUb18TUOH76FU3fc4PIuCMERSqTJkB6FSxRBu2YlUexbFy5NEJyOHcekLa7IK5dHoe9csHvXFRy+LVxcDNKhevtmGFk7Q4w5shL0nj8hoeeG2ucNdq85jJWfy3Dt9iDXx98ps21xffJizLkfvTFAgSyNOmJLt2xRFQSB2uU8uo65DJcYB3kW9Jv/P3SwjS0fQvHc4RLWHHmMu28CEGpsjpwF7dGqdWXUNX6Dgy/NULeyHeI6ZXWR92HvXbB3v3Cs3fXAy0+h0JiYIUuu7KhetwLaVciAuG6Fg55dxfi5V/AsbTGMGlETFX7x0Bv60k/UmwJu4X/Vl2LzxwgYmJfA+osD0flz15YkFHARTUqtxeEwQzSdtQgH/tDObvNzdFNvIv3kc3IVCvW5hXJzFmJvc/6wceGQe91jniYDOrmGJKUg7B86Fn8czYUNtwegY0LuJfRAws6IwNe491IbxlKY2qFwjqjbO42XM6b9NQ4F2qzG+N3P8cHYEtlsTRH05DbmTlyIkvUXYN69YHlvkRoPDu5FvwEzUajqv2i7+AbO3XmL915PMLv/fyjYaiXGbb6BI1eEG4A9+9BhrAMeOhzE/watQIcR4o2A9jVubliDDsK2jqPO4IawzffOBYwcuRAVqw9HyYGHsP2qC558+gWhNz8XrJm+Fi1ajkTOxssx+fBjXHONPiGmQOWJPQs2o3OXf5G33gL8s/+Rdp/Q99g/aw4K1p6KjtNPYMOJ+zhzzQmHDpzCiL4TUebvy3ge/SYmOo0fHJYuQJHa09Bl7iVc+WQIW7u0sAx2w77VW9Gs0T9otsYV/vLu0Wl8nmN+//HI22QR/l57H67q1MiWxRrWCh9c2ncMg/tMQME/tuHg2y/yU/UG2+ZsQvsOY5Gr0VL5u/rh3Y1jaNt4LCoN3oulh4XvcPUe1s9bgd47PwrVwB+lwafbJ9G2wSiU7rUV889/gCqNNXLaCTfb755i84pt+KOp8B6T7sA9rhfV+OLsgjmwrzkdfy08j31OgTCxMoOx30usnzgTBWrNw7TbgXGuJBbp54/xKGGu19Hvj3Go0H8H5h54AleVKTJYGsDj6kl0bjYGlSfcwJ0TB9Bu4AoM2uUOKWajNEf23Jlgn80Mwa9e4Ort57hy+xVeBnz9SU2tM8I+jw2ymgXB+Z64n/DviQ9CYv1SCc9TzYdHmPjnaORvtx6Ttt7GHV9DpLM0hM+Dy/i74xgU6HYEV+UhM3HT4MP1o2hZfxQqDtyJJRc+AunSIZOFCk8dzmH8yJnCOTAb/170+YnjRaAJwNVdBzB81AKUrvEv2q+4jQv33+NT8FvsmS783vVmo6dwHOw8+whnL93F1g270aHlWNSe+yj2KL34emuXoliN/9By4ikce61B2szpkS2t8PvdvIqZk5agdJ0pGHLK+6vPqXK+hn/+WYZadUagRP9D2CGWRx/9cHHlUpQU/uZ/c85i+7nHOHv2Mv4dtAFrIjM8Ae/5UxJ0bgTh+o6d6NFzMvJWEfJZLsO9Pn8gDbwvfK/MViBd5kwokDsD0oW8w03pGH+O227BX38vEwvkEs6HfHYm8HVx1Z4Pjm5wj61rbNg7bB4+ESW6bsbCS59glDE9MqcKwOVt29Gk8b+o0GMh2g46hJOxrXahi7wXyuELyxehSI0p6DDtLE64AxkyWcEy7C2Ob96H7h2Ec6TzPpyK7YBTv8Oysesw9/hDHNy2Dd2XvZCfoGSJPZcpGdB8uItRM6/DkwcJEcUmWV1DNHh7ZhfGHPrJ+wc9loAeOOG4u3gmqsx5jgAokKvD37g9pYh2HgBfZ4zqtAAzH4bBrvof2DGrHiqll2NFYkBh/mI0X/wM/hnLYMPe3uhoJz4Xip1DR6P/eaFWHx6CT/7h0BhlQOGsAfC0KIfJoxqgcQY3LB27HjOuB8Cixp+4v7IKMmk00PhfRvOK63EszBBNZi7A7mbGUIhd2w0B9y2LUGGuC8IiVPDzDhbeJRVaL5yPnV9NqpS4PXA0HufQouU+XA2PQFhAAHzDAIuGvfF2SbmoVtfQu+jTYB32+EYgPFDYJzQCpmWroEvYbaxysULj9tXxZ/0iKJc7DZQfXmDH0q0YvdcdAQap0XzmVOz5w/KLiFwgzs+YhabLXyHYpiimLu6OIaUje1Fo8P7afrTqeRiXAy3Res44bGtuHfX3wk3D8u6T0c9B+HWzVsCmrd3QLktU+3eQyyV07bwOuzwikK5ON9xfXhnSzygKvoE/a24Wfg/hp5S/h1G2LMjl7YM0TVpiRs/isH1yFr3HHMGFT6nQcOokHGwX7b2/Qf3yHJq03IRj3gbI1bwnzswohxyfuyiE4snuNag76iZea8yEPJkk5EnaL143GFfmzUKDRS/gr0yHRkP+woru9rCTX0Pj+wprJq7E4L0eQu4J4or+x+sY11K7XUeXjquw5bUa5gWqYvHctuhkn1r+nCq4Xz2OnkP24/QnIf/CNMjeaRicJ8XsqeV/chXy9b6Ct4qM+HvrFMwrG71vQnSB2NRrOP48GQzDUm3weEcD5P6iG02C8zTgGf7tNBeT74VAmakYJs39E4PLp5V7jgg37U4X8fffW7HpeZh04x9XDxzva7tQp8dROAYaocAfXbB3QkUI2aIV4I5Nk5ah9053BJtmxbA1ozCzwg923ReO5QXdpmPKQzUiwoLwMUANA/MsqJzDG1dfpUHD9rXxV+OiKJvNCF73r2PG1H3Y5BwCjYEpKg4ZjjP9c8orr4g0eL5lPir88wAfFRnQcd4IrGmSPqqXTLAn1g+fjb+OfILGqgTWHO+PLjZRXzTo8Crk//eBkKsqBPgEI1ijRO78GeD13hTthrbB8FqWeLhpA3oufwIvs6JYcXwQetghQe/54xJ4bmg+YnmvyRh/W8jn8GB89BfKcrMy2HazL9pGtnQI5bVK9a0yO9qQpIDb+LPGYmz0MkCeriPgND5/nCv2ee9dhJxDb8PXMA9mnh6N4dmjf38NHq2YjnLTn0FTtDFOb2qFCvKqCBq/19g4bQ3+3vEavgbp0Gv9dCyvEr3XZMJ+b62ocjjAJBO6TBuARS0yIXLaZv+nVzB4wAasfRqG1AXq49D2tqgRfdUGtTumtPoX/9wT8lXInXw9RuHJ2Lzyk6Qf2HM5YT1wQvD40EGM3eKBUsP6Y2xp4XoW+A6nD17B7suv4PJJhdQZbFGhdmX81SgHvt3ZTQXPO47YctwJ1596wSs4AiaWaZG/sD2aNy+HGlnj+oCJ1GM4mfX6HFoqDA5HL2HRyrM4/lq8ZitRrmtXDCoeeVAYIH2BoqiT9+vm6/j29A58+QDrd9zE2Ucf8Em4JqTLmg01Ggh13yqGuHf6HdJVKYQCCZnn/nfssS3cme2dkFi9WQV6k6fxPd9/hA7LpQTlVzzLJh38RrH5fk/qaNcQWXx7H4vX1udnTmDCuqfI0SfyGiScR7duaUeGCOeRt8oEdnnzoUWbamjx+V4qkhofnzph9+7TmLXpAVxChBLMKBcGTquDcpGXMwNzFKtRGMJp9IX4nq/x7e0dikf792H8vnewrtEI0zrnQbpvHFPxC+AIB47D5i34a6YjnonLiBeoh31b26C21K07BOcm/Id6699BY1sJu452Q4u0X3wC4Ucf2mA65r4A8goV8wdCxTz6KRZyeg1y9LyEd8LFKXu9Tjg8rzoKR5b9Qe9w/tIHZCxfEAXTyK/rdwGNyqzD0W914/q8z68J4EQJwpquwk3ZedXXAZzPwnFo+DA03+0nfColslZrinXThYqX7Rc36aHOGFh3Fha9jkC6Zv3gPr9UtBtNoZJwdQtKdT6Np5q0+HPpRKyt92XlIByXJ/+D6mveATnq4MzxDqgqf+ewOztRvPUxPFYrUX74JFzqm+mLE12NhwsmoeT8V1BZlMX2633Q5qvrc9T3iDC0RosJf2NThyyfv2/gS2ecemOB6pUyf3cImJYK16aPR5UVnlAb5sKU42MxOvcXf6hyw8QW/+Ff4WbdqnEfuC8qGyN/Q+/sQbl2h3FPOFaK9x6JSyPzfL6R+kzlgVntJ2DkLaHyEuvFIwHHuHCTu6HPBHQ76Q+kK44V+wegh9waG53/xQ0o0fU8XNQGyBFLAEd1bzeK/3EEThHfC+CE48SYEWi0zQeKUrEFcBKap+G4PmsSqi19gzDjrBi5bSymlfz6xFE9P4YaTXfiUnAcAZzARxjYZC4Wv1AjdYmWuLK9CYp+WUkOe4MpbSfhn7vhMMxdH2ePtEXlnzpHNXizdhbyTHJGmFB9yV69CVZNaYg6djHzTvPeEd1bLcUGNw2QOj/mHBqBwbnkDxvmgpENp2KmiwZGxVvhwe7GyP/FhUr15ADKN94vXNRM0XbRPGxvHMuHDL2DbpUXYZ2XcEHNXAqL1/yFnvkj9xMK/2tOeGFtj1p5hYuRrt7zO3Rzbmj57JgH21H3EfZlACfSj5TZKleMEb73tGcR3w3ghDqsR+5uDnBXxBLA0XhhbvtRGHojjtfRBODs9FlousoNWf4ahftj8kY9r4O8D7iyGaX+PIOnKmNUGDYO5/tl/ep7hDkfQrXme3EtVIkCf43A7TH5YpTlPnfPYNic63BNVxT/jGuIGhm+znP6lX4igON3HW2rrsBO3wgoLMpg86W+aB8ZUPRyxozR6zD59HuEWWRE+XI5kdMsHG8ePMFl10AoMxfH1CU9MbhY5Akl9lw+gOWnnuPsxad44ivcrAnn3JYTteA+bSMmH/WA8DafmVfphDM1bqHKRLEM/JrCsjx2X++Fmo8uYOr2u7h45TFuuIUI75IY9Sax5+dlLD7+HI5X7+GEcEMQapAGXVdOxajwI+gz8RTOvY22Go1ECdvyDbF5UXPUimwwiUbz8Qlmj1mHSafeIdAkLUqXz4v8FuFwd36OS8/8oTJOhzq9u2L9oMLIFPnnYo/hBedx0PERTt58C+GeTKib9cLDP70xfOwh7H4evfefCepOmoJjnb7T4CT22ttzBnsdX+Lc2Ye4/UEFg/SVsf90I4Qt24i/1z2G2xc/gIFhGlTv0wvb/y6IjF++uPh66zeix/xbeBxoghzF8qNcLnMYBvrg0Z2nuPsuHIq0uTBgRn/MrhOzgUXs9Tlhyx1cueKEi8IxFC7+lgsmY8DbHei9WHg9/4jPeWyQuiAmdldh0qKnsR4fWkqUHToRV/rbRdUJxUar5evQY9FduISbIneJ/CiTNRVCPF7CwfEtvBXWaDKiLzZ3zwUL+U+0VHi+bwOajbuMx0I9tUylfChgEYZX94Xj/UU4shfOCJ9Hvqi3eCY214/lGvFd4jF2Gn1G7see5yFInSUXqhW3RXrDEHg8c8HFRz4IUZij7J/dsGdsidiHl4u9UhetRrelD/EqzADmmXOgSjEbpAn7iNvXXeCWpjCGVg/BzC1Cnn3jmvjz53YUscf24CGbsfJegFBPM4d9qbwoZqOEt6vwHZxVKNapE5aUvo/GA6/AuENkfTEI51fvwuanoXjn9BAnHvkLv70i1mug2s0Rk5bewyv/T7h58TEe+WqEOntsjSEiPcrT+Jzv36XrcikB+RXvskkHv1GcNHBfPwu5Jnz7GtIi8jog9j5euQF/LbqDZ0FGyFzUHpVzmSLk7RtcvuWBDypDZKvSEKtnN0OdaAWfyuUWpm66jWs3H+GcUAaEyNegjUWdMGn8Nsy/4CUc4TEZGGdEu6lDsLGVTVSAUqj/zRPqf0NufKOnq2FOTD42DmPzRL1/vM9Xsbf32IXos8dDuD/MiVpl7GAZ4oWb15/jWZg1SmYLwt0PhbHjQi+0/KKCrX55HDXq78BFsRe5MhOG75qImSXiurf73hCq8GeY2mEiyjWX/zX7D8VrDYNNiWGoMdkRz1WpkL9uSxzYEBm8Eb/0LSzc814oKAyQLp81Ai/ewLaD12L+O/EeivTihH/Cxf/8HQj3ArETMrX/mKpRwRtRahtUr1s4KniTwhkVaIh9K5p+HbwRmWRB4RxiPkQg0D9YyPNohJNmzzrt0CqFVWZkD3qIHV/+Dgcd4aKwlG4UVG/u48CDqPB7RFAogoQSysDQDnWqZfwieCNSIkdmbUUhIsQf7/2/3SnNsFgtzGobFbwRmeWwR/MqPxq8EQnfM1Dbi8MwbyHU/+rCIjBMj+w22qkkgz76QbgORROA/Wsd8EA43hRWxTG8Zyw3qCJDW/xRN0eMForoEnKMq5wcMPesOOmXEgXbNEHnWII3IouyxVFNWuEtbt9+Nrpv7ZnAPPW5jXnb3YTbFyEvajXAsFiCNyLDnKXRPHKVlq9o4Hn4JDa+UCPCwByNu9b8OngjMs6MvzoWgnivE+56CUtOfVl8/zhx9ZiFy5t+FbwRKTKWwMTeBaXoeETQc2w64CZUM2URoQiQxqEpUahKka96M4kMs1jLvdHC8OFjLEN/YhAqw53boPvn4I3IBHnKl0QdMXgjJnX+nrHRzbmhcz9+kH9jVyOYp1IKz2vgKtzszrjqHbPiIVRkag79E0MKKeB61QlPoorBhOe9xgc71lzBM7EcTlscgzp9HbwRGeerhl5VTIXPqMaT3Wdw0E9+QmZVvBZWbxqDswsaM3iTrIXj7sbTOCpFVRTI0aQKGkb2tvJ1xpiuCzD2tBfSVm+D82en4eKq3tg4fwDOnZqKUwPyIpXHXQzvtQ5bPCKPMhUeO1zCritu+KiRe6+FvcS0zgswwy0fZmydAbfTAzCmnIVwBBvA0NAQmf43HIFPViH0Vhc0kA5GsRfcEoRK2/5CMxMN/B7dwZbTz/E8UPgbcZdE8unuDazYcwdX3UOla5B4DjmumoWKA8/Ds0htLFnzL17cWoy3p4ZifqssSGOgxttrh9Gq1xHc+nKopJB/Y7vMx6iT76DOVRkbD0/DjXV9sGnhQJw9OQN35lRBIcUnnFy4CA1nPMbnRVPDPXF8902ceRIIjdJAKkdCHx5BvR5H8bJsa5w5PxePVzRGNWvhOQMFjH4kQyICcePweWw45YJXwdpvhpCXmN1pMtpv9UGpLv/D4YOz8P7ufDza2B5/2qeCgcoP5xYvRoulL4Sbleg0eL5tJZpOvonHQenRcf4kOO/9G9tm98CmZcPgeG4C1jRKB+FuHgtGbMLGdzFL/7DnD7D+6GM88NHAUDpAwnF76Ww0We6FKiNH4NnVqdjfN78UNDJQGsK2jXx83OsB7bQ3Rmg+Wz4+pH8rcKVvtOCN2MNw1lw0mXUXLy2LYsb26XDeNQhb5/bC3u1T8HhTE1Qy+YRDUxehx/6Yw+XVz06h67hLeKzJgTFbJuH66l5YP0883mfi5szysHjpDi91AC5c1C5l/7PULx3Qqcd27HweiuzNe+H+mXE4tKgH1s3rjxOHp+POzDLIKlz7rq9bg/57YxsCG4wrCxagxYKHeK1Jh8YjRuDJ2fE4uqQXtq8aA+eL47GgnHCDKAYa5L+IVbzObS2xx3b3rquw7F4ATAtUxfpDM/Bw+0Dhxr4fjh+aiacb6yLt8ZUoP+TaF8PdUqN6jz+xemZPHNrRBe3Tx32FVGYphf+mdsO6RcNwcXxxqY4VF33K03id7z9Al+VSgvIrnmVTwn+jb1Egc+fvXUOkHQXasqHxjNt4prZFl7n/wfnAYGyb1xv7tk2By5G/0D2fAm8uHkSLLrtwLlq9R/XSCVuOPMStt2EQvppAg3eXdqJG86VY+jYb+v03ANfOzYfPgwVw3tIRnfMJbxr2Hjsm7sDm6Ks7KtJj0NYV0mfzmV0CYjjBwKQENtyLLM+Ef4/HYXS04E38z1cNHgl52me3BzRFGuP08fE4uEAop1eMwqML47GmWSo8exoAlc9TnLwdy8p+4eEI/fxyGrHD+jdF+8SxUJgie4HsKFFI+69k4VyoVLkk/uzeHHOm98P5U7PhtKIJakarUIbccsJFaU6OCHyInO/gq3+rMfum9sRQe7yHa5wrFCqEg1J++LtKZQLLOCsMRjBLpT2pxV86Rnwx9ClO3QyRTkzNp4eYOCS232EF/lz1VDiNBepPcH0ddediUr4Blo1qiHFTumBwgdhvvKOWm9dAFedvKBP2TfhPaYTqvTpjRu8mWD61HorFmi8G4sIwWkKexPhYQc44dDlAyhPTkkVQL61289cUyJjOLM6TI/7HuBrOZ+/jsZjNyvSoUzNbrDdzEqUFMlolxcGfsDwNvHYXZ7zFb2mECtWLwFq7+WvKNMgQ5/cJwbnzTyGW3QbGOVCzwtctUFoKpC9vj2Jipzahgnzh4jPEeyVAoWCJO3eFC1StYigj/ThqPL7rItwcSU8IJ4Y9Rkxug5EDOmNF96yx39xEW5lIrf5G1F+m+F4hlwjv+RUdnRt6SWGBFh3LIruQcZqPj/Fvx9Gwb7ca/+54hKd+8g9rkgN//9MZc/uXitkaldC8D3iMYzeDpXLApEgB1IjZ/BxFYY4a5bMKZ5HwGcWLu+P3ClRKdsSey2tWoM0icdi52HO5DlYMLyQvPy+UgfPXY+7DEChsK2DR3GhDckWKNKjWrzW65VBA/c4RE1ZHln0maDNnLt47LsTrueUg3qNFhH+CX942OLftT/QqnxGZc5fElLVjcXrFEFyeXwVZhbt4Q2NDGBtFlYFi5d9Y2GYoDWFUIGvHQXATXvP9+XaoFedFKqEUyNNtKNyF93l7uAWknvERIXjibolBayfh7sq26FMzB3JYm8EmT2EMmjkU61umF87BCPjePoLhm99Gq/OE4Oy89Zgj5B9Mc2Pcoj/RKXf0oLgpCrXsjK39cgmPwnBv7SZMuSmfY6ZlseGq8F0d52BjEwspT8I9glFw1Eicm1ID1bOnhX3dVjiyewT2bhiLzW1+YLi30gaDNswTXnM+bg/Oqz2vA97iVfq6OHJ8IvaProlGRdIjg6UlClSpi7UbeqBzFqG+GxGMq8t2YJlr5AVHEPYCq9Y5wUsoRAyLVMW4htGGcIpMM6HTgKrStVvj44zjkd9LlrrxX3gj/pZX/kI7qVFIjdcBmTFz20gs72iP3LaZ0Gz4YFzeMgDH9/RCtyzCcSAdH5H1b+E4USql40P7TwlltAwIuLofvVa/gr8iLTpO+AtDPw/TFwnXi/JNML1NRig1Pti74AQufb5oa/DG4S5uBInZlQd1C0dr3lOkRrE//sTp5fVQwjQCnteccPubd/OxUeHm9lM4JdRPDAxzoEf/MtGGhotMkL95U3QX67dCfeK8w7OvgkShd46i7/IX8IswRLEefbC9T9SQYpHCMjv+mtEP/5Y2/kZ9Ir7ntkDzEZsnbcHW12oYpCuOuSv+ROcYQ0QMkblCY2yfKZzXwrVHvM7EKpUVMn/ZSzwOqa0tYB7nrvqTp/E+379Ll+VSAvMrXmVTwn+j7xLqPN++hmgFXNmnLRuEEqv8gD5YHm3ouMgiX0UsXdAY5YSfLvDxKfRb/PTzZ0lV6088uRm93ArDxb13kbbbEDw8NAAz/yyJcjksYWmeBvkr1saKCZWRS/hKGv+nOH07Zj1MIZdfRnIQTCzYlEaR5ZnwL9pnTtj5+gnHz7oK13cF7EoVRqlokVBFmmzoMmU49vbIBjOhLDx/8eVXAUpl3lpYNK4K6pS2R4chf2L4N3rfiL59RiuzoOM/f2L5FO2/ZVM6Y8mEDpg5tAkGty2NqrnMohXUIg08X3oJJ6bwUJkRA7ctj4pwxfEv5GF/dIy1qZd+TOxFnPr9e7yQggxCYdRlJAJiyfuY/5Zhd/NoXVSV6dHgr9aY2CYX0moC8dzxDjasPYBho5ejWYdJKFZ9MLKMuffVAZjYlFmKYujIluhW3Awa33e4cuoSFizYjp4DF6BWi3+Qt/wQ9DobvQk9isrNA87+2jyxy27zRVfemOK+p07IMa6C8/P3wv+Lf5se+XN96+QUCpjPAbLEFf88VePlU09tF31lWuTJ8e0uznF+G5UXnkhj7YVfJl165LSIu1hSZEiPbGbiK0XA6/WHaBPk6pYirQ3yyD2g1B98orVsKZC9en1MH1IVZS0j4P3yGQ7uPomJU9ahw18zUaHBSGQpvx5HdHpiJP576ubc0FcKZKjbCUdn10LljGKlJRQvrl/GxFGzULDCcFTsvwNLzr+DskwV9K+X9YsxxwnLe5XbW7hK85gbIH2W9LCM89BWwCaLNSykQ9sfrq+ksDolR+y5HH8GFmj3b3/8U8X668YNhRWaDWmIWtK1NBSX917FQ/mypHl/A/P2vpPyz7pWHfQpENu11RCF2tVAHaFwi1C9xfqNd+JslddNj+GYklWvzx+VwJ7epqmNpaC46vU1TFz+GB4xjmkF0lVsiRU9skP5+jFOuf5swwR7bMfwE9ftuHfVkzzV8fn+XfEslxKeX1/7ftmk+/eMFx31Po6iRNHeA7BvQEFkjuWFUuXPgrxi2SiUl77i/IvxlLBrcQJ6e0tSC2VzN5zcNRJb+hbA96ay/M7TPysCQSGRUU7hBjRG1D6OfzEiX6QrEcFhn6OCBgoFjGLL+xj/YraqiAJdbmPaiJmwLz0I+f5YiK6TD2HtRXd8NLJGmVpVMaxxljgL2MQTiicnD6N7h9GwKT0KlXquwZAlF3HyaQCMM+dEk7b10fbLSSpkmoBgaBdsMkCq1CbxPO4ScoxH/a2BcKKbxmdId6KIb55GwC9A7mJqYAQz05+oIUSnCRPyRXoV4WWE/PrmyxjCRGwREUSEhiKyd7rOGaSCxefv88WbBHniwNK1qFVrEGxqTEWz4dsxZacTHnorka1ocXTvWRZFdH1iJPJ76ubc0GcmKNCsEy6enYITk+qjdfG0SC38vOqgT7h65Dj6d/0HeZuvxpI72l5IMSQg7zUhwrEt56tYFnzz0BaPfflhiFB+UzLFnssJYCB21o2TwrY4GhfVnkeq56645q09W/2v3sdFaSlNQ5SuUEDu1fQ1RTp7VJd6FEfg042HuPK56fQLOukx/AXhR4n7NfWs1+ePSlBPbwUy1KuBtpmFG54If5yZNwv5a01Hl3kXcMY1SC6HjVCqW3ssG9cELWx/9jOzx7bu6Uee6vx8/674lUsJzq/YfLdsSoT3jI9E6H2cOrVp3PecqUwQWWXXqMV3jZ8EXYsT0ts7HhL4518ygFUaMZIm0PjjndfPRsxJVxRpUiON9ENEwMvLL6o154do8N5hB6q1WIwxu5zhnq4QBv83ADcuLYHXpUm4tKEvVv/TAn9X/LGVo3RG44cTU6ehXO89WHvNG+mr1MOiFePx8u4ivDw+FscWd8PcwXVRM3PsxZtCuDE1l/MkKFBb6fh5CTnGlUhjkUr624iIEPgkStj7JyUoTw1gLuSpNktD4R8Yz0JTaYa02oMVmiDhdb71MqogeMvvo0xjjrSxx+oSTvh9/OXokEFay8+RcI3XAwxvOwktZ13E+bfmqNu9I/YfmIVPd2bj/u6h2DGjPSZ0K/jVClsJkRTvqZtzQ19p4O3ihpdi5c3MBnU6tcXOfbPhduJvLOlVFhUyGQvlmBofHlzGwD8XYuajqNIyoXmvtEwNbb1abBX7dr6q/IPkY18oY9LG2i5JyQF7LiceobKfN4eFVO+I0PjC44OYaWq8dP2gndBSqEBnz2oad71EYYkcdqmk5zXeH+Dy+Ubr19OvXp8/JqE9vRXWJbF4fXf0K20FY6GMDHB7gg0L16FOnSHI2XIphm+8j2eKvOj6ZykUjUfXJ/bY1r1fn6d6eL7HWi5pJSS/4utXvOeXfknv4wSfAgm9Fiekt/fPS+Cff0mBjAUya6NKwg3Q3ftuST7EhrQU1llRSOoiFwH/Ry+kLos/LOgx/ht3EreFgjZ1kUY4vn8w5vxZEqXtfm3LfOCV/eiz9hV8I4xRus9QXF/bDv3r5kTW1D/2qQyzZkZ+6S5VAw8XT3yKV1mekGNciSL5bbURZPVb3H+SgABn5NUtQo3wBESbE5anSuTMl0kbKFT7wNkl8Js3qHESKifF84mTbAq/jO97PI8+AdkXVM/c8ERqRVEgd4Gscba8fJdK/c2gpubjWzz7pK1o5CyUXV4eMhRn52/E/IfBiEiVA6M2jMfhcbXRrKg1zBLtxEia99TNuaFrkS1NEdLS4/E9ylVOB1CzwSS0Wfbyc69E8XdNm7cY+o7qgyvnZ+D8P2WQ11j49v7PsXDdQ3l1g4TnvTJLNhSWbsoi8On1e3wxv2g0ajxy9tSO/xYqDsXs45oHilIe9lz+cQawMIuaG0NbJgj5F6wdMgADJUyMIp+NnZh/kohwId+1D/WCvvX6/AG66OmdOk8FLNo1DU4b/4fhDXMhSyohDzSheH3nJmb/Ow9FakxC140u8bwmsce27ulBnurd+R5buRQp/vkVf7/iPWNKnr2PdXEtTkBv758Uv/PnG0xKlkYTqTlSg6cnruOqFIGLg58Ltm530raM6oFw4aZOFKGJiH/Ghss3hhERwutIW+Ll8+ru6m91bxOeE56PWVjITPLgj9oZpWCB6oUjtt3+ViYH4doBB5x2075T2OOHOOspvq4SFVvXRoU4pqTXCPkU6cvF6HVPhXsXHuON+BMZ5UHXLrlhpX3iC8Jv9znfo5bHlJgVQJNK2m6ZIXfu4OD7uH+g6N/ny+8W/2NcgRy1iqGkWFJpfHH86EP4ipvjwUC4WEhjYDWBcI85cDyGkJd3sOe2HFgRMibmV0l4nppXLI5aUheDcFw7deeLVRBiivq7L34XoXJStUFR7Rj+8Fc4dVFcPj82Ktw9fR9Phc8rro7WrEH2uLtTfkdEoBdc4ryb1uC18F1uCtlqYGgrvE8O7cUl7DVOXP0knd9GpSpjQMnoo5CjETIrKru+OHh+VlK9p47ODZ0SbmjMpDhGBD6+/fTVkpGfhb7DgeORFXzhWP3iMxnmLYq62VS4tXI9JjnGcrIaW6FKt66Y0SiN8P2F9/L4CKm3qy7y3iQ/WtVIKwUnw52ccDKuSZuE9zp47h20p2JJtIplxTZVYCB8f2XdhhIJey7/uAj4y/M7GBiYw0ZaWUeBtJap5fwLRcA3e4Kq4esbov17RWpYx90snPT0qNfnj0pYT2/hu/l64qFU70yFPFVqYuaSf/Dy2iQcntgA7UqkgzjdXfinl1j/3xw0W/H65xqE2WNb9/QiT/XxfI+tXBIkML/i5Ve8ZyySZ+/jhF6L49/bOz5iOZrVCAyWXzQiHMHBP3mKmeTDsP4lYCu8surFBYxa4YpA+anoNB+d8e9fC/HP1QAovrgLUwUGy3NbhCHoWzfHMk2oCuHS/hEIDg2L9UARo4HaaTY0CA+PdQ+8fe8nnYARAb54G89eXGLX1/fSiwTj7YdYPrwmTPiM0geBOlwtVdi/Fg4/f21hoPnki3dx/cZqH3iISxMIIsRoZ4yvZYQqfzVBU7EgUb/DmhnHpNn+vyKc7OfnLUCLOc7wMtDeNChSG0sRQ5H3J3ECtS+FwvnIdjSe+UB7QRWOk9BY40Nq+AfIkXLx80nb4ssA5qZyhDsiEF5S74gvBHli15T5GO2gzbAI4biQp1aRmaNFj+rSEtURAY8we+EDxNbZw9fpDLoIz2m/Wwh8tSVLlAQc48pcVTGsoZVwaY6Ax8G9mHg1tr9U4eW5azgVY3m6mJRZcqCYtZgboTi//+rXk2GFeuHMmtWo3GIVdnkqtPkW/OXwJB3kqVVJDO2QRZqg0P/ycUw8H1vwJQh3Nq3GxMjXCAj+atI08yr1Mbis2BU2BKfXHoVDLBOZqV9fxoRt7sLZYQC7Bo0xIM5lyb8vItwVq1c/grecjk71+gqGLnMWflMD2NRphIGRg4gVqZBabB0URPgGxDqBcqDLTQzrvhvH5ZpmaFi49vj/kioEfnJGBn+rxUGX7/lNOjo3JBoEh8ifQa1CWCyF3I+U2WLPrJIFtD2zAq9dxWaXL18oHK8un0DXPyah85FPUErZFEuFzjgH2jfKDMPgV5g5YBWWPY6tGS7yuqBAtvxZtF1bdZL3qVD3r7qoamEg5KsT5i9/EkvQVgPXPQew8qkaEQor/NGvNkrGuCaq8GDjAuQq0R/pK03HlNv61G2AEo49l6OIPUrlh7ER6itPXmjrJMqs2VFSGlajQI6CmSFNKSRcx1xe+cZenohUHnjgqj1Hldmzoui3xnDoWrLp9fnjEtTTW/UKE9r/g3L9jsAxWv1RaZkZDf/XBtv2zsCz7e3ROoehtDrXlXWncPIH7gciscd2dLrpzaoveZr053t8yqWE51d8/Ir3jE3y7H2csGtx/Ht7x0/ULxrqidP7L2H54s2Yf02lPcHDXbBSuPFftfsqjj/70UqjAllbdMamnjlhZRCK64sXoMF/DrjgHqo9yUK9cV24cW35xwKsNW+MPdPKIZt0H6bBC6GSvmHrIfRd4aSd8Ez1Bqum7MLCnVdw0Onr7kZBLk7YstsBc+Zewk3pyqjBje27MXf7JWxxcJdeI/D5Q2Gf85gx84K8TzjOr9uGmdsuYevV90I6CA/OXcGalZswbK+XdIGNCHbCtFF7sHjXVZx7/WOFpq/zPWzecQz9pl7BC+lPwnBq6TqM23ARW8T3CfLAKSF/Vy7fjTX3td8k5NpJDF7ugA0HHsNVfGP1R1w6dBFL52/A9IvyBEnu1zBm0nGs2XsbjpGz2gW64/heB8ydshFLHmg/X/h9B4xYfAZr9z3CU/nIUdhVwPJ5DVBWuHkIuHsIzbpsxqrrH+VATzg87lzD+N5T0WynKUYv74J20lErFLL5yqJDSTHyr8adDZsxyeGj9uQK9cX9M6fx95//oPSQm1BULYJ84tVF5Y5Dh15CmlNMpP6A8weE77pkI2Ze0n4P1WMHDJ15Svh8d3AnXuNQlSjUuDwqiMs0qF5j0b8HccJd22Mo9MMbHN6wFfXr/yfcyBmgXjVbaUIs1dO72C5UfKIzKd4YqwbbI72BWqgcrELjfy/ihhRl1cDX1QkrJs1G8XaH8TaDtXTjKB6Da6btlo7Bw48jgy3xPcYFijRoMaYzeuYWPmGYGxb0m4/B+1/jo/QzhsPz/k1M/Xsyygy4iKfarxc7kwLo0yEHzITc9bm0HbXarcH4teexevMxjB+7EKWrjUHdGY+Q9n/9sa+HnfRdVC8f4UjkwSHRRZ4aoWy/rphQ3hwGqndYPWQ+BuxyxXvpeA7C00vnMKTzeFRf4gtb+fhSOV/A8FnisXAX9yMjOcpMGDClHZrZKhH+/DTadd+OLQ98tYWnJhhPzh1F+65bIdynw7JwPaz7t4wUQIsvA+Fu/9X2Zag94hROvJRX7RCOb8eDe9Co/XrsexcBM/uaWDWhvLYwFxlmRttmuSF2SAt3Oo0Bix7gtZSd4Xj3+C4WT5yDok1WYqdBYdTPJc5Er8bD09dxO1owWP3GGVuF8mjqP8dwSjqc1Li3fTtGr7uAzadeRU1cGUkH7/mjEn5uhOLxRbEMP4rRO15oy9JQZyyYdFS6hohl6Y+U2VGMULNTDZQSrucafycM6zgd3eaexMrtZzF77gY0bzICBf63C6cta2LPynooKB3k73HmrPsXF0WhIty4DEoIB3C45x30bzsZ7RffhOMH+QQL/YhzK1ZjxHHh3a2LYESXvNoeVzrKe2Xu2lg+tgSyGKrxeMMyNJ58VXhv6ctDE+CJo8uXo+HEe/gAU5Tq0R0LGllGuzALwl5jy6b7eCN8XJXXUyzb+VR+glKK377nciSh0vzylbdwJsVO7XEHB++L9VMl8tUpjVLSiQqkKlsaDaVAglBnuegU581C2KM7OPJCfFKJAsLfxwyUJq5k0+szGu1I7Yi4XzIBPb3F8rVh1YwIu38MvRY9i6o/fmaITGXrYs2oMsgofA6Nz0e8DvjRI4w9tmPQSW9W/cnTJD/f41Uu6SC/ftqveM846LD3ceRxqPrWBO3Cc6o43uIzoUDTFmlxl2kJuRbHu7d3DGoE+Ab9UOBI/JQSje8jTB+xBn3mXMW9zy2YIbi7Zzd6Dl+Diad94zx4vyLcpNYeORwXZtdGdZtgXNqwHtUq94VF0X6wKDwUFUZcQVD9v+CwtA6Kf74ehePS2rXoMnYvNj2O7G6lxpsLxzFo5BqMOvROuohF0cD74mF0G74eI7a/gI/0kSPg+/Aiho9eg66L7uOdWoMPDoeEfTZgzJ43cu8D4YZX2GfkmDXotvqJcER4Y//ctegx7QJuSjMXidRwOX0YA0asxdzrP1JLUsPt5D50G7UTq+9Hzp4vHpd3MeW/teguvI/m0wNMFvK316zLuCvnr8b/FdbMWI8uI07AQSxRVS+wbNw69FtwA06Rv31EIK5u2YEeI3Ziq1QQCe/mdR+TR67H0HXOiOykERHkhi3zNqP7yCM48/mIUCBD5dY4vbMHBpa3gu/NM+jZbhgsC/VFukJ9kLXlWmwMLoUNO/phYMFoS0oqM2PwvJ4YWiYNlN5PMLHLCFgX7Y80RQajeO+DcEhdDiv2TcTpmV0x939ZkcYgFFcWTIFt8UGwKz8F/950xnzxu84WjiXtgFdEqD7hxMqt6D58F7a/jPx8P0eZtx42z6uPKukV+Hj9IBpU64+0xfsgTbnxaLnQGeZNuuDqseFYM70d+hZIBYOg55jQ6m9Yl/kbWVrtw3XpjDBB6d4DcHRiBRSzCMLNzWtRvlwfWBXtjfS15mPS/XT4e9W/ONpBG/QQjzO3i+IxuBbjjn2UtkjidYxrKTKUwKItAzGxfhZY+T/H/MH/IlORfrAuLPwmrTdjZ0B+TNvcD31iW/7vM0OU6Nsb6/+XE+mFG0N3x0uYNGkD/vpnJybvcIZf3qpYsXMiTgwpAlu5PIwIccH4pgNhXX46pjzSns06yVPTnBixYjAWt8gKS/8XWDpiEuwK94VVoQGw734QNzPVxcGDg9Erj/b7RKi9cVI8FkbsxW73yHNO+Ea5qmLb9j4YVT0jQm6fQKemQ2ApHHdpC/RDgW67sMfDHFU7dcGZLa1RR9s8GW8GaYVjeEMLFH92BM1qDkCaYv2FY2Awygw6jFPvTFCkSVsc2dQBjaOtFCOeTwW798Tmv/IJeRqA8wvnInfxvtLvZtdwMSZeM0G7qf/g3pZuWD2uJoqZGyDw9gFULNMftmUHo9I8F/jfPCmVR2P3vdFOlCYI93yIWRPXoeuM69JyrDEl/D1/5EKglcBzQ+OP44vXCGX4HmyILMMjguG4c5dwDRHL0uAfKLPFbVGMCzXCttk1UTatEuHvnmPdom3oNXoThi+6gPMBmdFj6hjc3dgS9T//TmG4OncCMhQfjOqLX3++ZihzlUXrYsbI0vgPzKxrhHMLl6JM+b6wLDEQaYsOR63pDxCYvyIWr+2Jvz6PRdBV3guVura9cX5xIzTIFo6ra1aiTIU+wnnWF2bFxqDRjFt4ky4/+k4bgdMjC2tbFqMzTI+SBYWyWHxsYIrChW2lzaRP2HM5IT2Xo6hxfccJnI3tTlX1HpsmH8F5oa6kTF8Co7vk/DxvAswKY2j3/LAUauf+l09i5vVYblHV77FhgQOchJ9JaVMaY7t8OQRXlz2Gv5Zsen1GUpjAXJqTRwNfny8aUMNCESQd7vHv6S3WYUo1LYPChmG4vWI5Om9+80UAX0sl91Q3tMuCwj88BIY9tmPQSW9WPcpTnZzvPyM+5ZIu8ivSj5ZNunzP7/v2NUQXvY8FocHwky5sGnh9iHuYpvqdtxzIEz5LsNyY/gWFqYk0uiRCE4xPPjH3CBP+RnrthFyL49vbO1LYGyzpIdxvFx+AbO0OIdbTPRqDiM+TrSQSVQCeOD7B1ade8AoWDq4MNihXqSBKZBTb8ynpqPHJ5Tkc7rjh5acwGJhZIl/xgqhVyEq4bYtLCF7ceoizD73gozFBertMKFsmDwpYRz/DVPC8fx/H77zHR5UR0mfOiqpV8iFXYg5jDPyAyxce47Z7EDSm5siaOxeqlLRDhs+1OUGYD26df4BrrwMQbmKB7Pb5ULdMRuHyEUUT8B6XLjjjvmcwDCzSoWDJAqiSx1wq5FXP7mDlrSCkT28J2wyWsMuYFnY25kgdWfeILt7HuAb+r57j7G13vPAKR2qbzKhUxR6FxKWVVC8wrvEUTHmiQY5Ow+A8qWAcv5MGPi5PcPKGG9wCDWCZMQOKlbVHadvIvTX4dPsqVl+L1npgYIEKraqgesZoJYdO8lT8Ps9w4tobvAkQPoutHSpUzIcC0lJRajw6dR6X/Sxgk1HMUytksrGCXVoTORgQnVBhfO0Ch1tucPUKhsowFTJmyYzy5fIiX4LGMGvwZu0s5JnkDFX6yth/qTuamKjw8dlTnL3jCTdfNUzTpUfx8oVQPnPcZ4Uo4I3wPa+8wis/DVKnTYcCxfOhQp40UTcUgrD3L3DMwQUu3mqkSmeNomULo3K2+M9EmJTvqbNzQ0c0fp5wuPAUD94GQ2FhhVwF8qN60bTaeaDE532eY/N2Z7h/viYbIEPJSuhW3kq4TH4t6N1LOFx7iWcfQqSyMFdhe9QqklYaChgbneW9Jgiud57gsvMHvPNXw9A8DXLky41qpWy/vaJa6HucOfgAruns0a5W5m+u3kFJSOy5fMwFz90eYfnya3LjVyoUb9UYfcunQ9ZiJVA/7w+ef8JN7ulZ89F6xQv4KtKgcqeWmPxXeVQWyiKF2KvzxDlMm3cKjrla4tCiyIYBsefydVxw9cKZzUexRQqcKpG1ah0Ma5QVOQoVReNC5jHOAbEX3L47XvBwdMDUHWIgVSirC1fGuI75kClTTjSrlhkGzx9i/10vvL52FtP2io1fBrAS9hndIR+y5MiHDhXM8eDcXdx49gQrllyUG7+UyF27Af6ua4dC5cqixudup9+n8TiJ2tW34Vy4AibGBkidtyL+G94IXavYwEIRjncPHLFw1i7MvvgJ4amzoP/CYZhf64ueaqq3WNNvJvqc9IbGOi8GjeuAEQ1zwMZYuC65PMCyudsx4ehbhFhkx9AlQzC9itgKKhB7DB9+gqfCb7hU/A0DImBgmA51u9VHG/v0KFG9GEqkje91J+qaE640hInCGAWbN8fUvpVRJ4ep8Lv6wvHEaYyZcUy4AVfDzL4Wtm2M3nCgwaOVM1Bh2lP4GZij+oCe2NC3CLKZiL0AnbBr1xnME8q98GLlUPz9NRx2FV6jZDOc3dAcZeQLs9jrc8f1t3h55Sxm7Nc2HBhlKoy//yqDolmyo0GtyOFaX1B7YkbrfzD6jhqpC9fDntWtUc9GJbzOJUyZ+xhFF/TFAKl7qgYfLu1B477HcMPfALZlamDi0AboWMYaqYXfzuOOI5Yv248FD2wxaU2fmI2FandMafUv/rkn3MCJwelGDfBvz6poXMRSOIvC8ebqafQfvgeHPFKj0ZRx2N8+Yyz1hdipnx1DzZY7cUGoi6Qv1wSb5zRGvcxGUu/iU0cvYvEaBziocqFdQR9sOfMWqtR58O/WIfi3WPQhHKG4tXw+Gsx0hhfMULZjWywaVBFl0xvA1/Uxtm85huk73ZElvwmuOYqNzApkqVIXwxtnRa4ixdC4gFwRjte5raX5cAf92y/DcpdwKNLmwYDx/8O4JtlgrRR7bN/FurVHMO/4e6gMQuAj3C/GVV8MczqIKq334UawcJ9pkwcd25RBeTtD+Hm8wSXhXD7p5A/rig2xvL8hJv1vH66rjFFhyFicHpDt83VWr/I0vuf7T0houZTg/IpH2aSb3+jbfuQaoi1+1Hi6Yylqjbst1M0sUKlre8zvVQalMhhKvY+Pb96HIQtu4kmoKUr91RfHojVgqd2fYveVN3C+cBazDntIQRSFVW706lcVFbJlQ/3aOaR9A549wL5b7nA8eAKLr/lI9znm9uUxokMB5MyVD50qRTV4qV2OoEqD3bgaboxS3fvj4KgisAvzwtndhzD+SlZsXVpbO5dYAs5X9bNDqNhoL26EC5/XIjPa9GyGYW2LC99ZuB8Ue3uv34yus+/ijWUxLN87MFqDoXCO3t2FEn8chdS+rrBCjzUzsap63PeRiR/AIaKf98MBHPpxsQVw5KeIiH6S5v0Z1K28GWeEytrXlKgwYgou9rH54ZtOIBgP9u7FoDkOOO8h9qRQILVFKiiCgxGoTIfaXTtg+d8lketzuRWKTT37o/Op2NolFSjQawzujsodLdCogfv6Wcg1wVnuHRaTUak2eLyjHpTrZyD/5Kex7mNSsxtCVuTCpBb/YvzDL1vyRYZoPHMBDrWOVqv9js83Sqo0+HNWb5S6vhvTDryAl9IUFoZh8PVXCRVzBdLal8HY/zpgcLk4bsZC32Pfgi0YuekBngs3O0pjU6QxCZf+XmNgjKxlK2P82FboWiR11N8HX0Hz4qtwILYvq8yEEbsmYkaJL5uFf1T0a04lrFuYAw4zD2PLvQAYCr+rYUgQ/MKEKrgyNYo0bIJF4+uiavovvpn6Iw7NWIme657irfAzG6YSvpMyDD7CHY11geL4q2dTDGuaBeEO21Fv4GnpJk+ZygzWFkbI3b4/jmQ/Atuhd4Qj5WuGuRvg0tE2KBc9Ev2ZBh+vHkDLgUdw0UsNA6NUsEylQoAmLWp2aI0FQ8tAuMf+zN/5CsZN2INV1z4JR7H2c1oohN8uSIGsletg/pTmaJ7ty5sRDZ6vnI5i69Lin25G2LPyGhy9NDA2FydHDsUn4XdTpM2O9kP+xMJOOX9y1Ukh70/vQsfRp3BJHAqsNIaluQJBfiGISJsVTds1wLie5VA0/AGGdF6ORY+F7cI+adOawjRbNezZ1kLOF7E36mb8Nesa7ovRL4UR0pgBgf4RsCldAcOHtkQ3j43IECOPlSg2YDzuDskmp0U/e25HUb97iGn/7cD80274KBwDRqaphbwNhW+4GQpXKY/+vYvCddw8TPtmfVEN16Nb0X6cA256q7W9OSQKWOYogM69WuLfNrlg9eIwKtXfg+tSkSJ8Rss0KNNjME73zyac2XqWp/E5339CwsulBObXWhtMK/uzZZOufqO4/Mg1pAFyf77ohcPlxAEMnH4GJ16GQKM0FD6PEUL8gxGiMUBqu3zoMrAdprTOAXnqIEnIsRWw63cN3rFEKAxz1sP54+1QyVgDlxXTUGD6c+FdvmZc6X8I3VxTTgk0ATi3YBHaL32KdyoDoZwRvnNYKDS2BdBrRAdMbpQp2nkTz/NV/Q6z243HAtum+NvkFmYdfIn3akNYpDGFIigAvmEKWBcqh4lTO6JP0ZjXSI3XDfyv0XJsex8BgzSFsfjQYPSJFuD5EgM4RPqIAZxEEL0yzQAOEemp36zncvQbpa4rZ2NtbSOEebvj0hUXOL8NQngqC+QoaI/aJazxI517NX7vce36c9x/4ws/lRIW1ulRuER+VMxl9hPBNF2I7ZqTfHp9ijQB73Dh3CPce6dCatvMqFzZHgWi32nFEJ+e3tEEe8PxujMcX/giwMAUNtmyo0alHLBLyHWaPbZj0ElvVj3L08Q633VWLukov37Kr3jPb4lv72OdE86jl09x5PJreISZIEv+vKhdzg7p4voMCbwW/2xv75DXj7Dt/AdkqFAWjfN+u1cUAzhE+kjlijGNpmLaUw0ytx8Ml6lFGMBJMA1ertG2LKusK2Hf5R5oykwlIvqlYrtRShnYaEBJgA1+iSLllkuUEsTdN4eIkl6oH166uOPW2Vs45y52T4/A+2tXsen6Gzi7en+1/Db9CBW83d/i8eOn2HdNO9t9hO9LHD3pikcub+H+edJvIiIiIiIi/cUADpEeCXt8Ao3rjUOZXsdwTZ6BPPzFVfzVbjwKNFiP3Qle5eM3pP6A5f3HoWDDGRgir6YXoXLHioGTUKj2P+hxRNfrjRAR0Q/TREjlsthgEXPp4uRPHSE3EEQk0nK9RNHOm/BvLbVMPycFl0uU/HEIFZE+CXiPmw8/xbpsHQzMYF866+dlwelHheK100u4frkUpcQA1rnyoEhGZioRUVIK8/2Ilx+C4OGwFx2m3oWnRonCHf7Cmi7ZYGVhiTy28Zt89NcTe3164a2fD47PXY7hp32hMcyMnnO7YWDB1LDMkBGZ07D9lBJI7LHt5g8vl8sYMETb6GeUswKWTmuAyhnMkSlHWiRo4c7fVMotlyglYQCHiIiIiJKQBs5Lp6DoLNdYVxAxqdoF7huqwVpOJytqT0z74x+MuRtbbwhD1J86D8faJ8pUofQbEZcdLvnHUTjFdpgZF8Xqm4PRPY2cph+UgsslSlEYwCEiIiKiJBXk/gq33gQLt0xfU1jZoqK9lbQiTfLDXp+UBNhjO1Gk3HKJUhIGcIiIiIiIiIiI9ByH8RERERERERER6TkGcIiIiIiIiIiI9BwDOEREREREREREeo4BHCIiIiIiIiIiPccADhERERERERGRnmMAh4iIiIiIiIhIzzGAQ0RERERERESk5xjAISIiIiIiIiLScwzgEBERERERERHpOQZwiIiIiIiIiIj0HAM4RERERERERER6jgEcIiIiIiIiIiI9xwAOEREREREREZGeYwCHiIiIiIiIiEjPMYBDRERERERERKTnGMAhIiIiIiIiItJzDOAQEREREREREek5BnCIiIiIiIiIiPQcAzhERERERERERHqOARwiIiIiIiIiIj3HAA4RERERERERkZ5jAIeIiIiIiIiISM8xgENEREREREREpOcYwCEiIiIiIiIi0nMM4BARERERERER6TkGcIiIiIiIiIiI9BwDOEREREREREREeo4BHCIiIiIiIiIiPccADhERERERERGRnmMAh4iIiIiIiIhIzzGAQ0RERERERESk5xjAISIiIiIiIiLScwzgJIbQ0+ib0xiGhoYJ+meUpj6Wu2vkFyUiIiIiIiKi3xUDOIkg7N4ZXHALhwbmyFu3J/5bth3HHK7jzv2HcLqzDM3SRkCtVkOtKILBxx7AyckJTg/u4dblk9i1dBhq2SmgUWtgWLoB6mfiT0RERERERET0uzOIEMiPSSfUeDK9MorNUKH3+l2Y2SwHjOVnRGEXB6NQzfl4rgIM8w2Fw4PZqBh9B4HP3s4o2GYn8kx3wrlhuaGUtxMRERHRD9AEwv3OBVy8+wJvfUJhlC47Cleojkr26WAo7yLshLcX9+BB1paok4O1LSIi0n/s3qFrmvc4f8ED9efuwdwvgjeACo9OncMrlfhYCZtqtVHyi+CNKE3J4shrWgINm+Rg8IaIiIjoh4XCZf94NC+cBdnLNEGPf5djz4mTOLRpFvrWskf+mn2w4NQLBAl7at4dxrheK/FYaaD9UyIiIj3HAI6u+TvgYnh3TPxftq8zV/0Sp84+hhS/UVihSp1KSCU9EVNEUBBURRqhSR6Gb4iIiIh+jD+uTW+ISq0n4+CrTGi/9ApevLqPiyeP4fjZq3B68xQH+ljhYJciyJ6nEPIWao2NitIoz+HqRESUTPCKpWMhVy4ipE4bFIrqn/uZ5v1pnL4TDnHMmkHq8qhdzUz7xBfCn72Eed0myM/4DREREdEP8T46DJ3Gn8M7jRVqz9iPdb3LIkP0upTCCoVbT8PRk1NR0tcZrh9VSFe6AgrHUmcjIiLSRwzg6Jhh2ZFY0Nc+1qFPvmdP4UawFL6BcanaqJU+9uw3rPwPVg8uEm2MNhERERHFSe2CdTM2wTU8AgrrRujdJV+c9SiTQn0xe0AJGBmYoHiFsrH2hiYiItJHDODomKF1NmQ2lxMxBOLi6Svwk6aMNkThGrWQJY7cN7TOjqyW/GmIiIiIfojPeZy5FSL1claks4FtLHMMRjFEgYb1YG9ij3IV0rMyTEREyQavWUkl9CZOOXyARnxsmBPV6+RnDxsiIiIiHVB/eIeP4dqFVdXuznjsI9W44qTInAk2mUqjQn7WxoiIKPlgACeJqO6fxHk3tfRYaVMNtWNbfoqIiIiIfppBuvRIK68mFRF4DqtXPUSYlIpDuBomJSuijImcJiIiSgYYwEkSajw/fRZPtMtPwapKHVRKwgHX4UIlhYiIiCilUlhXQZViRpBCOBFBuD6jByZd9pWei40ibR2MHdcIaeU0ERFRcsAATlLQeOD0mftQaZefQvna1RD7+lO6JwZvevbciaCgb7ZDERERESVfyvzoNrAZbOSabYT/LUxv2wWrnEO1G75kURAVimdgRZiIiJIVXreSgvdZnL6pnVjPwLgUatdKugnz+vffC0dHN4wde1TeQkRERJTSKGDbbh4WdsoFI203HKjcD6B/4+7Y4iJ1gSYiIkr2GMBJAgEOp3AlQDuxnmHhGqgV1/JTOubm5oOrV19Kj8+ceQZPTz/pMREREVGKo8iM1kt3Y1rNyJ41EQhz2YoeDbtj2wsGcYiIKPljACfRheLaqQv4pF1+Cjmr10FSLXgwbdoZ+RFgamqE+fMd5BQRERFRCmRWAoN37cLoclafgzghTzehW8M+2PuGcwISEVHyxgBOYgu7jZPnPSFVGZQ2qFa7JJJi/akzZ57i8uUXGDmyppQePboWjh1zxv37HlKaiIiIKCVSpK2Gifs3oleh1NpJjcUgjvNadGk5Hhd8pA2JYtasswgNZU8fIiJKPAzgJDLVs9M4K4+9VlhVQZ0kWH5KnLB4+vSzaNOmOHLnTi9tK106K+rWzY+ZM89JaSIiIqKUSmHbBAv3L0aLLIZyEEcDf8eZ+F+/HfCQekXrlthotmmTI4YOPSBvISIi0j0GcBKVBm6nzuKhFL8xQOrytVEtCZafWr78CoKDw9GvXyVERGjn3jEwMBAqFdXx5Ml7HD/uLG0jIiIiSqkM83TF2u2jUNpCG8JBhAqvdwzHP0d02w1HXPFzxgztsPULF1zx9i3nHCQiosTBAE5i0nzAmdO3EKZdfgqlatVC+kTO8efPvbB5s6MUvLG0NP0cwFEoDJApUxp07VpWmgsnLIxdfImIiCgZE+pZd68+gr+cjI1lpX+xeWZ9ZIisf6ndsHvVPrzXYS+cTZtu4f37AOmxpWUqzJ3LOQeJiChxMICTmHzP4NjlIGn5cBgWRLWaWRI9wydPPomcOdNJw6dEcvwGBnLjU7duZaHRREiVDSIiIqJky+8Eps9yQOA3gzGGyPfXQoypZv55PpxAx8u4FS4lEkwM3KxYcRX9+lWW0sOH18CpU0/g6OgmpYmIiHSJAZxE5H3yAM77aWsVykzlUMU+cZefOnDgIW7fdsfIkbWgVGp/WjFYIxKHUIlSpTKShlKtXn0dHz8GStuIiIiIkpvQu9dxH2aw+F5tVpkL7dtVRiq5MUvj6w0fHS1INWfOOWTLlhbt2pWQ0nnzZkCLFkUxffqZz3UwIiIiXWEAJ7FoPLF/60l4y61ChvbFUcxE+zgxiKsezJ17HrVq5UXZstnkrVEiAziievXsYW+fEUuXXpa3EBERESUnary5cRtvQsIQJm+JmwJW2bPBWq71KtKmh7VS+zghbt16I80rOG5cnc8NZ2J1SxzG/uaNN/buvS9tIyIi0hUGcBKFUKnYMwqTj/kislevxv05niVihxexladatdwYMUK7bHikqDlwpP98JlY2bGws5BQRERFRchKAmzcfIdTlEZy+H8FBuK8PAqRKmQHMS1VACSNpc7yp1RpMm3YGrVoVRbFidjF6PFtbm6FHj/JYuPAi/PxCpO1ERES6wACODnmfm4t+PTqjZY1CKN5xE1zDo7rOhj+aiwbFq6Hlnz3QZ+w2OOt4DmFTUyNMnNhAmqg4ui+HUEUSlxfv2bOCnCIiIiJKRsLu48bdAIS7HsKOS99rIQvCtXM34C9WiZS2aPK/psiYwBrwjh134OUVgEGDqkrp6Kt+iv73v9JIlcoQy5axtzMREekOAzg6lLbGECxZvRF7zznjY5hGuph//qdRw/eZA/ZuWI1lU9ojkafD+UyuT3wVwCEiIiJKrtTuN+D4Wg2oXLBm6H84HzlmPRYq51WYtv011EK1N13tsfineTr5mfj59CkIS5ZcxuDB1aQVP6OLrG6ZmBhKwZ3t2+/AxcVLu5GIiCiBGMBJ4aKGUDGAQ0RERClD8M2beKhSInUaM6juzUXzWj2x6sZ7fDk3se+D9ej5x1ic8wGsSg3CpvV9kC+B898sWnQRefOmR7NmheUtsfd4btiwAAoUsMGMGWflLURERAnDAE4KF9WlV/oPERERUTIXhvs3n8F+1Dm4eXvDzXE7RpR0xYx6eZG9ZB20+l939OjWEc2r2SN3qW7Y+MYO9YdtxsVzc9HQNuFVX5VKg9Gja8cI1sTWYCY+P2pULXh7ByM4WEfrlhMR0W/NQLjgyINsKCU6ffophgw5gEuXBiBNmlTyViIiIqLkKhBXVm1GRPteqGQubxJo/J/j4pETuHTfBe/8VDC2yoTcRSqiTr3KyGOlg2WnvkEM0JQrNx8HDnRDzpzW8lYiIiLdYgAnhTt16gmGDj2Iy5cHwsIiEdcxJyIiIvpNBQWFoXz5BThwoDty5kzYHDtERERx4RCqFC4yPMc5cIiIiIgSB+tbRESUFBjASeEiO1hxDhwiIiKixMH6FhERJQUGcFK4yBYhLiNORERElDiiVqGS/kNERJQoGMBJ4SIrFOzSS0RERJS42GBGRESJiQGcFI5deomIiIgSV1R9ixUuIiJKPAzg/CZYoSAiIiJKHBxCRURESYEBnBQuqkLBGgURERFRYoicc5BD1omIKDExgJPCRXbpZYWCiIiIKHFE1rcA1reIiCjxMICTwkXWJ9gBh4iIiChxcM5BIiJKCgzgpHCcVI+IiIgocUU2mLHHMxERJSYGcFK4zz16iYiIiChRsMczERElBQZwUjixBw5bg4iIiIgSDxeNICKipMAATgonVigYwCEiIiJKTAzgEBFR4mMAh4iIiIgoATiEioiIkgIDOCkch1ARERERJS4OoSIioqTAAE4KJ1YoWJkgIiIiSjyRq36y0YyIiBITAzgpnFifYGWCiIiIiIiIKHljACeFi2wRIiIiIqLEwSFURESUFBjASeE4Bw4RERFR4opsL2Odi4iIEhMDOCmcWKFgYxARERFR4ons8cw6FxERJSYGcFI4sT7B1iAiIiKixMMh60RElBQYwEnhuAoVERERUeLiECoiIkoKDOCkeAzgEBERESWmqCFUrHMREVHiYQAnheMQKiIiIqLEFbUKlfQfIiKiRMEATgoXWaEgIiIiosQROYSKPXCIiCgxMYCTwnEZcSIiIqLExiFURESU+BjA+Q2wLkFERESUeDiEioiIkgIDOCmcWKFgDxwiIiKixMNVqIiIKCkwgJPCaSsUrEwQERERJRbOgUNEREmBAZwUjnPgEBERESWuyGXEiYiIEhMDOCkcAzhEREREiUusb7HzDRERJTYGcFI4sUGIFQoiIiKixKOtb7HCRUREiYsBnBRO2yLECgURERFRYhEXjWB1i4iIEhsDOCkcKxREREREiY0NZkRElPgYwEnhxC69nAOHiIiIKPFwCBURESUFBnBSPHFVBFYoiIiIiBILezwTEVFSMIjguoeJSI2Hy2ag6lZDtKyTBeby1m9Tw/XiVTyrNgj3xuWHsbw1vhYuvICzZ59j//5u8hYiIiIi0iVHRzf06bMLN24MlrcQERHpHgM4iUjz4SraNVyFXV7aLFYYmyKTrSXMwn3h6hkMlbBNaWaF3DYmCPHxhsenMGmbyLxuT3iuqPCDQZ+4LVhwAefPP8e+fQzgEBERESWGW7feoF+/Pbh+/W95CxERke5xCFWiCcXVVYex3ysCCous+N/YIXjquBhuDtPgtKwm7A3FfYxRe/S/eHxmOl45LsHrXZ3QIZexNOAp9L0X3NTiPgnDOXCIiIiIEhfbQ4mIKCkwgJNI1K8u4r/tnoiwKYq5W0ZjY48iyG0uZrcGnx69hqvY1cYwEyqUspB/BENkKl0LG1a0RHULA2jefcKbyO44CSBWKDipHhEREVHiYYMZERElBQZwEkUgji09hvOqbBi5uDcGFTGVt4vUuHn3NUKER0rrHCifU6ndLDPMUxVDGlgBHz/hjbhTAjGAQ0RERL8PFdxvXcJ/oxagct1hsCnaG+ZF+sOu6njU6LMJM46+xkexh7PGG0dX7MTSm0HaP0sgbX1LThARESUSBnASg89j7LoQjLL9uuGf0tGDNwKVJ248CIBGeGhaODdKm2g3RzFFtcp5YKHxwSuPhI+h0rYIyQkiIiKiFErj8xzz+/+DAm3WYOZ5X2QoUwGDBrXGjMH10bVKBgTeuYDR/SYgf/O1mD53PbrNOIldD4Llv04YNpgREVFS4K19YrAqjbVHp2F/r2z4Mj6j8XbBdVcxMKNEgeK5YKXdHINFjTa4cno4xhaI2TsnPrTLWrJCQURERClYkCum/TUXQ4/6IE+HPrh7bjz2TWmFMd1roV+3xpgyZQBunJ2EHV1zIMLpIkYvuY93EYBKpYMJBwVigxnrW0RElNgYwEkkyrSWyCBNVBxT2H1X3AsTHiisULpERsQaojFPjwLZzRO8hLgWAzhERESUkqnxcP0WTL0VDLOyzbFtQlnk+6IDtCS1LVqPH4p9fXLCQt6kUusqgMMhVERElPgYwElSajjdfYmPYitN6uyoUNhI3p54tC1CcoKIiIgopVG5Y9eRVwiCEiXrlkbeb3ZgTo2qg7pidEkTadVPVbg4qD3h2OOZiIiSAgM4SUnjjxv33kFagCpPLpQz125OTGKFgqsiEBERUYql9oHHRzEQE4EPH3yketY3GWdF316lYSfUgtU664EjVKpZ3yIiokTGAE5SCn2B649U4qAmZC2WG9kTPsXNd4kVCkhtTEREREQpkGEG5LFTCLUdDZy37cLM20HSYhHfYlmtCvrXL4IK2VLJW4iIiPQfAzhJSPXMFY6+YkQlFUqU+HqC48QgjslmixARERGlWEobtGtTGGmF6o7G9wnGd/wPjaddwvUP3+hdY5Ifo5YMwpJWGeUNCcMhVERElBQYwEkyGry/64Ln0vipzChfImlafDipHhEREaVsCmRv3QnLWtlCnLs4IuQDjq1cg4rVRqL6sIPYetcH4voRiUnbYCYniIiSKXVgoPSP9BcvNUkmHDfuukkVCMMsOVHONmmynmOyiYiIKMVTpkebGWNxbnJ1VLExlAaPa4I/wmHPPnRsMQK5W63C5KNv4K2bOYu/Ita32AOHiPRZ+MePCHz8GP6OjvC9ehVeBw7Ac/VquC9dileTJuHlhAl4M3s2Au7fl/+C9JFBhNhkQIkvzBWjGk3BjOcRSNu4N14tKvt5CcvYafB03XzUXOSKIHUEDAyNkNpYG/SJUKsQEqaGRqwsmBXBoiO90SGt9NRXJk06iRcvPmHt2nbyFiIiIqIULNgLDgcdsHL3VRy6/RH+n4M2SmQoUhETJ7VFz2JmOm3FPHv2GaZNO41Tp/rIW4iIfo0IlQoqPz+Ev3+PkFevpMCN+Fjl6yvvITMwgJG1NRTGxsK9piEM06eXAtGpCxaEaa5c8k6kbxjASSKat6dRu9oWnAtTotq46TjbPf0PVRwC7+xCxTbH8KHFILjOLAbtwCsNAtxf4OCmXRiyxg015s/EtkappWe+NHHiCbx65Y01axjAISIiot+JBj4uTti20wFr9t7FbS81xEqvwjw7hi4fhumVzHUWxDlz5ilmzDiLkyd7y1uIiJKGJjRUCtSEuLoi5OVLhL17Jz+jpUiVSgrUGKZLByPhn6Hw2DhDBhiJARtDQ3kvSi6SZhwPIfiuC+6HCw+UGVCmuNUPZ7xRWDiCIpQoXDQ7jOVt4s9mnjk3OowaiA1tzXHZ4SniGqnIIVRERESUIoUF4a2HL/zjXDdcAavcRdBndH/cOvMvNv4vp3ai44BXmD9uPxyC5N10gEOoiCipaMLDEezqCu+zZ+G5Zg1ez5iB99u2we/6dWiCg2FWpAisqldH+ubNkWXQIGQbORKZevRAhpYtpe3mwvPGtrYM3iRTDOAkiWCcP/cUPmKzjzID8uf50ZNFgzd3X+AVMqJkoWitROpgvH0XiDCkRu2e9VAj3BfucSy0IHawYoWCiIiIUpqw2/tQudp4DDwfKm/5hjRZ0em/IdjYOgPEWlj469vYflNsWdMN7SpUcoKISMfCvbzgc+ECPNeuxZvp0/Fu0yb4XrwoDY8yK1AA1o0bI/PAgcgyeLA2UFOtGsyLFYOhlZX8CpRSMICTiIJcHmLj9jOYNmEJ+u37BCnGEu6CVdOOYuXuW7j+4Xsz6YXg+h13aMyzonT+qKBPwMXtqDHOEeIoRmW2GtgwrxryKbXPfYnLWhIREVFKFBEcimBNAC5cdBVqTD9AYY66rYojp1hn0gTCyyeyHibOOzgXWUr2R7pi/WBd6m9krTBE+pel7ECkL95Pu73icmz1lv8kFuzxTES6JAVtHBzgsWwZ3Jcsgc+5c9I20/z5ka5BA9j16YNsI0YgQ+vWsChVCkZp45gUlVIUBnASjQo3N21Et9GbMWa9E15FNvJEBOHGjl3oNfoYzvnJ2+IS+hpXnUKgyJUZ+cKC4OPjgyfXzqHflJtIUyw30sm7fYu2S6+cIKLfyqcTJ3DD3h4OQiHgoFTiWb9+CPf+xt0HEVEyog4OQ5BGg5dHz+OA1w8uL2WohNTmpUyH3FkjW78UyNd1CJ6sqYasQcEwqdUVz67OxRvhn9uN+Xh5ZAgWt88Kow8PcehK7OOutFNKssJFRAkjTjTse/kyPJYv1wZtzp8XyrpgWJQtC9uuXZF1+HBkbNMGaYS0ccaM8l/R74QBnERjiGr/zYTqxTpExPbv2T8Ylfvb2a92c8GttxEwenMRbVpNQrmm/6FMp43Y6JoaZUpl1FZAfgBbhIh+P+KF/0H9+gh+8kS7QbjJ8Vi6FPdq1vx6FQIiomRIExwm9bzReDli/LwH+G7HZqjw+MJjuKgB47yl0bpwzCHtCZl3kEOoiCi+NGFh8L99Wxoe5TZ/PrxPn5ZWkbIoXVoK2ojDoqwbNECqbNk4soK4CpU+8967CNmHPUGjRbOxrZG4/pQG70+uRdnhIZh6sT86pNHu9y0jRx6Ch4cfRo2qJW8BUqc2Qs6c1nIK+PgxEG/f+ssprXTpUiNTpqg3cHPzga9vzA7KdnZpkDZt1OpXz597ITQ05kyCuXJZw9TUSHocFBQmLWkeXapUhsidO72civ2zWFmZInNmSzkFuLv7wscnWE5p2dpawNraTE4BLi5eCAmJ+Vly5kwnfHdtlSw4OByurh+lx5FMTAyRJ0/UZ/H2DpLyLjpLy1TIkiVqLKmnpx8+fYrZGvflZ3nx4qPw3WOOs8+RIx3MzLSfJSQkXPi8MT+LsbESefNmkFOQvq/4vaP78rO8fesn5F/Mz2JjY4706c3llPhZPkm/Q3TZs6eFubmJ9DgsTIVnz7ykx5GMjBTIly8qwu/rGywcDzE/i4WFCbJli+q2Kf6G4m8ZXYYM5siYMeqzvHz5CYGBMT9L1qxWSJNGu9ZaeLgaT59+kB5HMjRUIH/+qM/i5xeCN2985JSW+F3E7xTp/fsAfPgQIKe00qc3E/ImaiH/16+94e8fcw6F730WpdIA9vY2cgrS34uvE534G4u/dSTxc4ifJzrxWBGPmUhv3ngL3yvmZ8mSxVL4vU2lx2q1Bs7O76XHkcSLecGC0T7LRz/cyZUNEX6xB2pyzZqFrMOGySkiouRIg3eb5yDbP48gXUkMzFBtQH/sGGQPm1jbx4T9L+5C474n4BiaEb1XjsPi6tFXodLAZcU0FJgVhCG7JmB6CTm4I8476KVBOhszKF+fQ7d5Coyd/fXQ9aNHH2PZsss4dKiHvIWI6NtC3dykwE3gw4eICA+HgVIJ03z5YF60KEzz5pXSRF9iAEdvhePMuNGotysD5p4bjoF22iqG6vERNJpvihVLayKHeE4LN9xhxobRWopi6tVrJ65efSWntIoXz4yNGzvIKWDzZkfMnHlWTmm1b18So0dHBX3GjTuKgwed5JTWxIn10bx5ETkFtGq17qub/127/vx8w/3ggSc6dtwsPY5UqJAttm37n5wCdu68i8mTT8kprT/+KIrx4+vJKe3S6Lt335dTWuPG1UGbNsXlFNCu3UY8ehRzCb0tWzqhSJFM0mNn53fC/hulx5HEgMmePV3kFLB//wPhfY/LKa2mTQsJn6+hnAKmTj2N7dvvyCmtkSNrCt+zlJwCOnfeirt33eWU1rp17VGqVBbpsRhIat58rfQ4Uo4caYX8jqoEHjnySPg9jsgprfr17YXfrYmcAmbPPif8rrfklNbgwdXQtWtZOQX06LEDN268llNaK1e2RvnyOaTHYqCuYcNV0uNIYqDu+PFecgo4efIJhg07KKe0atXKi3nzmsspYOHCC1i9+rqc0urXr7JwPFaQU0CfPrtx+fILOaW1ZEkrVKmSS3r87p0/6tRZLj2OJAZezp7tK6eA8+efY+DAfXJKS/x78XUiLV9+BUuXXpZTWj17lkf//lXkFDBo0D6cO/dcTmnNm9dM+F75pMdikK569SXS40hiAO3ixQFyCrhy5QV6994tp7TKl88u5G8bOQWsWXMNCxZclFNa4u8j/k6RxLwV8zi6GTMao0GDAtLjgIBQVKy4UHocSQySXr/+t5wCrq/Zi5AeUXnwpQxt2qDgjh1yiogoOZIDLjPcUb5jLdheOYndrhpkKV8Vw7pXQ+sq2ZBJapsIh+ejh9i17QRm7XgCd6UN2k0YgLVtMkMboo8UhK29h6HztaLYfqU3/pDbpwLOr0OZLblxYVVVRDWrfE28Tq9YcSXGtZuIfi/ibfX3eshEqNUIfPAAflevIuy9tkFOHAplXrIkzIoWhdJU22BHFBcGcPSV2h1TWv6LCcH1cfnoHygT28JVai+s6TMPZ5uOxpbGUT0bohNv+gMDQ4Ub6pbyFiJK6QLu3oVjiRJy6ms2XbrAft06OUVElByp8WD+JFS/Ug4OWxugcNAbbFuxH9O23MNDXzUMDI2RxsIYCAmGX7AaEYZmKFitCkYMboxOhcy+nkMg1BkDas/EigwtcGttLWRDGN4538HUf3bBudlYXOmf+ZtD1w8fdsLKlddw8GB3eQsR/S6CnJ3xeto0+Ds6SktzpylfHjkmTICxTVTvaE1oKPxv3ZKW+lb7+8PAyAhmhQtLkw+bZM4s70X0fQzg6CufS2hWaS2uNxgA19klEDVQKVIIbi6bjyb7c2LvwbaoqB0B85VRow5Lw4UWLGghbyGilC7Myws3cueG2i/2mdLzr10rjakmIkpxQn1w3/E57rh+wocANQxMUsEmsx1KlsqFgtbaId2xUbscQeX6u3HfKgOyplEiIjwYnh6+8I+wRr/N07C4Qtx/Kzp0yAlr1lzH/v3d5C1E9DsIef0ajqVKQSXUvaITh0AVv3hRCtT437yJgNu3pblujNKnh0WZMtIS3wqTOG7giL7h27Po0i+ixsujN3EpWAH7glm/6OIbjrdOtzB98FTUneOOij3rofw3zv0f6cpHRCmDeL57rl6NmwUKwCRLFnECI/mZKBnatoXN/6KGLRIRpSgmVihasTT+7FQXw3o3wNCuNdCpbv5vBm9Efvdc4aQ2Q9P/JsL5zDQ8uTAXz5dWQnbzHKhY6Nt/K9LWt+QEEf02XEeO/Cp4Iwp+9gyP2rWD+6JFUq+bVLlywaZzZ2Tu109aQYrBG4ov9sDRM6oHB1G7x3Fc+xCMUOGXMTSzgI2FoXZhygg1gvwC4S12BRaSxgUa49L+VigT1wQ4ghEjDkkTsEafn4SIUh6/mzfxXKgUiC1BuWbMkCoJoa9e4cW4cVLX3mcuH5H2z+6oO3uU1L2XiIgiJXzeQXHePHEeujlzmuLWrTfyVq3s2dOhbNlscgq4fdtNWmwhumLFMiNfvqhZds6effbVYgDVq+eRFgSItHfvfWli++jEuQmNjLSDvV698saNGzHnQcyaNa00P1uke/fcv5qkX5wvMPok/eJ8c18uBlC1au4YiwGI31+sb0bXtGlhaYEIkTjH3tWrL6XHkcQFKipWzCmntHMlinMURleoUKYYk/RfvOgqLdoQXeXKuWIsvHHw4MOvFtVo1Kjg54UsPDx8v5qDz9Y2zec5+EROTm/x6NFbOaVVoIANChfWzqUoEl9DfK3oKlTIEWOBCXFupC8Xj2jYsODnhSzE7yJ+p+gyZrRAtWq55RTw+PE7PHzoKae0xMUlihWzk1PAtWsvv1rUoVy57DEWmBAn2hanVYiuXj37zws2iIssODjEnA9QXAijRo08cgrCsfJeOGY85JSWOIekOL9mpOvXX321qIP97X0w/hjzO6QUb9euhXAiyqmYDFKlgmXlyjC2tYUimc1t8750A+RrVjvGeU76gQGcFE6cEFX8iefMaSZvIaKUJPzjR7iOHo13GzbArk8facy1oWXUqm2RmjZdjV69KkqVWCIiikYH8w6KAYxNmxzRv39laTLj6MRgR9++leQUsHbt9a8mq//zzzKfJ6sXjR9/7KvAyr//1pOCCJH+978tXwVN1q9vj1SptD2GxMDAkiWXpMeRKlbMgYEDq8opCJ/5lhRkiK5Dh5JS8CXSxIknvwpmjB1b5/PCEKJu3bZ/FahYtaqttEql6Nq1V5g/30F6HEkMag0ZUl1OQVoUQszH6MQFKlq2LCqngGnTzkhBp+jExSNKlNAuDCHq1WuXtGJmdMuW/fF55VQxwCYu/BBdiRKZhdeJWrxj9+570r/oxM8RfcGMWbPOwdExZrBO/D7Rg3V9++7+arXSRYtafg7EicGQadNOS48jiUEicXGOSGKefLlgRpMmhWIsmDF//gUpiBPdgAFVUKlSVIBMXLBBXCAiurlzm8HOTltnEH9j8beOTjzexOMuknisiMdMdOJxKx6/kRYvvoRLl6KCUmJgaJD7Olg9jfl3pN/Otp2JRkPaxjieST8wgJPCRa4WNHt2U+m/RJQyRGg08FyxQuphI06Cl2fxYpgXiVoV7ktDhhwQKp9FpJZKIiKKRgfzDoq9YbZuvS3c9EetZklEwJgxR9CtWznkyZNe3pKy3KtTBz6nYwbhImVo3x4Ft26VU8mLGOQUg88M4OgfzoGTwonxOY7JJkpZ/K5dw+0yZfBq8mTkWbQIxR0cvhm8EYmtbAzeEBF9STfzDorNoZxzkOj3Ee7tjQ979sA0d25A+fUadYbp0iH7mDFyKnliPw/9xABOCqfRcBJjopQi7P17OHftirvVqsGqZk2UcXaGTYcO8rNERPQzxHkHq5cbAPtx9/EpQo3LcyciW4UhyCr+Kz8I1gX7wK7xEoze/wZB+apjdBOrOCvO4o2OgrVqolilpECAOiAAH48ehcfixQh8+BCpcuZE3hUrkLZePWnFKbVxKrwrUBml7tyRekgnV7x/1F8cQpXC/f33fqRKZYjp0xvLW4gouYlQq+G+ZAle/vsvLEqVknrdmBWImiuBiIh+rV277mLPnvvYvr2zvIWIRGPHHkWXLmWkyY6TswiVCr5Xr8L34kVEhIfDxM4OaSpVQqrcuaGMtqLU5MmnEBamwsSJDeQtydOcOedRuXJOaTJs0i9sK0jhxPgcI6hEyZePUFFwLFkSbrNnI//KlSh2+nS8gjfiRJbiCh9ERKR7bA4lSrnEnjbuixfD5+xZGFpZSSt9ZvrrL5gVLBgjeCOys0sjrbCWErBc008M4KRw2gCOnCCiZCPU0xOPO3XC/Tp1kK5RI5R5/BgZWreWn/15J044f7WsJxER6QYbzIjillwDAaFubvBcs0aa60YcOmVVvTrseveGac6o1b2+JE7YLK76mdyxONNfDOCkcGKBqVDwDCRKLsQuum/mzMHN/PkR7uWF0vfvI9fUqVCamcl7EBGRvhHnHGR9i+hryTEQoPLxwYfdu6XgTai7O8yKFIFdnz6wqlYNBpzsin4xHoEpHFuEiJIP73PncKtYMambrv3GjSh6/DhS58snP0tERPqM1S2i5E0TGgrv06eleligk5M0CXHmvn2RoWVLGFlby3v9TjiGSh8xgJPCaVehkhNEpJfE1p1H7drhQcOGyPDHHyjz6BHSN28uP0tERPpOuyYIK1xEsdP/QEDA/ftwX7QIvpcvwyhDBmTq3h0ZWrWCUfr08h4/5vZtN9y69UZOJV/sAKC/GMD5DfAEJNJPmrAwvJ4xAzfy54c6MBBlnJyQY8IEKE1N5T10p1+/yihSJJOcIiIiXdJoOGSdKDb6fh8S/ukT3m7cCK99+6RVP9M1bIhMPXvCJEsWeY+fc/ToYxw8+FBOEekeAzgpHOfAIdJPn06exK2iReG5ahUKbt+OIocOwTRXLvlZ3atXzx7ZsqWVU0REpEtcNIIoedGEh0tD1z2WLUPIy5ewKFUKmQcORJoyZdj4LZM6FpLeYQAnheMQKiL9EvL6NZxatYJT8+aw6dRJ6nVj3bix/CwRESVH4o0O61tEsdO3QEDgo0fwWLIEvhcuwNjWFnY9e0p1scToAZ1csTzTXwzgpHCcxJhIP4gT472aPBk3CxSQajLisuDZx42DwsRE3oOIiJIr1reI9F/Y+/d4u2EDPuzaJdXLxKCNONeNGMQhSi4YwPkNcAgV0a/18ehR3CxcGO82bUKhvXulf6myZ5efTRpDhhzApUuucoqIiHSJARwi/aUJCcHHY8fgsXy5NFxKWl2qXz9p2JSulSyZBWXKZJNTyZt2cnbSNwzgpHDaIVSsUBD9CsEvXuBh06Z41KaN1MJT+sEDpKtXT342aT1//gG+viFyioiIdEm8z2F1iyh2vyoQIL6v/+3b0upS/jduwDhjRth26SKtLqU0N5f30q2GDQugSZNCcio5Y4GmrxjASeHYIkSU9NTBwXj577+4WbAgFKamKOvsjGyjRkFhbCzvQUREKYlY32KPZ6Kv/arbkFA3N2mhiI+HDklpaXWpXr2SvAc0ka4xgJPCcRJjoqTldeCAFLj5sHs3ihw5goI7dsR7KUoiIkoe2GBGpB/UQUFSXcxzzRqEf/gAy0qVuLpUPP2ijlP0HQzg/AbYIkSU+IKePcODhg3h/L//IXP//ih19y7S1qwpP0tERCkZb3SI4pYU54c0XMrRURouFSDUwcwKFZLqY2lr107SBSOOHHmEgwcfyqnki7Eu/cUATgqnbRGSE0Skc2JLj+uYMbhVpAgM06VDmSdPkHXoUCiMjOQ99MPcuc1RuXJOOUVERLok9nhmgxnR15Ki10uopyferlmDj4cPQ2lmBpvOnZHhjz9gaGkp75F07txxx61bb+QUke4xgJPCaTRJU3AS/Y7EYVI37e3xSagwFD15EgU2b4ZJpkzys/olT570sLQ0lVNERKRLYg8D1reIkpa4FLi4upQ4103Yu3ewqlkTdn36wDQnG6x0QewIQPqHAZwUjmOyiXQvyNkZ9+rUwZMePZBl2DCUunMHVlWrys8SEdHvhz2eiWIjnheJEQcIfPgQ7osXS6tLmebJIy0LblWlCgyUSnkPSgiWZ/qLAZwUTiww2aWXSDfUAQFwGTECt4oVg0nmzCj75AmyDBzIygIR0W9Ou2gE61tEiS3c2xvvNm3Chz17YKBQIGPbtrDp0AGGVlbyHkQpGwM4KRx74BDpxvtt23Ajf374nD6NYufOwX79ehjb2MjP6r+mTVdLE+sREZHuiQ1mrG4RJZ4ItRo+Fy7AY+lShLx8iTQVKsCuf3+ktreX99APjRoVEOpcheVU8pYYPaco4RjASeE4iTFRwgQ6OeFujRp41q8fso8bh5K3bsGyYkX5WSIiIjaYEcVFe14kLBIQ8uoVPJYvh8+5c1LjWaaePZGubl29WzBCVKJEFpQunVVOJV8sz/QXAzgpnBg55RAqop+n8vPD88GD4ViypDS2uuzTp9LEeGJ3XSIioujEAA7rW0S6pQ4OhteBA3i7fr00jN26USPYdu+erHpAE+ka70RSOPbAIfo54jnzduNG3MiXD36XL6P4xYvIv2oVjNKnl/cgIiKKSWwwIyLd8b99G+6LFiHg7l2YFS6MzP37w6J0afYMod8eAzgpHLv0Ev24gHv3cLdKFbgMHYqckyahxLVrSFO2rPwsERFR7FjfIoqdeFr8TIAz1NMTnqtX4+OhQ1CamsKmUydkaNUKSjMzeQ/9tmbNNaxYcUVOJV8szvQXAzgpnFhgskJB9G0qHx88698ft8uWhVnRotLqUpn++itFDZc6eLAHGjUqKKeIiEiXNBoOWSdKCE1ICD4ePQrPVasQ9u4drGrUgF3fvjDNnVveI3nw9PSHu7uvnCLSPQZwUjhxWUtWKIhiJ7aYeq5ZIw2XCrh9W+pxk2/pUhilSyfvQURE9CM4ZJ0ovsQe0O6LF8P/5k2kzpsXmfv1g1XVqjBQKuU96FcQ68mkfxjASeG0PXDkBBF95u/oiDsVKuDFmDHINXMmil++DIsSJeRniYiIfhx7PBPFxSDOQEDY+/d4u24dvPbvh4GRETK2a4eM7dvD0MpK3oN+HZZn+ooBnBSPY7KJogv/+BEPevTG5jpdkKZcOWl1KdsuXVL8efL8uRd8fYPlFBER6ZLY45nVLaIfE6FSwfvMGXiuWIFQd3dYVqki9bpJnT+/vAcRxYUBnBSOQ6iItCI0GngIFQVxuNQn5+e403AI8ixYAENLS3mPlG3IkP24dOmFnCIiIl3iJMZEPybY1RXuS5fC99IlmGTLBrs+fZC2Zk0YGBrKeyRvPXqUQ+/eFeVU8sYRVPqJAZwUjkOoiAC/69elCYpfTZiAPAsXovCBA1BaWMjPEhERJQzrW0SxE88L8fxQBwXhw759eLdpkzRhcfpmzWD7558wsraW90wZbG3TwM4u+TcOsjzTXwzgpHBsEaLfWdiHD3jSvTvuVq0Kq2rVUObJE9h07Cg/S0REpBusbxHFTfXESZqkOPD+fZgVKYLM/fvDvHhx+Vki+hkM4KRwrFDQ7yhCrZYqCuJwqZCXL1Hqzh3knjMHhux1Q0REiYD1LaKvhX/6hIx3TyH87HEoUqWCTadOyNCyJZSpU8t7pDyenn7w8EgZy4iL5RrpHwZwUjjxvOMcOPQ78b18GY6lSuH1jBnIt2IFip05A7OCBeVno/xuF6U8eTLA0jKVnCIiIl0SLymM3xBpiQ1pPufPw2PpUqTyeQ9l8dLI3LcvTHPnlvdIudasuY7ly6/IqeSLAWn9xQBOCqdtEZITRClY2Nu3eNy5M+7VqoV09eujrLMzMrZpIz8b0+94UZo7txkqV84lp4iISJe4aASRljhJsRi48XFwgLGNDd6WaQSj8lVTzCTFRL8aAzgpnEbDCCqlbOJSlG7z5uFG/vwIf/cOpe/dQ67p06E0M5P3iB17hRIRkS6xvkW/M3VAAD7s3i1NUiw+TtegAWx79EC4eVp5D0puWFfWTwzgpHgck00pl9i6c6tECbgtWID869ej6IkTSJ0/v/xs3HhKEBGRLnGuCPpdice+340b2kmKnZykephdv35IU7asdA8i1rl4eiQ/rCvrLwZwUjixwFTwV6YUJtTDA4/at8f9+vWRvnlzlHn8GBlatJCf/TG/W2V7yZJLePDAU04REZEucQgV/Y5CPT3huWoVPh07BgNjY2Rs2xYZ27WDYZo08h6/Hzu7NMicOfkvI076y0C4iWFMVMdUT46gRpvzMK5fAkW+PYrjs/DXTtj6oggOHmuHKsbyRh2oV28FunQpg/btS8pbiJIvTXi4NFzq1aRJsKpaFXkWLIBpnjzysz/OxycYI0YcwsqVsc+RkxI1bboavXpVRKNGX0/oTERECTNx4kloNBr89199eQtRyiXWx3zOnoXf9etS2qJ0aaStVQsKExMpHd2UKafQuHEhFCtmJ2+h5GDZssvInz8jatbMK28hfcG+Gbqm8cXOhSdxxc8LZ3eewsL157Dh6F0cP++IDRtPYcE6YduGi9h9/gGOnriG1fK2pWc84Pv2A16Hy6+jI2J8jkOoKCXwPn0at4oWheeKFSiwdSuKHDkSr+ANERGR7rG+Rb+HoGfP4LFkCfyuXYNxhgzI1K0brBs2jDV4I9KeF+wvkNywPNNfDODoWNDt45hy0g8RBqYo1qItjp1biI/XZsL5ZD/0ya2U9jGt3AY3T0/D08sL8enKGCxuaguxo05EmA9evdVI++iKdggVT0BKvkLevIFT69Z42LQpMrZvjzJOTkjfpIn8LBER0a8nDqHiDQ+lZJGTFL/fuhXqwECpx02mXr1gkiWLvAcRJQUGcHRJ/R5r5zvAOcIKDceNwMW59VEvu6mUyRqfN7j7Wi08UqJAiTzIIOe8cca86DdnACaVF/bT+OC1h7iP7mh74MgJomREExaGV1On4qa9PSLCw1Hm0SPkGD8eilSp5D3ij+cEERHpkthgxmsLpVT+jo5wX7JEmqQ4Vc6csOvTB5aVK8OAE21+5fZtN9y69UZOEekezzod8j5/GLOuqVGid19s65YDFvJ2Udh9F9wNFR4oLFCqhC0MtZu1DO3Qo0dp2MEPbp5h8kbd4BAqSo4+HjuGW4UL49369Si4ezcK79+PVDlyyM/qxu82/Ve/fpVRpEgmOUVElNKo4H7rEv4btQCV6w6DTdHeMC/SH3ZVx6NGn02YcfQ1PoptZBpvHF2xE0tvBmn/TEdY36KUKOzdO3iuXYuPhw9LwZr0LVrAtnNnGKVLJ+/xY36nKtfRo49x8OBDOUWkewzg6EwAzh59CL9ijbF6QN4YwRtADed7L+Elts6kyoHyRY3k7VEsyhVCRbMIeLh/EqoguqNtEWKFgpKHkJcv8bB5czz64w/Ydu2K0g8fwrpBA/lZ3fkdz4l69eyRLVtaOUVElHJofJ5jfv9/UKDNGsw874sMZSpg0KDWmDG4PrpWyYDAOxcwut8E5G++FtPnrke3GSex60Gw/Ne6Ida3OGSdUgpNaCg+nTgBjxUrEPrmDcyLFZOWBjcvWlTeg1I63j7qLwZwdMYcrWZOhPPKhij+5RxemgBcv/tWCswY5smFcrGtrGdeFDP3TsXpfllj9s5JIC5rScmBJiQELydMwM2CBWFgZIQyzs7INno0FMY6XJLtC79ZBxwiopQpyBXT/pqLoUd9kKdDH9w9Nx77prTCmO610K9bY0yZMgA3zk7Cjq45EOF0EaOX3Mc7ofxXqXQ/ZJ0oJQh48ADuixdLkxQbWlnBpnNnpG/eHMrUqeU9iOhXYgBHl5TmsLHWTlQcQ/gLXH+kEtcngF2R3JDnMv6CKbLnyYh0iXC/yggq6TOvgwdxs1AhvN++HYWFx4V27UKqrFnlZ4mIiOKixsP1WzD1VjDMyjbHtgllkc9Ufiq61LZoPX4o9vXJ+bmHtEqt6wAOezxT8hbu5YW3GzbAa+9eaIKCpDluMvftC9OcOeU94kc8LxjgTJ74u+knBnCSgOqpKxx9xBPABCVLZhf+P+lwTDbpq2AXFzxo1AiPO3aEXe/eKH3/PtLWri0/S7o2ZMgBXLrkKqeIiFIAlTt2HXmFIChRsm5p5I21gSxSalQd1BWjS5pArBWpwnW76qe2x7OcIEpGNOHh8D59Gh7LlklD2cVVpcTVpcRVpgwMdTku4PdQsmQWlCmTTU4lZ7x/1Fe81CQ6DT7cc8UzafyUHcoWj61pKPFol7WUE0R6QB0UhBfjxuFm4cJQWlqi7JMnyDp8OBRGX88NlZh+t1aF588/wNc3RE4REaUAah94fBQDMRH48MHn+3MIGmdF316lYSfUftU674HDBjNKfoJdXeGxdCl8L1+WhrCna9gQtt26wThjRnkP+lkNGxZAkyaF5BSR7jGAk+jCcfPua4gLUCkz5UT5zEmb5eI9KufAIX3xYe9e3CxQAF4HDqDo8eMouHUrTOzs5GeTDivZREQpgGEG5LFTwAAaOG/bhZm3g4RH32ZZrQr61y+CCtlSyVt0h5cWSi7EuQfFIezvNm2CyscHqYW6mThJcZoyZXReRxJfjiNxkif+bvqJAZzEpvLA9QfaCoV5odwokZTjpyRsEaJfL+jJE9yvVw9PunZFlsGDUfrOHVhVqyY/+2vwokRElMwpbdCuTWGkFao5Gt8nGN/xPzSedgnXP3yjd41JfoxaMghLWum2h4G2xzPrW6T/gpyd4b5kCQKEupihpSUytm+PjG3awNAi5hq69Htjcaa/GMBJZJqPrrj+UqxIKFG4RG6YazcnGVYo6FdSBwTAdeRI3CpWDMa2tij79Cmy/P33Lx9TzVOCiCglUCB7605Y1soW4gD1iJAPOLZyDSpWG4nqww5i610fhGl3THQcQkX6Th0YiA+7duH9jh3SJMVpKlaUet2kzpdP3oN04ciRRzh48KGcItI9BnASWcg9F9wPFx4o06NM8XT45vx6iYBDqOhXESsIN+zt8enECRQ7cwb2GzbA2MZGfvbX+93mwJk7tzkqV07YShJERHpHqF+1mTEW5yZXRxUbQ2naTU3wRzjs2YeOLUYgd6tVmHz0Dbx1O2fxV8RLCuM3pK8C7t6VlgYPfPRIO0lxz55IV6dOksw/KJ4Xv1OV684dd9y69UZOJW+/W105uWAAJ1Gp8PDOK3iLQRSz7KhQ8Ad6HajcMKvTYGQs3h/pivVHxrJDkLXCEGQp/zfsKoxE8XbLMPaQGwLk3b9H2yIkJ4iSgFg5uFerFp727o1so0ejlKMjLCtVkp/VD79jK2mePOlhaZm0k6gTESUJhTnKdfwTF85Nw7npjdGhtDUspBpuONxuX8E//SYgf/O1WH4v8Ltz5MSXWN9igxnpm7D37/F23Tpp7kGRdePGyNS9u141qJF+Yo9C/cUATmLS+OP63fcQB1AZFsiFcqm1m7/JMAuGb56OPa0s4B9ghKYzZuDN1blwuzYXz3f9iXapnmLG33PQdd9H+Q++TdsixBOQEp/K3x8uQ4fCsUQJpMqRQxoulblfPxgok7rfGRER/ZZM06Na21bYsmsmXp8cgqU9S6FUeiUMhJrYhwcX0a/TLIy6HJAoQRxtQzXrW6QfxKXBP506Bc8VKxDy+jXMihZF5v79YVGqlLwHESVXDOAkphAXXHdWI0LI5pxFcyHTD+e2AoFBIYgwzopyRSJvfhVInaUghk+oi/IKHxza4Shv/zb2wKGk8G7zZtzIlw8+Dg4ofuEC8q9ZA+MMGeRniYiIdCgsCG89fOEf57rhCljlLoI+o/vj1pl/sfF/ObUTHQe8wvxx++EQJO+mQ6xvkb4IfPwYHosXw+/KFRhaW8O2SxdkaNECSjMzeY+kJTYkcyhO8sSfTT8xgJOI/K/dxwU/8chXIFcuOxhrN3+f6i2uPfCHIldOlLWK+RMprcxgKWzSBIXIW75NPPHYpZcSS8D9+7hbtSqe//03ckyYgJI3biBNuXLys/rrd6xkN226WppYj4gouQu7vQ+Vq43HwPOh8pZvSJMVnf4bgo2tM0AcyB7++ja23xQnJ9QtcdEI1rfoVwr39sa7rVvxYedOqIODkbZ2bdj17o1U2bPLe1BSaNSogFDnKiynki8GpPUXAzi6FuyJU3scsGTpFrQafwVuUj9dNa5t34mZWy9hzx3f73bd1fi44oaLBhkK50L+L6bN8b3xFPdUBrAt8mOTkXIVKtKFL1tOVL6+eDZwIG6XKYPUBQui7JMnsOvZEwaK5FOksDWIiCh5iggORbAmABcuuuKHmrMU5qjbqjhyip2aNYHw8pFrYjqed5DVLfoVxPqM75Ur8Fi6FMHPniG1vb00hF2cfzA51ctSihIlsqB06axyikj3eFbrWNi9M+g9Yj36zzqNU+7i8ClRBLzvXcDIsesx+1qQvC1uYfddcDfMCMWK54zRa0fldhODp13HW8vCGN29kLz127RdelmjoPgRW3IeNGyIS2nS4I5QEXgzbx48166Vhkv537yJEkKFId/y5TCytpb/goiIKHGpg8MQpNHg5dHzOOD1gzPaGCq1K4Eq0yF3Vnl4ug7nHdQ2CrC+RUkr7N07eK5aBe9Tp6A0N0fG9u2RsW1bGFpaynv8erwNIdItBnB0zLh8J7i4rEPEi9j+rcbVPpm+s5S4Gs53X8Irwhh+905jwrx9GD9rB/oPmY3CDVdgn1FJzFnTC71y/fhPxy69FB/uixbBuWNHfDp2DJqAAGksteuQIXjevz9yTpsmBW+S82R47IBDRJQ8aYLDpJ43Gi9HjJ/3AB++G8NR4fGFx3BRC/W0vKXRunD07s26mXeQQ6goKWnCwrSTFK9cifD372FZpYrU6yZ1vnzyHkQJw8Cb/jKI4DgC/aLxxfIuw9HfKRf69CiG7EoDKAwNYZbGEjny5kSlIulh/hNht2LFZmHYsBooWTKLvEV7QhYsaCungMDAMLx8+UlOaZmaGiFXrqheFR8/BuLtW385pZU2rSns7KIi/G5uPvD1jdmZ2c4ujbCfdvkt8VB79Oid9Di6QoWiPktQUBhevIj5WVKlMkTu3OnlFPDpUxA8Pf3klJaVlSkyZ476LB4evvD2DpZTWra2FrC2jprAzcnprfwoSoECNp8rYMHB4XB1jdnqZmJiKC3HHMnbO0h4r5ifxdIyFbJksZJTkD6r+Jmj+/KziPny5alob58RSqX2xw4NVeH5cy/pcSQjIyXy5YuaKNjHJxju7r5ySitNGhNkzZpWTkH4Df2E3zLmZ8mY0RwZMpjLKeDx43cId3eDT8uaiPCP+d0kCgVKXr8Oi9Kl5Q3Jj/jb9u69Cxs2dJC3pHziHDi9elVEo0YF5S1ERMmRBu82z0G2fx4hTEwamKHagP7YMcgeNrHWj4T9L+5C474n4BiaEb1XjsPi6uZRLZiqN/iv+QRMjWiEmwdaoFj02I7vBTQquw6n8rdA2MGm8sbY9eu3B4UL26JPn0ryFqLEEXDvHrxPn4Y6IACpcuaEdaNGet0Tetass6hRI+9vM6xozZprUKk0Up0rORO/h3gPUbdufnkL6QsGcPRN8B10rboIOwv/iRdrqiHjTwRrYlO06Cz5URRjYyVu3Roip4Dbt93Qpcs2OaVVrJgdNm3qKKeArVsdMX36WTml1a5dCYwZU1tOAf/8cwwHDjyUU1oTJtRHixZFpMdqtQYlSsyRHkd3//5w+RHw8KEnOnTYLKe0Cha0wfbtneUUsHv3PUyceFJOabVsWQT//VdfTkF6XtwvurFja6Nt2xJyCihefLbUYhado+MQKTAievr0Pf74Y4P0OJIYvNm7t6ucgvR9xe8dXePGBTF1aiM5BSHfzgj5d1tOaQ0fXgP/+19UAKRMmXlSkCa6a9cGIXVq7SA6MajVrNka6XGkbNmscPjwX3IKOHr0MUaNOiyntOrVyy9cOKMqnXPnnsf69TfllNbff1dFt25REw9XqrQQedxuotvrmL9DdDmnTkW20aPlVPLzOwZwiIhSBg1cVkxDgRnuKN+xFmyvCNd7Vw2ylK+KYd2roXWVbMhkIu4XDs9HD7Fr2wnM2vEE7kobtJswAGvbZEYq6XW0NF4OaFxlA+41HQSXGcViPOd7ajUK9b4CRbvBeD1FW5eJS9++u4U6l51wbUneN22kv0I9PfHp6FGEurlJQ6TS1qsHswIF5Gf116xZ51C9em6hrptN3pKyTZ58CmFhKuFepIG8JXkSAzhig3S9evbyFtIXDODoGdX9PSjR6hiM+/2L639nlVZMSAgxgLN0aStUrpxL3kL0fa+mTcPLMWPk1NdSQgCnV69d2LiRARwiouRFjQfzJ6H6lXJw2NoAhYPeYNuK/Zi25R4e+qphYGiMNBbGQEgw/ILViDA0Q8Fq/2/vLuCi2No/gP/YBREp6RYVE8VGDMyrqNitr92B3e21rt3tteNe69rdLQgqKiqogIJS0r3ALu/O7KAiYC7szvJ8/5/9X87M6CsMM/PMc855TgNMGd8GvStp56gdkHptJ0oP8UC1hctxpqfep/1M3cGhfbdhb2xFrD86DiO+M3V9xIijqFbNSvpsqcttIeTHxd66hbezZiHuzh1omJjAqE0blF66FBrGxhAnJyPm6lUkPn7MFiXWd3ZmP2rqv/uWUDAogcNPO3d6sLMbKIGjfH5zfAeRLwkivP3xRqKL6tXMfzt5k4XmZJMflR4ZCb/Bg/F27lxAmEe1JjU16DdsyDX4ieb1EkIIXwnhMO5PRB1uBbaUjZ4Nek4ejaceK+B9wA0753bGzKGumDW5F/ZsnQYf99Xw2d4dfXNJ3siz7iDTH0rPFvIrwvbuxZNGjRB3+zZboI+paRO2cyceN2jAJnSYmoSJjx5B09qaXRa8eOPGvEneEELkjxI4yiQtHIfOB0Ik0Id17hO5f0rW4CpahYp8T6ZEgg+bNrGrS6X4+6OWNFAovWQJtzc7i6FD2aUp+a6wDT5kaijFxWWvC0UIISpDsziq1KuFfr1dMGl4K0wc0AS9XcrD3kiDOyAXkkS4e4dBYmCF6rZa0NXWQnEjIzjUa4S1+5Yg+PwIjK2eW+InJ+aRQvEW+VlM/BUwdSrXyi7F1xfvFi6U/p5KYNiqFcwHDGBH5PANc1kUspBLZdB5U040hUopZOD+6iXouusdQhMywCymoKGtj4ajJuHCcOtfHonD1Hdh6rxs29YNderYclsJyS7u3j12Zam0iAjYrVgB0x49uD1A+P79CPhrKdJe+gCWNrCbNB5W48bxPkhl6g0NHnwoW50nVUdFjAkh5CtyrDvYpctudmEDY+PPCxQ0alQGI0d+7vBgpiRcvOjLtWT69asNV9fPdUyYunpMDb4vMTX+mEUWGMyCERMnnmS/zsIsKLF6dQeuBdy+HYANG25zLZn69UthzJjPo2f37vXC2bPPuZZM79610LZtJa7F1BO8mGPBh1mzXODgYMF+zSyMMHbscfbrLKamuli/vhPXYur5vZX+225yLZnatW2l30NjrgVcvfoKd+4Eci2Zpk3LokGDz9P/9+9/CH//7Is59OxZ49NiDvHxqez/jvPmwVAPf89uI8pBItSA9r030vNeOKZQMdcF8w725UIvfMTcr5jvoWVLmkKlbCiBo8KYCug1aqzE3393g5MTJXBIdmnh4WyvT8S//8Jq7FiUnDMHQp3Pq1FlYYJFV9e/sWVLF9SrV4rbym9MAmfQoEPSgJASOIQQUljJs+5g79772RUdmURJFltbg2x1Px4/fg9//+yrWzKLRpQt+3lFyWvXXudYuZKpH2JsLHs+M4mKS5f82K+z6OpqZqtT8e5dDDw9g7iWDFOM9MvOvCdPPuD16+wJESYxU768KdeS/VuYGCAlJYOtHZeamo7u3auhVCnZikfMv/PrRBGzKuiXiaIXL8JyLCpRoYIZunWrxrVkCZy7d7MncJhVi75M4Bw4kDOB06NH9gQO0zHTIeoSapXJGcsoK6a+TcT+vBeN0LS1hWGLFlyLn7yfhaHkmvWFJoGjKiiBo7wogaPC0tPFqFlzFXbs6F5oCoeR78sUi/Fhwwa2zo2uoyPKrl+PYhXyvjmrYgKHKS43cCAlcAghpPCSIGTvCtjNC0WvHcuwvfE3plr9ACZ5UK9eyWyrOpKCxSSTNDTUeVVImnkN87CzgygwewIrS7m//4bF4MFci59WrrwBZ+dS1JnMM0wCx8JCD61aKf9KZ4UN1cApBGhONsnCrHLwsHp1vF+5EuV37EDVy5e/mbwhhBBCVJKc6w4yUyZo0QjF4luXNJO8SfD0hAFTlFgjZwJRr25dmPXrx7UIX4SGxiMkJI5r8Re9PyovSuCoMCaYYNAFSEShoXjZqxeeurjAqG1bOPr6wqRzZ27vt+noaKJLlyowN9fjtqiKwjX4sEwZE+jrF+VahBBSWDF1BxfCutYcTHJPRWbGO/zVdSKabXkv3fPrmJdxircUjy+nQPThA0K3bkX0+fPQqVULFf75B8ZduiBVXQuS0hVgPXEiqly6BEEuiR2i3Hbs8MCWLfe4FiHyRwkcFZY1O05AZ7nQkqSnI3jFCniWL4+MmBjUevYMpRYtgrBYMe6I72Pms8+Z0wKlS8vmvKuCwhhkr1rVHs7On+sJEEJI4aSOuuNn4f3TvyEO3IVM6SfNZw2u/MaiEVkof6NYfKgKIUlLQ9T58wjdsYONywxcXNilwU27dEGlI0ew+o/VSN98gl1UIre6hHzEXBd8Gx1FZOi8KSd6tVdhWRcd9QgVTjHXruFh1aoI2bQJFfbvh8O5cyhWtiy3l9BDiRBCiLwwo54p3lIs5rmuzOcg6cULtgZhwoMHbDxm6eYG/bp1oUY9rUQJ0e1MedEdQ4Vl9URQQFG4iN6/x4tu3fCsdWuYSP/rKA0YjNu14/YSQgghRN6UPXlQWCjjKciIi0P4gQP4eOQI2zbp2hWmPXtCXU/VpqYTQgoCJXBU2OcROLL/EtXGDMsNWrwYDypUgEQkYhM3Jf/8E4Kiv1f3JCIiEd2778GTJyHcFtXAh6HW8rRx4x08exbKtQghhMiTrAYO1yAKoWyPdeZ3It7Dgx0JneLvDz0nJ1iNGgVt+7xXg3R1rcgu+a5KZInNwhNzWVrqwcpKn2vxW2GLlfmCEjgqLOuio1URVF/0xYvwcnBA6M6dsD98GJVPnoRWKfks+c0suf3yZQSSkkTcFv4rjL2kFy/6IigohmsRQgiRJybmonhL8ZTl8c4sHhG2YweiL1yAoFgxmPfvD8OWLSEoUoQ7IndjxjSEvb0Z1yJ8NHCgE4YNq8e1+ItGFCovSuCoMFqFSvWlvnsHn44d8bxTJ5j17QtHHx8YubpyewkhhBBSEKijWhko/iSIU1IQdfYsQv/+m11pSrdmTViOGIGiJUpwRxBCyO+hBE4hQAkc1cNMkXq3YAE8K1Zki985vnwJ25kzIdDU5I4g30PBNiGEEHmRTaGieEuRmOe6Is9B4tOnCGGKFHt5oYi5OSwGD4ZRmzbfHXWj6phTQjEXIfJDCRwV9nkKFfsfoiKizpyBZ6VKbEG8SidPotJ//1HPzk+iGJsQQog8MaOeaQpV4ZQeHY2wvXsRefw4MiUSGLVuDYshQ6BpZcUd8ePWrr2FFy/CuRbho0eP3sPLK5hr8RfFysqLXu1VGE2hUi0pAQF41rYtXvTsCYuhQ1Hr2TMYNm/O7c0/Zma6OHiwD6pW/flARJkVtsJsbm7OcHCw4FqEEELkjcItxSro53qmWIzYmzfZIsWpgYHQrlwZVm5u0K1V65dj7/PnX+L9+1iuRfjo3LmXOHXKh2sRIn+UwFFhWc8xSuDwGzOfOnDOHHbUjVBbG7V9fVFiyhQINDS4I/KXhoYQ9vbm0NZWnSHAhfGaaNGiAkqUMOBahBBC5ImmUCmHgjoHTA3CkC1bEHvjBtSLF4dZ794w6dwZQh0d7gjymVqh6zRTFXTelBMlcFRY1kVH8QR/fTx+HJ729og8dgwO587B/uDBXxqSSwghhJD8I5FQh5miFcS7pjgpCZEnTiBs926I4+Nh0Lw5W6RYy86OO4IQVUH3M2VFCRwVlpXAoTnZ/JP86hWetmwJv/79YTV6NGp5e8OgSRNub8FTtQw8xdiEEELkiXlO0rNFsfLzHDB/N1Oc+MOGDUh88gTaDg5sfKZfrx7UhELuKEIIyX+UwFFhWe/c1CPEH0zPTsD06fCqUgUaJiao7ecHmwkToKauzh1R8Ji52FWrrsC9e4HcFsJHEyacxJ07AVyLEEKIPDExF8Vbipcf50AUGoqwHTvY5cGZKVJmffvCpFOnfJkuNXZsQ9jbm3Et1cCckqx3ksKgRg1rODqqxuIihem88QklcFQYJXD45eORI+yy4NHnzqHqlSuouG8fuwwlyR+qNqroe968+Yi4uFSuRQghRJ5oBI7iyfuxLhGJEHX+PEL//htp4eEo3rQpLIcPh1apUtwR8teqVUVYWxfnWoSPXF0rom3bSlyLv+h+prwogaPCPq9Cxf6HKKmkly/xpFkz+A0ZApvJk1Hz0SPoOztze0l+oKQmIYQQeZIlcOjZomjyOgVJPj7sdKmEBw9QrGxZdnWp4g0a0HQpQojCUQJHpckSOFQDRzllJCTAf9IkPKxWDZolSqD2q1fsfGoKDgghhBB+YUZ/UP5G0X5/CE5GbCzCDxzAx//+Y+Mx0x49YNqzJ7vSFPk1zHVR2EY9qwo6b8qJEjgqLOuaowSO8gn/5x94VqiA2OvXUfXGDVTYuRNFTE25vcolq0eRehYJIYSQ3DGjnineUixZ3Ptr5yBTIkHcvXv4sGkTUvz9oVe3Lizd3FCsfHnuiIIxevQxuLu/41qEj86efYFTp3y4Fn9R3K+8KIGjwrKmUBHlwQzJ9W7cGG9Gj4bt7Nmo4ekJfWmQoMysrPTx9Olk1K1bkttC+GjVqg5wds6/efuEEFK40RQqZfArp0AUEsLWuYm5fBkaRkawGDIEhi4uEGhocEcUnNevPyI+nurV8dnjxx/g5RXMtQiRP0rgqLCsYW/UI6R4GXFxeDNuHB7WrAmtcuXY6VJMITw1AV2CpGCUKWMMfX0trkUIIUSeaKaB4v3sdA9JWhqiL15E6PbtSI+KgoGLCyyGDoWmhQV3BJEHSmzyF93XlBO9PRYCdONUHCaYCNuzBw/Kl0f8/fuoducOym/bxvbwEEIIIUQ10BQq5fCjMS+zgETIpk2Id3eHlp0drEaOZEdEU8ycPygRwD90KSgvSuCosM+rUNEVqAiJ3t7wdnbG8Zmb8bbvHFSXBgl6jo7cXv5ITxfj+fMwJCaKuC2EEEII+RLzgkrxlmL9SJIgPToa4fv34+Phw8gUi2HSuTPMevWiIsWEEN6gBI4Ky3qQUTxRsNJjYvDazQ2PateGTrVqMF++DmKH2rwN7MLDE9Cz5z48fRrCbSF81K7ddrawHiGEkPzA1MDhviQKIUuicY2vSNLTEXPtGjvqJiUgALqOjrAaNQralStzRyiH9es7oU4dW66lGgrbddG6dUVpzKVcv1e/ilahUk6UwFFhVAOnYDE/b2Ye9YNy5djRN9U9PFB240ao62h/SqYRQgghRPUwo55pBI7i5XYK2OlS0ngs7vZtaJiawmLwYBi5ukKgqSk7QImULWsCPb2iXIvwUfXq1qhVy4Zr8RfdzpQXJXBUWFYChy7A/Jfg5YXHdeogcNYs2K1Ywda60a1end0n+/lTBocQQghRVUzIRfGWYn09WoApTJw1XUqSmgrDVq3YFaY0LS25IwghhH8ogaPCsp5j1COUf5jgwG/oUDyuXx96deuitp8fzPv1y/YzZ76mETiEEEKI6qIROMqBjbkyMhBz/TpCNm9Gir8/O02KmS6lV5u/09n5jX7mhMgTJXBUGE2hyj+ZEgkbGDDTpVL8/FDDywtl1qyBur4+d0R2X/cK8UmRIuqwtzeDjo7yDTUmhBBClAOtQqUMhGHB+LBpE+Ju3WILE5v16cMWKhbq6HBHKLeWLbfi0iU/rqU6+BwH/6wdO9yxdes9rsVflOxUXpTAUWG0ClX+YJacfOToiHcLFqDM+vWodvMmdBwcuL058f3nb2qqg4MH+6JKFRpyzGenTg1G69b2XIsQQog80UhbxcpISIDRs5vQunsO4sREGPzxByxHjIBW6dLcEYQUjNDQBHz4EMe1CJE/SuCosKxggnqE5CMtIgK+AwbAu1EjFG/aFI5+fjD73/+4vXlj8jcU2BFCCCGqi6ZQKQYzsoPpWAvZsAFaEe+QYVWanS6l7+wMNaGQO4ooEl0W/EXvL8qJEjgqja46ecgUi/Fh/Xo8KF8eouBg1PT2ht3y5VDX1eWO+L7CNHSUEEIIKWyYxzx1mBUs0fv3CN22DdEXL0IojckiqjaDqK4L1PX0uCOIsqAwmBD5oQSOCsuaQkUBxa+LvX0bD2vUQNCyZSgvDRKqXrkC7YoVub0/hu89cklJaThyxBthYQncFsJHb95EIi4uhWsRQgiRJ6ajhkYaFAxxcjIiT51C6I4d7GISBs2asdOlUg0t6BwQQlQeJXDkIMPvLBpUnYw/pv6DcfN/7OM2eCYM/jiI22ncX5IPsrLdNKT356WFheFlnz542rw5DF1dUdvXFyZdu3J7fw7z4+fzCJyYmGQsWHAZAQGR3BbCRxMmnMCdO4FcixBCiDzJEjgUb+Un5mec4OXFjopOfPwY2vb2sulS9euz06VUYbTzhQvD4OJSnmuphsJ2XQwe7IThw+txLX5ThWtKFVEC53dJ4nB43SXci4/EtcOXsW73dew5540LNx5iz97LWLtLum3PbRy98QznLrpjO7dt09UQxIV9RFA69/fkg6xrjuKJH8csPRm8ahW7ulT6x4+o9fQpSi9eDKG2NnfEz2MeXHT/I4QQQlQX85yneCv/sNOl/v4bUWfPsjEZu7pU167ZpkvJzgGdBGVUmBIB5uZ6sLTMfVVaPqFrSXlRAuc3JT+6gEWX4pGppoWqHbvj/PV1iHJfBt9LbhhhJyuepuXcDZ5XFuPV3XWIvjcDG9qZg0kHZKbF4l2YhD0mP2TdLOkC/DGxN27Aq1o1fFi3DhX27kWVCxdQrFw5bu/voQQOIYQQorqYmIviLfnLNl0qMvLTdClaXYoQUlhRAud3iCOwc81N+GYWh+usKbi9qiVa2GqxP1RJbDC8g8TSr4SoWL0MTLifdBHTsnBbORoL6kiPk8QiKIQ5Jn9kJXCoBs63iT58wIsePfC0VSsYd+oEx5cvYdyhA7f39zHxHA1BJIQQQlSXLIHDNchvY36e8Z6eeU6Xyh3/z8G5cy/x/n0s11INhe26CA2NR0iIaiwjTq8vyokSOL8h5sYZLHcXo/rwkfh3YEl8uSZR2lN/eIukXwh0UbO6OdRlm2XULTF4cC1YIh7vQ/OvCE7WRUcJnNxJ0tMRtHQpu7qUOCkJjj4+KDV/PoRaWtwR8sH3HjkdHU106VKFHRJK+KtMGRPo6xflWoQQwnNpMbh79ASGDFmEys5jYFBpGPSrj4Od6xJ0mXMWR18kgukik4Q9wfIlV3EnXvbH8gsTc1G8JR8pgYEI3bIF0efO5TldKi98j7nWrbuFFy/CuZbqKEyJgB07PLBlyz2uxV+UkFZelMD5ZYm4ds4H8VXbYPvostmSN5CGDL5P3iJSerNSK1oSdapocNs/03WqhHramQj5EI0Mbpu8Za1CRXKKvnwZXg4O7Hxq+4MH4XD6NLTs7Li98sXcAPn84CpeXAtz5rRA6dJG3BbCR6tWtYezMw05J4TwnQTRjy6he6sZaDj5HM5H6MK5fXPMmdoN84Y0QHObNLgfOopu7abBaepZzJmxE9N2euJhYv5NWWfIRtrSG8/vyIiNRcThwwjfuxcZcXEwcHGB5ciRPzxdqjAlCQghhRclcH6ZDjovmw/fba6opsltyiJJhId3GJuYUS9TGk65dRjoVMGyY3/hiptN9tE5ciV7klGP0GepQUF43rkznrdvD7NeveD4/DmM2rTh9uYPWW8QRRWEEELI70p6chbt+x/E0XBTDFs/H69OjsGWyW0xvu8fGDeyM7ZsnQO/8yMx1gF4fPgoFl2PhyRTgvT86i3jMJ1m1GP9a5gR0THXruHDhg1I9vWFTo0asBo9Gvp160JN8OOvKjRdXTlRbSj+omtKOVEC53cIdWBmlMs83PRAeLzIYGbiwtLBDlwt469owbaMKQyLcM18kHXN0Y1TGhyIRHi3cCE8K1ZkfzBMnRvb2bMh0Pw6+5Y/6P5HCCGE/KaM91j35xncTdBEw/HDsb6NOYpxu76kXdoRq/eMxrQqRbkxMWJk5OOqnwzmOU8dZj8v8elTts5N3O3b0LSygsWQITBu2/a3Vv8kyocSAfxD74/KixI4+SDjVQAexjI3Kk3UqGEr/f+KkTWFqrAHFFHnzsGzcmWE79uHSseOsZ+itrbc3oLB5wdXREQiunffgydPQrgthI82bryDZ89CuRYhhPBPxitPHPFJQ6aGLdq3NENepWxZeuUxd2lr1GUzPBKk59+aEZ/QC8+PYxaQYFaWijx+nB1lY9KlC8wHDICmhQV3xM9jQi2+nwNX14qwti7OtQgfWVrqwcqK/8uIE+VFCRy5k+DjkwC8ZudPWaJ2NfkWxP0ZhT3ZzRTB82nXDi+6dYPFoEGo9ewZDFu04PYWHCaY4PO5SEvLwMuXEUhKYqpyE766eNEXQUExXIsQQvhHHBGLCKaUjSQBYewX31akQlNMaVUcQmlslpGRvw9iqjv4Y8SJiYg8cQKh27cjLTQUxRs1YleX0q5UiTvi1zGdZXzPoY0Z0xD29mZcSzUUtrzmwIFOGDasHtciRP4ogSN36fD0DgLzqiu0KIU6Vor7EavCg+xXSFJT8fbPP+Fpbw9B0aLsdKkS06ZBUCQf56t9A3MOaOgoIYQQ8nvUbUxRghl2Iw7F30vP4X7895I4xdCiWzN0alQGdtr5GxAxz3maQpW3TLEYcXfvypYFf/KEXTiCKVBcvHFjqKnnXzVIQsivKYzvkHxBCRx5ywiBx7NkMCGFTiU7VFfU/CkpWQKncF19kSdPsombj4cPw+HMGdhL/1vUxobbqxh8H4FDCCGEKANhKScMbKAtDV4zEe1xHM3arsGUo/4I/0aB4qK1W+Pw9j7oa5u/IS/znKcXntwlv36NkE2bEHPlCtQ0Ndklwc1694aGoSF3hHzIzgGdBEKIaqMEjpxJogLg8ZaZaC1E5ep20JFtVgjmQVZYeoNS3rzBM1dX+PbpA0s3N9R88gQGf/zB7VUsiiUIIYQQORAYY8C8vuhXWoMtTpwc9AzLJy+CXeMlGLDuPh5E5PNSU99QGDvNvic9JgYR//6LiH/+Yb/Wq1NHNl3K3p47gnxt7dpbePEinGupisJ1XTx69B5eXsFci99oBoFyogSOnKU+8cdTZqUDoTEcqxl+u8BePisM87HFyckInDmTLVKsbmAAR19f2EycCIGGBneE4skCOv6eCzMzXRw82AdVq1pxWwgfubk5w8Hh14tDEkKIMhBa18b2o1Ox+X/lYMXOjM5E0gc/7F69DXUaTkH9iadw1DeJHQldkCiB8xm7LPjVqwjZuBHJr15B08YGlsOGsXUI83s6O99PwfnzL/H+fSzXUh2FKRFw7txLnDrlw7X4i+5nyosSOHKVAZ/H7xDDjHzRtkVd++/N6U3GoQkTYVTNDYZV3aT/HQPrHqfwMANIe3wMTrVGsdsNq42CqdNsjL8tWwNT7H8JrnXHcH9uFEzqbcH+XGuTqvZ87I9Hj7LLgkedPo0qly6h4oED0LS05PYqFz4/tzQ0hLC3N4e2tmJqCBH5aNGiAkqUMOBahBDCXwIDOwxbNB2vrk7Fdrc6cLYqynaYZYpicO/YcXRrOx1OU6/DM67g0jjMc57ed8DWt2GXBb9zB+qGhjDt0QMWAweiiFn+F+al0QLKia4LQuSLEjjyJEmAh3cEmAlU6hVLw4lduvJbiqH78llYU0+IuAQBGs2ah3cH26GmOlCkeidc2ewMq+RkJJZqgZu3F2B1A9moEqGdC85dGYSOWiIU/6MvvK4PR+9c3suY5xhfEzgZsbEInDULD2vWZD+Bs2ez2xjJvr546uICv8GDYT1hAmo+eoTiDRuy+5QR8+CioIIQQgiRr2LWFTBo0jDcvrUSPrv7YHJLW5hJQ6XMjAR4Hd6HZr2P4GpMwSRxmFHPhbnHOvXdO4Rs28auMMUw7tABliNGoFj58mybEMI/9PqinCiBI0+p/vDwFTPjXlCqSmlY/MhPV6iP+tXMIZT+n6GhTrYpV7qV7VBZS3qSdHVg/NXgh8RH3rghqoTpE2vBNo9CyXwNJtIiIvC4Xj0ELVok/T4fsZ+ghQvxqG5dvBo1Cl5Vq6KIpSVq+/nBeuxYpV+9gDkHfL8BUgKKEEKIoqTFxyH4YwryrHAjKIYKjZpi2eY/4XdqCNyqFJNGYpmI97mMEWv9kMQdlt8K4ypU6dHRiDh0CGG7dyMtLAy6tWvDys0NOtJYraBjUCZUoWkfyonCSELkhxI4cpTg/hS34pk7lAClS1vixyacCGBqoosimcmIjGXG7nyW8S4UASJAEpeIj1/uEkdg52ZPaHVriz7fWKZc9tKdiefPw7J9XrwIkx3ASUpKy3FMQEAUt1cmKiopxzEhIXHcXhlmzu7Xx8TEJHN7Zf+er/czny8lJ6fh0ZBRSH75ktvyWYqvLz7++y+qXr+OCtJAoSCG48oLnx9czHmtWnUF7t0L5LYQPpow4STu3AngWoQQwhcZuL96EexcD+B8CrfpG/Qr1MO63UMwwIaJj8QIuOiBO9JYqiAUptyBJDUV0RcvyurcSOMzTWtrWAweDKNWrSDQVOASrDw3dmxD2NvzJ779EYUtqVajhjUcHUtwLULkjxI4vyslFJf/u4mNmw6g85x7eM+O1BXD/eBhLPvnDv57HPfdQnoaJnowFEgQE5P4+VhJPI5tugqvNOnLf3wCor5I4CTev4j1rytg6qDSKMpty01WT0TPnvuyffr2/Yc7QsbPLyLHMXPnXuD2yly86JvjmN27Pbm9Mlu33s9xzI0b/txe2Yigr/czny/5+0fiw/krXCunTLEY+vXqcS1+kD23qOuBKNabNx8RF5fKtQghhC8ykZScDknMK1zyltUC/B6BQWX0a2YCZnwu0wkWxQZX+Vd38POiEfx+Uf2R0baZEgniHzzA+3XrEO/uzo6IZpYEtxg0SOF1CJl/P99zBa1aVYS1dXGuRfjI1bUi2ratxLX4jUbgKydK4PymtCdXMXzKboxafgWXPzDTpxiZiHlyC1Nn7sYK9+TvvroLjfVhIj0TMdEJnxI4ac+vYplXSbSrLpQFH1l/iTgCuzY/gH6vtujG/KFvYC46oVCAp08nZ/t4eU3gjpBhMsVfH7NvXy9ur8z//lczxzEzZjTj9sosWNAqxzEdOzpwe6XfZy7/FubzpcqVLWBhmPfYJUnKD3S/KRlVmEJFCCGEKIYEySkiSMSROPrPI0R8r1eMo64ue5MXWpigFDs/Pf/qDma95Ah4GFVnxMfjzYQJeOTkxC4M8bxrV7YA8deY7zHp+XOEbNmC6PPnIdTWhun//scmbrTs7LijFIs5DTSFSjlRIoB/6FpSXpTA+U1F6vSGv/8uZAbm9tmO+yMsvruUuLqJPowFEkTHJLIFkCGJw6FNtyHs0R59Sxdj5jghius4T3S/iPWBDpjez+a7U7RkDzKuwRPMzUKvdm2ulZNhy5bcV/xB9z9CCCHkV2UiOZUZDZOJ8AvHMedm/PeXCE8LwcX7H6UxlRD2rRxRMytgyqe6g1nvpnx74ZGkpeFZ69b4sHo1Eh48QIqfHyKPHsWT5s0Rd/cuewwz4ibBywsf1q1jV/8UJyaysRhboLhsWfYYQr6F4mBC5IsSOMpARx9mxYC4mCS2QJ/oySWseFYBU/uWgJWJLgSSZEQxqyiII7B7sxdM+7RGB4Pvnzom283H7GnJRYsgLJ5z+Ki6gQFKSffxDzMCh789D1m/Q5SJJ4QQUuAkIiQlZ7KjmTMzwvH3hE2Y5/6N6eniOFxesQurn4uhUaohlgwu+UWHV/7UHWSf8exzXvrvlP6XL5/Q7dsRn9tom9RU+A4ciEQfH3ZJ8KgzZyBOSIBe/fqwGjOGLVTMvJXn9ncq9CORMBEX913w0+jRx+Du/o5rET46e/YFTp3y4Vr8Jr2siBKiBI4yUNODmaEa0mITEZsRhf0b70G3V2u0Ly6AOZPAyUxEZIwESR4XsT6oGmb0svruqB4GX1eh0nFwQPW7d2HYqhW3BSjauBmqSbdpV67MbeEP5hTw+QZoZaXPTnWrW7ckt4Xw0apVHeDsXIprEUIIT2SKkJjKjIwph5EjHVFW5IcF/eaj2ezLOP0iFp8qe4li8eTKZbj1moc2f79FRkknbN7aE62ksdSX8qPuIJM8sEoNRVgFc9wSCHjzeePmxn0HOaW+eoWH0njMf9w4vJs3D29nz8az5s1xR0sr179LGT6tlrWDWmz2RTj45vXrj4iPV716dYUpEfD48Qd4eQVzLf6iflvlpSZ96FBuTdHEH7Gy53RMT2yNW7NSMHBaKpadGYg2ekDy6Y0wH/cKXbdMQ419y3Cs8TRcGmj2Qwmca9deY/78S7hxI+8HNMl/Dx4E4dYtf0ya1ITbQpRB9+57cOhQP65FCCFEKWUE48+OS3GtzTRcG2aNJF93LFt9FluuvUd0hho0ihaFvhaQkpCK5IxMqBe3RMuurpjnVhfV9XP2U2b4noBT2zNIHzoTjyaXYgsdpz07jnrD3sLG/DlOva2N/+4PRQdmqpQ4Auv7LsAex0m4N842z6nrIlEG6tVcin0L68DGhj8FaF+NHInEBw+4Vk42U6agePPm0DD4quiPklq//jaqdmyC1u2rclv4p2XLrZgwoTFcXMpzW/hvxw536XVhoFLf07csXHgZaWkZ0newzx3RfHTs2FPp9yFGjx7VuS1EWVACRymk4sCwsej/rBJ62AbiQ7OpuDyImaMtDQru70OF3rdRrkcdvHUvgs2ne6NpMdmf+p6rV19JbyJXcP36SG4LUQRPzyB2Na7JkymBo0wogUMIIfyVGhGMew/fwS80AQnpaiiqowfbMraoV80KJt9axTrqOlrU24fnncfD/y8HaErisM9tHjZUHIVpQWvQ5XQpbHswHoP0gcS7+1BjcgoWnx2Mzt+Yup6Skg4npzU4fnwA7OyMua3KL2jZMgROncq1sitiZYU6wcG8Gsk9deppNGxoh9at7bkt/EMJHP5TpQQOk5zu2bMGt4UoC5pCpRSEMDPWQWaYNw59qIbp3WXJG4a6MVPgOB3Xj3ij7KBWaPyDyRuGbAoV1yAKIwt++JsnTU8X4/nzMCQmirgthBBCiGIVNbVB01bOGDGwFaYMa4kxveqhvdN3kjeMfKg7mNUXKhDwJ+jKzMiArpMTNExMuC1fkMYtdsuX8yp5QwiRL7r+lRclcJSCAGZsrRtNNBrUCk11uM1SQhPZEuMo6YwZnY1+6oQx8QSfgom8HDnijZiYZK7FT3we5xYenoCePffh6dMQbgvho3bttrOF9QghpFDLp7qDMsofc0lEInaZ8Pdr1iDuxg1YDB8OA1dXCLlpUinla6DKlSsw7dmTbfMJE2vx/aVz/fpOqFPHlmuphsKWCGjduqI05uJfzU7CH5TAUQpCOIz7E2mBm3G5n2n2QKF4I5zz24W0S91Q73u9Srng+z2T6dVasOAyQkPjuS38RDMVCSGEECUg1Ie5kRoy4xIQ/OAiVr5ywDQ2SSOAsYkuNDOTERX5Ebu3PIJ1f1e00OP+3DcwI54ZyhxzZSQkIObqVbxfvZr9r5qGBgyaN4ftrFmocvYsnKOj0Ugaq7T0fQiDpk25P0UKWtmyJtDTy6tcNuGD6tWtUauWDdciRP4ogaPC+LoKlaphzgHlbwghhBAlINSFuYEQmbHB2LjeE+b9XNGKS9IIjfVghBS8v3Ee6z7UxMweP7ZoRNYzXhlHPacEBCDi0CE2ccOMvNG0tmZH1zDLgevXqwdBkbxKM/MP01lGYa9yoo5M/qFrSXlRAkeFyR5kdPUpGp0CQgghRFnIv+5g1supsjzvM2JjEXvzJt6vW4fwffuQ8uoVdKpUgeXIkTDr3RvFypVTyfiQcgSEkMKAEjgqjHmQqUINHL5jYiQ+BxVFiqjD3t4MOjq/MIePEEIIUSryrzv4OYGjuJhLkp6OxCdPELZnD96vXYvYGzeQmZYGvTp12NE2xh06oEhuBYu/8PZtNKKikrgWP/E9McWsQnXpkh/XInzErLq1des9rsVvNHJKOVECR4XJRuBwDZ5iHsRdulSBgcFPLL+lZJjvgc83QFNTHRw82BdVqlhyWwgfnTo1mNdLqxJCiHzIv+5g1iO+oJMHktRUJL14gY/Hj+P9ihWIPHECog8foF2lCjvSxnrCBBi2aAF1fX3uT3zb/PmXpM+K51yLn/ge96qqwpQHCA1NwIcPcVyLEPmjBI4KkyVw+P8kmzOnBSwsfqCKoJKiYIIQQghRXZ9H4LD/yVdpYWGIvX0bYbt2IXj5cnw8cgRJT59C3cAARq1bw2biRJh07AgtOzuoCSjMJ4qnCu8ihCgTurOrMCaeoClUyoDfI3AIIYQQkrfPq1DJP+ZipkalvHmDqLNnEbxqFUK2bkXstWtIi4iAVvnyMGrThp0iZTl8OHRr1YJAs/BOd1aVjktClAW9vignSuCoMNkqVFyDKAxzDvh8A0xKSsORI94IC0vgthA+evMmEnFxKVyLEEKIvP1u8oBJ1jBToBK9vRF96RJCd+5E8JIlCD9wAAleXhBqaUG/QQOYDxgAmylTYNqtG3Rr1oSGgQH3NxRu9LKpvKgjk38oGaq8KIGjwlSlJ2LevIsIDY3nWvzDnAM+P7hiYpKxYMFlBAREclsIH02YcAJ37gRyLUIIIfKS9Yz/kZArUyxGemQkkl+/RryHB6IvXEDEv//iw/r1CFq8GKHbtyPy5EnE37/PHseMsjFs1QrWY8fCcsQIGDRtiqIlSuRLfFeypCGMjbW5FlGECxeGwcWlPNdSDYUtDzB4sBOGD6/HtQiRP0rgqDi+J3CYoOi//56ySQQ+o44HQgghRDVJJLL/5hVzMaNqmOW8mdWh3i1ahA8bNyLin3/Y5A2TxEkJDAQTJmja2ECnRg2Y9eoF63HjUIIbZaNXuzbUixeX/WX5aM4cF7RtW4lr8Y+s45JrEKIg5uZ6sLT8scLhyo7eX5QTJXBUGDOFimrgKB4FE4QQQojqyhqBk1fNYGbUjSgkBGrq6ihasiS0HRyg37AhTLp1g9Xo0SgxfTqsRoyAeZ8+MG7bFlplyvzwylGE8AElAviH3l+UFyVwVBhzs6SLT/FkPXL05CKEEEJUUdbLaV4jcJgpTyWmToWVmxvM+/aFSadOMGjSBNoVK0LD0JD9c0xyh/mQXyeLe/kd+J479xLv38dyLdXA93Pys5iyDyEhtIw4yT+UwFFhsqGklMFRNOYU8LnnQUdHE126VGGHhBL+KlPGBPr6RbkWIYQQeckagcN3N2/6w88vgmvxjyqch3XrbuHFi3CuRfhoxw4PbNlyj2vxm6rc21QNJXBUmCokcJh/PzMn28KCz8kDfhcxLl5cS3oOWqB0aSNuC+GjVavaw9m5NNcihBAiL1nPeL5PW9+zxxP37r3lWvxE/ZbKiRIB/EODAJQXJXBUGHOvzGs+Np906VIVBgbFuBb/8H0EDiGEEELylvWMpxcexaNzoHzolBAiX5TAUWGqMAJHFcgSOJTBISQ3S5deRdeue+DlFcxtkTOJCB+8vbBy9jo0+d9BnMyttEBSKE5s3oMufZehzeQLuBXFLSlDCCE/IOsZTyEXIUSV0OuLcqIEjgpjVqGiBI7iMeeAzzfAiIhEdO++B0+ehHBbCB9t3HgHz56Fci3l0b17dRgYaGHgwIOYNOkUW/xPbpIeYkBdN9h03IhJ+x/jxv1b2HUlHl+mZ9LeuWNwp/novOwG/rv9EmePnsIWDzG3lxBCvu9zAodiLkVShc4yV9eKsLbO/yXjSf6xtNSDlRX/V5Gj25nyogSOiuP7fGzmYVylynK8eBHGbeEfvt8A09Iy8PJlBJKSRNwWwkcXL/oiKCiGaymPkiUNsXVrV6xZ04G9ztu124HNm+8iJSWdO+LXSVK04dilOcb2a4yOFbWkD7wUXD/vjQgugyMJf4iRA3bgSJod+g5qgzljO2Lp0jFY0kxDdgAhhPyArLwB3xM4jRvboUIFU67FPyqQv8GYMQ1hb2/GtVRF4coEDBzohGHD6nEtQuSPEjgqjEl+UPaUEKLsmJeepk3L4sSJgRg+vC527/ZE+/Y7cOmS32/1qAqMK2Dk5O5Y/Wc/7BpVFcbS+2GChxdOfZQAGaHYNHk3Tlt0wpXTk7BrVmfMG9cOU7pVQIki3F9ACCE/gBnxzOB7zNW3ryPq1i3JtfiJRkERIk8qkBVVQZTAUWES6TsKPciUAb9XoSKkoBQpoo5Bg+rg9OnBcHQswU6pYqZWyWNZW/2GjmhpJL0Wk/zw3+VovNy7D3PfVMaGNS3gqMMdRAghvyDrEc/3Uc98Rx2XyoviYP75lXdIJpndu/cB7N//EOnpNB09v6hJLyi6olTUvn1eOHXqOf78swW3hX+YX8///W8/Fi1y5e0y1sHBMdIX0hcYObI+t4VfIiISMHbsCUyf/geqVLHktvLf9OlnsXhxa66l+iZMOIlOnRx4tZT406chWLLkKvtyxAwp37y5y2+sSCfCmSnT0OFILIpUqgTH8PcwmjobR7sYUU8GIeS3BAZGoX37nXB3H4tixWgIn6KMGvUfu3Jp48ZluC38s3btLTRvXl6lplEx7yNMrbs2bSpxW1Tbo0fv2URGrVo23BZ+Onv2BaKiktiReT+KeW9jai7u3PkAJUoYYOrUpnIZ1SdJjoHXTQ/sOe4N3xIuODKrBgy5fVkS/R9h4857uPY2HVaNXbF0UHmYqGiARwkcFfbq1UeMHHmULUJLCCF8V6eOrTQw6AwNDSG35eckXdiGkiPvIzJTDQYNeuHBrj9Q5tf+KkII+cTfPxIdO+6Ch8c4aGnxt4bW/PmXUL26Fdq25eeLtpvbf+jWrRoaNbLjtvBPy5ZbMWFCY7i4lOe28F9hS+AsXHiZrR85f34rbgs/MQmcyMgk9Ov34wmcLO/exWDFiuu4edOfra01eXIT2NgYcHt/TuLF7Sg/+i5C08FO6FLTrY6d10ahv3FWdiYD/qf2osOMO/BJkqU11HSdcNhzOLposk2VQwkcQgghSilrBE5ISDzGjm2I9u0r//oUBUk8/ps4F91PxEIMIZyn/4UbQ02lXxFCyO958yYSnTrtgqfneGhqqnNb+YeZstqgQWkMGFCb28IvTKcls7IhJXCUC5PAKV5ci7eJwZ9FCZzP7t4NxLJl1xAcHMuO5Bk6tM5PjlKUIML9OtZeC0dCUhRunX6MJwmaaLNkCU5214dAuj/k4m40GeOJzNo10baqEXSLaKJEbSf0rmMEVR0PSSPHCSGEKBVm1OCMGWfRv/+/qFHDmq2J07Gjw2/Vl0h+eB5zr+jApb4hhBDD6+ojvKPp2YQQOcjqC6X6K4pH50D5UD3Owqt+/VI4erQ/m5Q8fPgx2rTZLo3pnn8q/P59ApjW+QOLZvwP6xYNwqwmOtItqbh5/jHCmPUo/K9hwHRv2EyYjIf7BmPlpI74c4wrBqpw8oZBCRxCCCFKQSTKwPbt7mjbdjtiY1Pw338DMGlSE+jq/uYY2LRgrFtyE8mtu2DXqBooJZT+b3k/xvH33HrihBDyGz4ncOhFVdHoHBAiP/KYqMNMe+/duybOnBnC1qeaOfMc+vY9AB+fUO6IH1UMLVo7wFR6iSc+8MLJkBBsnH0CLxv2wf4hpaHLHVUY0BQqQgghCsU8hq5de40VK25AXV2AKVOassP45SMdTzevQKPd+thwajh6GfhjUsslWBkoQP1pC3FzmBlNoyKE/JawsAQMH34EAQFR3BZCCCHfw8R7THLnhyV7Y1DTddgZro4azqXwwU8HS0+4oZ9l4RqTQgkcQgghChMYGI2//rqMZ89CMWJEffzvfzV+uUhxTunwP70Pbac8RYUFs3CkizE7fcpz2RzU3xwCtcrt4Xm8A6qwJSsy4H/uGm5aOWNg1V9d6YoQUliFhsYjJiaZa/ETU2+sWDENtl4JIYTIE5NxuHDBF3v2eLJtJnEzcWJjCIU/k3wR4dj4Seh6IhEStWJwmTcH5/oUvo44SuAQQghRmJUrb7DTpcaNawgjI21u62+Ie4UVc47jSEAKUhOj8fpdCmy6jcDNv2rAnIsRxAEX8EfbQ7iZoouWsybjaH9j+B/ajc4L36DavCn4t4sZ+FuGlBBCCCFEeTAr9f311xV2ifWePWtg+PB60NMryu39cZIoL/RrvQn7wzOhplEWy65Mw6QSha8iDCVwCCFEJUjgd/YUtj5Mln71M9RgWqc5prowo1P4L83rIBx6XMQrsfQ7E+rAsVdf/DPTEXbZqtmJ4Ll5NVqt8EOURAhtHSHS1MzRd+5QrOtsBRp/QwghhBDye5KS0rBlyz3s3+8FJydbdspU6dJG3N6fJcKdv+aj9W0j1I7zwZVQIRrOXIRrgwvfiqKUwCEFK94PG9c/xOtcVn8RWlfDtP72MBEAGb738Ofht0jk9n0mgFXDFpjY2ICrwC2Gz4kT2PFUhK9/kTXKOGHe/+zoZewXZPjdx5+HAnP5+cuoSf9PqKEObT192JS2ReP6ZVFGr/BlwJVLMv6buQTTLkfg7UcRMthtRWBRyhiGXwwnyUhLRWxkHCKSxJ+uGU2nHnh5oAVb3Jf/UuF7wwMX3wpRtm41tCivk8eDPQMhjx/jzONopOtboGHTynAwoN9hQgghhJDfwaQXmOlSK1Zch6amBqZMacIu7/87RcbTfM+iSbcbsF87C71v/YVmuyOg7tgdPv+2hF0hy+BQAocUqIxnZ9Fq+FncDElBOrdNTVgUFjaGKNG8B67PcEBRSBD2399wnueJgITPL5nCYvooZWkI16lTsLYZN+xOEocDU1di/t1IBIZm/Z1q0DY2Qe1eg3FhXFmVXkYuf0jw4eh2tN78CsHBUYjmTpS2iRlKFpfdITMlYqQmJiL0YxJSJNJzo2uJruMGYGP/MjCkd2DFkl4T+0bMRP9LScjUrYUDd9zQU4/bl0Uiwoenj7Fl7X9YcSMSIq1K2HR9Aoab0ckjhBBCCCG/5s2bSCxefAU+PmEYNqwuW+umSJHfnJguCsbSPouxzqQPPNfXhfHjg3DofhGvhWWw9OJ0TC5ZuOJXSuCQgid9wfxv0nx0Px4NMbTQYv58nO2Ty/SNxNeY0mUpVviJAfXSWHhhOmbY5XEDEH/Awo5zMfuZANUGjsXFGZVgWsiysfInQdDelbCf+wJJ0vPUdd1KHG6bvbBhUvAzrJm9C/NuxiBdTRsuc2fibD8Lqh+iUCIcGzcRXU8mQVi9C3yOtEa5vK6FjAjsG7sUA84lo83ypTjR5etMDyGEEEIIId8nkWSiSZONcHYujbFjG8LUVIfb8xtEETg0Zw0GXrfAxmNu6G8tkMavAZjh+hcWvwZqjp0L93E2snePtAgc3e8L2y4N4ajCIS0lcIhCJJxYD8vxj5AoMMDQnUuxtZEGt+dL6bg4Ywpa/xsLSdEa2PdwNHrlMR9KEn4LHV1246x+I5w91w8t5HC/IEDM0bWwmeyNZI1yWH51Kiba5JLhjn+Koa3X4O/3mRCaOeP41UFoK4datOQXfXqoSWDbexL8FthDk9uVG0n4PXRvswPX6gxFwHon6HPbCSGEEEJITmJ/Tyz45zVif/ItWmBUAWOG10BJFe5kTkvL+O0RNzGe5zFqlSf8EtMRHxIO/0RDDFw/HVtd9LkSGhK82r4MNRf5IdmoMlbtG4XRNhHYMX0DJjwqgfUHhqO/Cv+Qabw8UYgiZsXZWjeQpCA6Pq+Sq0LYWBRnf0kzxcnfOC4dnrsv4XxCUTQb2hrNKHkjJ+nwfvYeqdKvhJa2qJ3X9Bq9imhfV5c9T+LIANx7Lau+QhRDIj0HHu+YIlNFUKVqiW8mbxgCM0eMbmuCxMev4CXiNhJCCCGEkFwlvHqBk1cfYMfey1i7S/bZfuYprtx5/ulz+eYTHD99G5u4/cxnzbpLOB7yc0tN8M1vT5dCBl5cvInD7oF46PMegZnWGLlqAjZ+St4wBCjXqxtmOmlDLcoH49uNgYHjPEwJKI+NuwerdPKGQSNwiEKIX59CHdfj8MoQoumfy3G5X1ZR4i8wtTxGzkb/iwmQqJfAnJNzMM8+5wUpibiDLi124oyhC66e6YEG2Wf5kF8lDsWSLrMx3VuM4q2GIWhTHehyu7JLx7XZ0+GyPwpioRnG/bMQq2vTJCpFSbqwFSVHuiNSaIs/T8/G3ArZrxlJhAdGjb0HywmjMMtRNvJNEhOFYKEBbKkQNSGEqIhk3N57Cv+9zeVlUWCMdiOaoamR9J6fEYz9a27DK5nb9wWhWWVMHFIFltyjIa8FDtTULdF9fGPUofjr52W8x4E1t+CZy88/i0AohGaxYjCzsEDNOvaoX7JYzpiZKIAEYcc2ovKkR4jK1EKXtStwpN3XUwUkSA57i5MHTmLmtqcITCsCl4VLcL5XLu895LOkUJw//Qxv1M3QpJkDKhfP46eVFgOPK09wP1QMQ7tyaN3ABkaqnbthUQKHKEbsTbg67cb5NCFqjJ0Lj6y5i18QPT6CWt3OwYcZ0CEwgtv+xdhQ9+upVunwWDYfDbbEwHXpAhzrSjdEuYm7i471t+NEkhD1p/+Fm0PzWKZPEovN/abA7U46UMQe629NhJuSF8MVx4Xi+uVHuOgVBL+QeCSkC6FnZo46fzTA0Na2YGJafsqA++I5aLAtFBKTBjh1eyBaZxuCI4H/zuWothRYdH0yxmRF5YQQQlRLxlss6b8eSzyiEfdpYKwAuqYmsLGsjlUHu6OF9Pkg+XgXfbscwJGgFKRxR6kJNGFuYwTrJl1wbW51yAY2SxB+YhdarHuBd8HRiOX+TqGWHkpVbYI9ezqgHq0a8dMkYXfQf+BZ3Ar5iKA42cIdalr6KGutDTbilb6mpYtSEBkRhxiRdK9AC/auHfD3gmaom9dLLSkwyRe2osRId0QJ7bDk4gxMLZ3XOREj4NhWNJ7sibg/BuHNNmeYcHsI+Vl05RPFkD7wzXSZpeQkiIlOlN7WviKJwv4NN/BCrCb7JZUkIyomZy+SJOIBlh78ALXyTTCjHSVv5En0zB+PUqRfCI1Qq6phHksxSx9Jgffxj1c6G3To1K6BNuzcOCWV9AEHl65BpQYz4TL5BPY9jgP0DWCtl47nV69h5piFcBx9G6/4OgtMEgePpx/Z66lI+ZKomS3fKUaY+ykM2eAHUckyqGdKVwshhKgs9ZKYtn85/NbVRVb5Ov2G/8PTe0vw/LgsecMQmNTH/psrcX2otSxhIH3aO02Yi7c3FuHBp+QNQwCzDoPgfW057o4pyR6rVdEFF26txut/KXnzqwTmzth7bjECzvbEH9wIJv0mPeF1aRF8mM/lv+An/RlHPVqKcxMdYCVIwfMzB9F2zDX40ox1BRPj+dMgxEsDYKGZLWpZfSuuEqJ0h574q4Uekh88w7V4bjMhv4AieKIYanowM2ASOJmIicmZwEn2vIhlt0Swb+eE6uzQnHREx3xdoCMdXnsu4EycLjqMaIZa3yv2QX6CBP6PAxEqkZ6qYjZwqpjHlKiUIKyadRb3UqXHadpg1Fhn2CrpXSX51W30a78A/9vig/gKTfH30WV4d3EaTq0fin1bp+PpoU6oXywDgecPY+6Fb4xlVmYpAfB4KevBEwR5YMSI9eg0bD06Dl6JRq2noFyvk7geAxhXLYPKNMuNEEJUnABmDRxQqyjztRp0rUxhkWtvjBZq1rODLK8vhIWVIfLMx0ji4P40AmKBCfpO7YBmxvQqIQ8CHU3IJt8I4VCtNPf1F4qZoOWo4djWhVm1NRNRd89i2Q2mSiFRGEk8PLwjwOTRtCqUQvXvFh00QNd+TiiV7I9bz9K5jYT8PLrrEsVQ14e5EZPAkb5zxiUiif2KI/6I3RvvwL94DUwfbw8rNthgEj0J2RI9ko+eWPLvBwgrNcUM1y8LWymOOCkGT27fxZI/N6F5j13Y/yGPQmUZ77B65GLU77IUEy5l++45EgScPYhOAzZh1qVI9uFQsJKlD6UQ9n9XvZwdaudYVSodIY9uYWyfFZjhnoRMDSN0+nM45ippFi0j4Bb69N+Dff5ilOs8BHf/6Y1BNQ2yFfgtVqYC6ppLf4syUxAYFMdt5Zc0X388TGTSN0VgZlQEIlE6UkVpSExMQlhIHBLZX0cN1KhZCmw8TwghRLVpFIeloazDLC42OUeHWRZ1S0NYsIGUGLHS4/KIXiB6cgWrb6RAz7klpjlT0Rt5Eb14i2dMP6XQCDWrGiD3Uc/F0KR5RZiwA9jj8eBhiGwzUYxUf7j7Mp1mQpSvbIscq1ZLYnFw1lK0Wf8KWV3Qmo7tcOXafKyr/3VJCEJ+HCVwiGIIdGFuqAH2GRSXgI9fRBSJ9y9g1b10VOvVBl3M9WGiLws8YrNNtUrHw93ncSZOH93c/kBVRY8mSH6EIQ1HQrvKBFTrux3T93ji+lvAOI+eKUmYH05deYV73rEQGOWS9MgIxYEtV3D8hicWTzmEI7Hc9oIiCsT957JpUZkBN9Gz83w4dZB+2v+J6i7TYFtjFEp03oV1D5NhXKUeVuydjUM9LL+74pFCpAVj1bSDOBEqhk7N9ji0yAmlcvy+SPDx3l2cDJJATd0EDZyMue18IkHI40C8lV4kakXsMGHTeJzbPUH6mYjLB+fg5bXxGFVGKP3+rFC3Bi3VRgghhYK6HswNZLGIKDYBsblmZqTPwGdBYBcwlIqNScg9gcO8kG65iRcww0C3+iq9FHLBkuCtdyDeS3/oasVKoLZ93kGtWlENaMr6P5EmUv5RHEzNwStHz2LytM1o13cpmvRcgfbj9mPx6XeIyitLyBNpfv54xMyfUtNB1SrmOWp5ioMfYNvxN0jWMeKmJ0oJdFDCulgeCTpCfgwlcIiCCGBqrM3+AmbGJyIqKzMjDsPfG+/irZEjpvezRhGhPiwM2aMQE5v0KaBgRt8wtW+K1HDBNCVYN1wi0oFT5+aYOqoNupdXZxNTmvZ2qJlHRiPlWQCeZkh/CsyDukIuD2p1YzSoZcw+DCSJ7/E4sGDH4GQE+uNhFJO+KYoKNcujRiVbVJd+ajjYwdm5Gnr1bYfVy9xw7cIqvD05BBPq6Cvpw0iCsDMnsdwrBRKhNOCc1BxVs50TCRKD/bB7+QY0GHUTr8RaqDW4D6ZX52PPiAge3sGyUVOl7FD3q+ShwKAcWtXUhbp5adQrQbd+QggpFKRxlLmhGhuXMPFWZG4vzaJArNnqjUjmsS99LsbEJOU6UocZfbPyWjIMmrhiAs1bl6MUeDzOGvVcGk55DmySIDogHBHsORTAtqQpu1UpqXrNQSa+fPwWAUynmYY1ajlkj4IzPvpi4bTTuJlmhro1i9MLN5Er+n0iCiKEmbEu+wsoiU0EmyuQirt5Dms8JXDs1xrtmR4jgT7MDJg9mUiUHieb7ZuBh3su4FSsIf7n1ggVlSBzwLwcDx7bEfNG10Z5YSY7nLJClVJg/+k5pMPTIwBx0u9ZWL4kNzf9a5poMLCxrCigmhDqAq67pUBIA4THAWxxPDWNEhgwtx+2LJJ9Ni/sg/VzeuCvca0xumstNCmvp5yjbrJIonH4yDP290u9REXULRKIM6dvYd2GI3AbvxYNmo2HaaMlGLDpCcJNHTB5zQxcnWoPNmfIN2lBcPcRSc+eGoyrlEGlHHnBdKRpGcOpReWv6kWlIvxjqvTPEUIIUT2a0nhL69OI508dZp9IEHziNLa9lkAWamQiNpfahMzom0NbbuK5mhWGjayDb9ZrJT9H9Bbuz0XSn7wAtlVKwzqvuFYcjv0nX7OxsJp2eXRsqi/brmQKRc1BpOGBd7A0spISRODfmRvZmoOdhq5Fy+5zUbrJMsxzTwQMSqNeeRpvQ+SLbr9EQQSwMJElcDKTkxDFPI3EH7BlowdCTOtgem8r2VBEgRbMjYqwgYc4LhGR0oiCHX3z73to1WmJqQ1ylHlTrLhAPGTS8QJd1KiWczglS/qiff5OlDQ4EqBE5VJ5PqiFptaoaKQGNXUjlClRkDd/MTy9g9gAQWhdCk58Xq0o8TVuPk+TBkXMqKIb6NF5KdqO2YXxa6/hP69IZFpXQP9R/8Ohw0sQfGU8lrWzhq7sT/KOODQAnmzNpbxq3BRD+7kzcXtWtWzfY8yNg6jvPA9TPKmgHiGEqB41mHLxlkQaR+WYtpLyGqu2+iCprBN6VJLFGjlqE0qJnl7FymtJMHFpjTFVFD9KVXVqDkq/lyB/eEYwkYomqlazyaOAtAje2/diyUMmptFA1b7t0c9a+eKzwlJzkJme7+6TwnZ+aRnrQTuNqTmYjuTkFMR8jEJYEtOZK91XuQxq02A1Imc8fjMjfFdMesNjyttkSpIQGSVG9OWzWO8N1BvQCq0/VQITwkwaeDAhRSYTeIgz8GjveZyOM0X/0Q1gp2RJbZGPP7zTpOFSkRJwqpz7Py4j4BmuvGNu+UVQpUqJvFd6yEhCTKL0dbxiOTjnqIyWjzJC4PEskR3JoVupNKryeGlQ8cdohDBLoUtvdWU6D8LtUwvw+v56JPhuRtjtBbizewQ2TWiObo4m0OH53TDR2x8+7PjrH69xI4l8jCl/3kGoQwMMrEEF9QghRPUIYJ7VYSZKQlS2AQ8SBB49jV3vtNFhZEf8IX2plo3UScxWm5BZeerw5hvwEdhi5EhHmCnyealqNQelYr0D8JJ7fjtVzdn9Igp/g53zVqDFcl9EZwpRsmUv/DO2LHKsL6FohabmoPS7iPCHJ1O0COqoM9gNZ9magxNwYf80eFxZgnP9LKEhfXuxr2EHQ9kfIURuKIFDFEZgrAcjNqJIQmRkEDZs8kS4ZV1M72nBJmxkBDA10ZEFFPHSgIIZffPPe2g3bIWJSpfSFuO19zt2brK6XSnULp7b5SVBwI3n3Iu2JRyr5L0WUOojX7gnCVG7Rc0CTVRJYgLgwYwikv7sHarmspQlL6mhmIU16jhYo4y5DoopWeLv96Xj8aN3SJR+JfzRGjdJb7Fmwm7sDNZHz5GNYa9yPxNCCCHMs9zYRFc2AkKSjI/RX4xUSXqJFdtfItW+Caa3MoC5YVZtwuxTrUTPrmDFtSRYtGmDUQp+WKhazUF2Wr30+c1Oi8oMw/YxC2WLRkg/tVxnonz90TCstwiDdr9BrEEp9J05Cfc3NEJFpRvVUZhqDkovncey3yuom6NuDb3sL9QCHTRoXAam6gZwqmn6xTsNIfLxA1E+IflD3UQfJsxvoCQJb46dwabn6mg0yBXNsw0eYHqO9NgHa2ZCHO7sOY9T8RYYMqoelK8Oawo8n4UiQxpOmFQqhXK5zZ8Sh+P45bfsnFmhaQk45jn8NQnnjj1GiG4VDO5UsDf/1Mf+eJIm/UJojFrV+F14TWhuitI67AQ8vPV9j5gv4tacRPC96oX7cd88SDmJAnDydjRbs6CYfWnU+GZgl44PHlcwsNsyTL4dj2KOzTGlkWqk6QghhOSkbpTVYZaMqE8PQgleHTyDve/10HVkM1QpIo23THXYZz471YqZ/8GQxOEIU/tGowzGjqiu8NEEqlVzUCojDO7PEtjnt45dGTSqzC0aUakknBwroW37PzBn9kAc/WcBgu/MwZ7BFWCujBmBwlRzUBrpez9+h0Tp9yowKIW65XKekNS0IrCtVhMtHLInqBI/xiGRh2EmUS58fjcjPCcw1IcJc1/LTMSZo48RVaI+ZnbLmawoaqQLpp5xpsgXG/e9h/4frTGumhJm7EXv8OAFs/S2BqpWK5Xr1Kgkz2vY+SSDnRdbtGJpVM/jRTvj9Q2supiESr1c0Z3NchWUZFy98ly2EoXQDPZlc8tC8Yi2PTo1kg0dT7h9BeueiGTbvyKJC8Le2UvhPPoodrjnsXyq0pEg0P0+dh64gGmjd2FboOxfnfHBD/uO3sO+Y58/e47cxMbtpzBj9ha4tJoEux4HsOtFCiQCY/Qa0Qi5xB6EEEJUhLqxPtgZRpJERMUyD3ip+GdYtvMVxFX+wLTmTOJGDebGuuyIlsykJERzj8s0ZvTNlUTYtG+DoWWU6LVBJWoOSk9JbAAe+DPpGyGqd+31edGIRX2xcd7/sGJKB0zt3wCd61rDVOlG3XyhENUchDga7k+j2HpJedW40XfphbtHeqDNl53ScU8xscskOC5+hdyjUUJ+jBLdiUmhI9SDmQEbKiBDUhTNB7dEbgMBhMbFZYFHZhqSJCUwwq02LJTwN1ccHICHH6WPLnVzOFaVDUPORhSENUtv4TU7LFmICpVLItf1A8Th2L7oArzMG2L5MLtcitHKX6r/cxw4egMrFmzC6OOxbE8Q0t9g2+Lz2H7MCw8+8rW7QBsdxndGWxPp75noHZaOWIsZp4O4oeFixLz1xb6121C32QKMvmeEaXtmYFsLfX7cGMWh2P/XDgyadQhLL4cjq6xByvNbGD35b/Sd+PnTf8pujFp0HIv3e+Cyb/ynwEGvTgtMds5zvVJCCCEqQGjKjXjOFCEqhhliK8GLA2fwb3hx9BzZlFu1UAB9E1122nSmJBmRzFQrbvSNT9EKmDC8cu4xi4KoRM1BqbSn0u+DeSjzfNRzYao5iCR/eLySJd1+uMaNJB6nFx/AroiSGNCtTLaizoT8LL5fQoTPhPowZ4bWSGmUaogZnYxz/YUUmOrBmB3RqgaLlq0xKuf6yEoh2ecd/Jh51sVtUCtH0ZoU3F23EysiDVCSHaarBXv73HqMkqXHbcN0LyNMWNIZzQskkMjAo4P70H/yHkze+RzvsqZ/ZybjwaHDGDL1Aq7ntnADTwhtG+LA/kEYWk36wwx/icVj5sK80kiYVBkB06YrMelcIhzHTMKL826Y5PjVPGZlJrTC7FPbkRm465c/cQeaKV0hcEIIIXKmpQdTXVmHWUx0AjJiH2HJHn+o1WyOyU0/95yxI3WYZ0JmEjvVKs3nKlZcTYJdl3YYaKtMT0fVqDnIfB8vvd+yo54F2rZwqsjzUc8sVa85CIhe+OMRExcLfrTGTSoe7tyGIYc/wqJdGwwry5tIkygp+g0iiqMufQE9LXsBTbvaA3kNBBCYNcPVV8wL5058WOso60VSOhIEBUWB6XwQmhh+NUw3GZ7bN6PbPiFGL20DRzbtzgRSX41qEcfjxpp16Ph3CjovHYX5tQuqLok66s1cgvSvXu4/fV7PwtSS/L5VaJerjy3Hl8H/xFjsW9gTS6d0wfJFI3Hj2lqEXJyADX3Kw4rHq20RQggheVLTg1lxLoETEwfvPWdxJNIIvUY2QoUv4hWhkb6sw0ySjKhoZvTNDTzTqoxJg8sp2YpHqlFzkJnS5uEdxk7FUa9QCrV5PCC20NQclP5GPbjkg2DpP11NqwScKn27pIMozA8bJi9Gs7+eI0KrHMYOc1CqkWyEnyiBQ4icGJvrg3n2Zrx7iZPPkiGRPsRi/Z9g+di/4LIuHl1Xj8LcOhXRtLoW1DITcX7vNXjFS/+AJBUB929gfJ8/4bo7FT1WTcDW1rIVEYg8acKmajX07uWCCQObon/baqhfsljBBmuEEEJIQVPXh7mRLIET/fYe/tr/DkWcWmDKVz1nQmZxCeahmJmCMC+m9k0yKvRsiz5WSva6oBI1B6VE/nB/yfwbBSjpYAdLPr+VqXTNQUAc7IsDh69j5dLNGPxvOJt0Q0YUbh2/k63m4L6jt/H33gtYuGwf/tdnNko2WoLRR4MQm6mGkh1aY0hpevUmv08tU4r7mhDyO1LeYuWwNZh+Ow4ZAnXoaQOJiWqwrN0QC+Z2Rr+KskAp7fVN9B68H0eDMqBWpCh01dIQL9FGlaZNsXBma7Sx4eeSioQQQghRRiL8O2Isel0QQU3IlCs2wYh987C+7ldZDdETDG64FjsigGLFNCAq6oBd50eij6lyvXSK35xG3VbH4IkSmHNyDuZ9vbS5KAiLeizCbG+mqK4QNcfOhfs4m5wdY+JwbBm0EOOCauP0iT4FNG39s7grO1Fp2G18kKjDdckanO2uXOOcfpb43S107robpz5mQt2sIibN7IGJriVgJGRqDr7GmZO3sGG/J3z1qmH2kj6YwJtp6xI8X7cA1VfLRnT9CjWdilh7ZhJGK9VURMJXlMAhRJ7EifC55Y3rbxIh0TZApZoV0bi8bBn0bJI/4vZVHzwMF0PXzBTValdETTNK3BBCCCFE3tJxbfZ0uOxnVmRSQ/FGfeC9swlyvEtmvMXstgux0Jcp0KqOGmNm4v74knkX/1WQhBMbYD3+IRKN6+PEncFomy0PlYK7y5eizalUGESEIzBdB322rMJel69jrGTcXb0SbXaIMWLnFPxVUNPWRaG4ct4fARHB+G/vVVz+IEam9JwYVG2A6T3Kw65CJXSoxpPFFHKR9OouJk49jJ3e8WyyQ11TC8WLZCA2MROGZSuia+/WmN6dpq0T8jsogUMIIYQQQojKEnMjCN4hQ90c4//5EytlBfmyk8RgQ+/JGH1fDKFpHRw8NwRdjJQtlfB5NAQqtoXHqU6o/qmXjKk5uAUd1iVh0JYm8Bu+A4cTddFny3Lsdfni+2VqDq7fhG7b4tFu+QRsKcBp62kPD8Kh+0WwixjlIETdKYtwe4QZz6d3ixD85CVu+kQgQqQOQxNDlHUohzo0bZ0QOQD+D1+7iqbsbdNdAAAAAElFTkSuQmCC)"
      ],
      "metadata": {
        "id": "Yz1beaxo3ttT"
      }
    },
    {
      "cell_type": "markdown",
      "source": [
        "$\\left [ k_{e} \\frac {T_{E}-T_{P}}{\\delta x_{e}} - k_{w} \\frac {T_{P}-T_{W}}{\\delta x_{w}} \\right ]\\Delta y_{p} + \\left [ k_{s} \\frac {T_{N}-T_{P}}{\\delta y_{n}} - k_{s} \\frac {T_{P}-T_{S}}{\\delta y_{s}} \\right ]\\Delta x_{p} + \\bar{Sp} \\Delta x_{p}\\Delta y_{p} = 0$"
      ],
      "metadata": {
        "id": "eMiR3tq8-hXK"
      }
    },
    {
      "cell_type": "markdown",
      "source": [
        "$\\left ( k_{e} \\frac {\\Delta y_{p}}{\\delta x_{e}} \\right )T_{E} + \\left ( k_{w} \\frac {\\Delta y_{p}}{\\delta x_{w}} \\right )T_{W} + \\left ( k_{n} \\frac {\\Delta x_{p}}{\\delta y_{n}} \\right )T_{N} + \\left ( k_{s} \\frac {\\Delta x_{p}}{\\delta y_{s}} \\right )T_{S} + \\bar{Sp} \\Delta x_{p}\\Delta y_{p} \n",
        "= \\left ( k_{e} \\frac {\\Delta y_{p}}{\\delta x_{e}} + k_{w} \\frac {\\Delta y_{p}}{\\delta x_{w}} + k_{n} \\frac {\\Delta y_{p}}{\\delta y_{n}} + k_{s} \\frac {\\Delta y_{p}}{\\delta y_{s}} \\right  )T_{P}$"
      ],
      "metadata": {
        "id": "zLYkrv2DAbb7"
      }
    },
    {
      "cell_type": "markdown",
      "source": [
        "Onde o termo fonte é linearizado através de:"
      ],
      "metadata": {
        "id": "JwUDhthmDPKL"
      }
    },
    {
      "cell_type": "markdown",
      "source": [
        "$\\bar{Sp} = Sc + S_{P}T_{P}$"
      ],
      "metadata": {
        "id": "uAqXlZNhC0-h"
      }
    },
    {
      "cell_type": "markdown",
      "source": [
        "E por fim:"
      ],
      "metadata": {
        "id": "-T18w8EWDTWt"
      }
    },
    {
      "cell_type": "markdown",
      "source": [
        "Equação 2: $a_{E} T_{E} + a_{W} T_{W} + a_{N} T_{N} + a_{S} T_{S} + b = a_{P} T_{P}$"
      ],
      "metadata": {
        "id": "douA2n9KCha_"
      }
    },
    {
      "cell_type": "markdown",
      "source": [
        "Onde:"
      ],
      "metadata": {
        "id": "V6KuwGVvDmdw"
      }
    },
    {
      "cell_type": "markdown",
      "source": [
        "$a_{P} = a_{E} + a_{W} + a_{N} + a_{S} + b$"
      ],
      "metadata": {
        "id": "oQRbFl10Dgot"
      }
    },
    {
      "cell_type": "markdown",
      "source": [
        "$b = Sc\\Delta x_{P}\\Delta y_{P}$"
      ],
      "metadata": {
        "id": "Ng8Fe2wC4TIh"
      }
    },
    {
      "cell_type": "markdown",
      "source": [
        "## 1.4) Condições Iniciais e Condições de Contorno"
      ],
      "metadata": {
        "id": "05CjOKJREFi7"
      }
    },
    {
      "cell_type": "markdown",
      "source": [
        "### Teoria:\n",
        "\n",
        "Existem 3 tipos de condições de contorno:\n",
        "\n",
        "1) Temperatura prescrita (1ª espécie ou Dirichlet): $T_{F}$\n",
        "\n",
        "2) Fluxo de calor prescrito (2ª espécie ou Neumann): $q_{F}\"$\n",
        "\n",
        "3) h (ou hm, hrad) e $T_{\\infty}$ (ou $f_{\\infty}$, $T_{VIZ}$) prescritos (3ª espécie ou Robin): convecção, concentração e radiação."
      ],
      "metadata": {
        "id": "f5i3ozdLESnq"
      }
    },
    {
      "cell_type": "markdown",
      "source": [
        "### Condições Adotadas:\n",
        "\n",
        "Fronteira Sul: Temperatura Prescrita, 23 graus Celsius\n",
        "\n",
        "Fronteura Norte: Adiabático, isolamento térmico, fluxo de calor nulo\n",
        "\n",
        "Fronteira Oeste: Adiabático, isolamento térmico, fluxo de calor nulo\n",
        "\n",
        "Fronteira Leste: Convecção, Temperatura 15 graus Celsius, Coef. 10 W/m²K"
      ],
      "metadata": {
        "id": "k5Uj_AyQXzjR"
      }
    },
    {
      "cell_type": "code",
      "source": [
        "tprescrito = 23             # Condição de contorno, temperatura prescrita, [K]\n",
        "tinicial = 22               # Condição inicial, temperatura inicial, [K]\n",
        "t_inf = 22                  # Condição de contorno de transf. de calor por convecção, temperatura do fluido, Tinf, [K]\n",
        "h = 10                      # Condição de contorno de transf. de calor por convecção, coeficiente convectivo, h, [W/m²K]"
      ],
      "metadata": {
        "id": "1koG9nyQKrWu"
      },
      "execution_count": 32,
      "outputs": []
    },
    {
      "cell_type": "markdown",
      "source": [
        ""
      ],
      "metadata": {
        "id": "LAVAw3obXqUQ"
      }
    },
    {
      "cell_type": "markdown",
      "source": [
        "## 1.5) Condutividades Térmicas"
      ],
      "metadata": {
        "id": "RFNYR4rPFfyD"
      }
    },
    {
      "cell_type": "markdown",
      "source": [
        "Considera-se que k = kP para \n",
        "\n",
        "xP ≤ x < xe\n",
        "\n",
        "e \n",
        "\n",
        "k = kE\n",
        "\n",
        "para \n",
        "\n",
        "xe < x ≤ xE.\n",
        "\n",
        "Neste caso, pode-se determinar o fluxo de calor na interface “e” pelo conceito e\n",
        "resistências térmicas:\n",
        "\n",
        "![condutividadeinterface.png](data:image/png;base64,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)"
      ],
      "metadata": {
        "id": "WstDyk-yHgs8"
      }
    },
    {
      "cell_type": "code",
      "source": [
        "k_mat1 = 63.9                                   # Condutividade térmica do material isolante ou alternativo, aço, [W/mK]\n",
        "k_mat2 = k_mat1                               # Condutividade térmica do material base, concreto, [W/mK]\n",
        "kenv = (2*k_mat1*k_mat2)/(k_mat1+k_mat2)    # Condutividade térmica interface, aço-concreto, [W/mK]"
      ],
      "metadata": {
        "id": "_fbdbHeyHz-N"
      },
      "execution_count": 33,
      "outputs": []
    },
    {
      "cell_type": "markdown",
      "source": [
        "## 1.6) Solução Numérica Iterativa por Jacobi\n",
        "\n",
        "Método da classe ponto-a-ponto, que resolve o sistema linear formado pela equação 2 aplicada em cada volume finito, visitando equação por equação, iterativamente, usando os valores das variáveis do nível iterativo anterior:\n",
        "\n",
        "$a_{P}T_{P}^{k+1} = a_{W}T_{W}^{k} + a_{E}T_{E}^{k} + a_{S}T_{S}^{k} + a_{N}T_{N}^{k} + b$"
      ],
      "metadata": {
        "id": "0fviUPXRIWoc"
      }
    },
    {
      "cell_type": "markdown",
      "source": [
        "Ciclo Iterativo:\n",
        "\n",
        "1) Estimar o campo inicial da variável;\n",
        "\n",
        "2) Calcular TP usando a equação acima para todos os pontos do domínio (varredura sequencial do domínio em cada iteração);\n",
        "\n",
        "3) Verificar a convergência;\n",
        "\n",
        "4) Repetir o processo até convergir."
      ],
      "metadata": {
        "id": "Xg3ps2ZBJiVz"
      }
    },
    {
      "cell_type": "code",
      "source": [
        "#MATRIZ TEMPERATURA INICIAL\n",
        "matriz_tinicial = []\n",
        "for i in range(n):\n",
        "    matriz_tinicial.append([])\n",
        "    for j in range(n):\n",
        "        matriz_tinicial[i].append(tinicial)\n",
        "# print(matriz_tinicial)\n",
        "\n",
        "#MATRIZ DE TEMPERATURAS ITERAÇÃO ATUAL\n",
        "matriz_t = []\n",
        "for i in range(n):\n",
        "    matriz_t.append([])\n",
        "    for j in range(n):\n",
        "        matriz_t[i].append(0)"
      ],
      "metadata": {
        "id": "Z8gkwrPTI5x1"
      },
      "execution_count": 34,
      "outputs": []
    },
    {
      "cell_type": "code",
      "source": [
        "#MODELAMENTO NUMÉRICO, SISTEMA DE EQUAÇÕES ALGBÉBRICAS E MATRIZ DE COEFICIENTES\n",
        "iteration = 0           # Contador do número de iterações\n",
        "convergence = 0.00001    # Valor do resíduo que define a convergência e solução do problema\n",
        "converged = 0           # Solução não convergiu, converged = 0. Solução convergiu (resíduo <= convergence), converged = 1.\n",
        "\n",
        "#MATRIZ RESIDUOS\n",
        "matriz_residuos = []\n",
        "for i in range(n):\n",
        "    matriz_residuos.append([])\n",
        "    for j in range(n):\n",
        "        matriz_residuos[i].append(0)\n",
        "# print(matriz_residuos)\n",
        "\n",
        "# Abaixo encontra-se o algorítmo utilizado para solução numérica do problema. Faz-se uma varredura de todos os volumes finitos do domínio, onde em cada um deles são calculados os coeficientes e a temperatura Tp.\n",
        "print('Solving...')\n",
        "while(converged == 0):\n",
        "    for i in range(n):\n",
        "        for j in range(n):\n",
        "            \n",
        "            pos_xp = matriz_posicao[i][j][0]\n",
        "            pos_yp = matriz_posicao[i][j][1]\n",
        "\n",
        "            if(i == 0):\n",
        "                tsouth = tprescrito\n",
        "            else:\n",
        "                if(iteration == 0):\n",
        "                    tsouth = matriz_tinicial[i-1][j]\n",
        "                else:\n",
        "                    tsouth = matriz_t[i-1][j]\n",
        "\n",
        "            if(i == n-1):\n",
        "                tnorth = 0\n",
        "            else:\n",
        "                if(iteration == 0):\n",
        "                    tnorth = matriz_tinicial[i+1][j]\n",
        "                else:\n",
        "                    tnorth = matriz_t[i+1][j]\n",
        "\n",
        "            if(j == 0):\n",
        "                twest = 0\n",
        "            else:\n",
        "                if(iteration == 0):\n",
        "                    twest = matriz_tinicial[i][j-1]\n",
        "                else:\n",
        "                    twest = matriz_t[i][j-1]\n",
        "\n",
        "            if(j == n-1):\n",
        "                teast = 0\n",
        "            else:\n",
        "                if(iteration == 0):\n",
        "                    teast = matriz_tinicial[i][j+1]\n",
        "                else:\n",
        "                    teast = matriz_t[i][j+1]\n",
        "\n",
        "            if(j<n-1):\n",
        "                pos_xeast = matriz_posicao[i][j+1][0]\n",
        "                pos_yesat = matriz_posicao[i][j+1][1]\n",
        "\n",
        "            if(j>0):\n",
        "                pos_xwest = matriz_posicao[i][j-1][0]\n",
        "                pos_ywest = matriz_posicao[i][j-1][1]\n",
        "    \n",
        "            if(i<n-1):\n",
        "                pos_xnorth = matriz_posicao[i+1][j][0]\n",
        "                pos_ynorth = matriz_posicao[i+1][j][1]\n",
        "    \n",
        "            if(i>0):\n",
        "                pos_xsouth = matriz_posicao[i-1][j][0]\n",
        "                pos_ysouth = matriz_posicao[i-1][j][1]\n",
        "\n",
        "            #LINHA BOTTOM\n",
        "            if (i == 0):\n",
        "                if (j == 0):\n",
        "                    asouth = (k_mat1*delta)/(delta/2) #Temperatura prescrita\n",
        "                    awest = 0 #Adiabático, fluxo de calor = 0\n",
        "                    aeast = k_mat1\n",
        "                    anorth = k_mat1\n",
        "\n",
        "                    Sc = 0\n",
        "                    Sp = 0\n",
        "\n",
        "                    b = Sc*delta*delta\n",
        "\n",
        "                    ap = awest + aeast + anorth + asouth - Sp*delta*delta\n",
        "                    tp = (asouth*tsouth + aeast*teast + anorth*tnorth + b)/ap\n",
        "                    told = matriz_t[i][j]\n",
        "                    matriz_t[i][j] = tp\n",
        "    \n",
        "                if (j == n-1):\n",
        "                    asouth = (k_mat1*delta)/(delta/2) #Temperatura prescrita\n",
        "                    awest = k_mat1\n",
        "                    anorth = k_mat1\n",
        "                    aeast = 0 #Convecção\n",
        "\n",
        "                    #Convecção\n",
        "                    Sc = (t_inf)/( ( (1/h)+(delta/(2*k_mat1)) ) * delta)\n",
        "                    Sp = (-1) / ( ( (1/h) + (delta/(2*k_mat1)) ) * delta)\n",
        "\n",
        "                    b = Sc*delta*delta\n",
        "                    \n",
        "                    ap = aeast + awest + anorth + asouth - Sp*delta*delta\n",
        "\n",
        "                    tp = (aeast*teast + awest*twest + anorth*tnorth + asouth*tsouth + b)/ap\n",
        "\n",
        "                    told = matriz_t[i][j]\n",
        "                    matriz_t[i][j] = tp\n",
        "    \n",
        "                if 0 < j < (n-1):\n",
        "                    awest = k_mat1\n",
        "                    aeast = k_mat1\n",
        "\n",
        "                    #anorth\n",
        "                    if pos_xp < espessura and pos_xnorth <= espessura:\n",
        "                        anorth = k_mat1\n",
        "                    elif pos_xp < espessura and pos_xnorth > espessura:\n",
        "                        anorth = kenv\n",
        "\n",
        "                    asouth = (k_mat1*delta)/(delta/2) #Temperatura prescrita\n",
        "\n",
        "                    Sc = 0\n",
        "                    Sp = 0\n",
        "\n",
        "                    b = Sc*delta*delta\n",
        "\n",
        "                    ap = aeast + awest + anorth + asouth - Sp*delta*delta\n",
        "                    tp = (awest*twest + aeast*teast + anorth*tnorth + asouth*tsouth + b)/ap\n",
        "                    told = matriz_t[i][j]\n",
        "                    matriz_t[i][j] = tp\n",
        "    \n",
        "            #LINHA TOP\n",
        "            if (i == n-1):\n",
        "                if (j == 0):\n",
        "                    asouth = k_mat1\n",
        "                    awest = 0 #Adiabático, fluxo de calor = 0\n",
        "                    aeast = k_mat1\n",
        "                    anorth = 0 #Adiabático, fluxo de calor = 0\n",
        "\n",
        "                    Sc = 0\n",
        "                    Sp = 0\n",
        "\n",
        "                    b = Sc*delta*delta\n",
        "\n",
        "                    ap = aeast + awest + anorth + asouth - Sp*delta*delta\n",
        "                    tp = (aeast*teast + asouth*tsouth + b)/ap\n",
        "                    told = matriz_t[i][j]\n",
        "                    matriz_t[i][j] = tp\n",
        "    \n",
        "                if (j == n-1):\n",
        "                    asouth = k_mat1\n",
        "                    awest = k_mat1\n",
        "                    aeast = 0 #Convecção\n",
        "                    anorth = 0 #Adiabático, fluxo de calor = 0\n",
        "\n",
        "                    #Convecção\n",
        "                    Sc = (t_inf)/( ( (1/h)+(delta/(2*k_mat1)) ) * delta) \n",
        "                    Sp = (-1) / ( ( (1/h) + (delta/(2*k_mat1)) ) * delta)\n",
        "                    \n",
        "                    b = Sc*delta*delta\n",
        "\n",
        "                    ap = aeast + awest + anorth + asouth - Sp*delta*delta\n",
        "\n",
        "                    tp = (awest*twest + asouth*tsouth + b)/ap\n",
        "                    told = matriz_t[i][j]\n",
        "                    matriz_t[i][j] = tp\n",
        "    \n",
        "                if (0 < j < (n-1)):\n",
        "                    #asouth\n",
        "                    if pos_xp > ymax_concreto and pos_xsouth >= ymax_concreto:\n",
        "                        asouth = k_mat1\n",
        "                    elif pos_xp > ymax_concreto and pos_xsouth < ymax_concreto:\n",
        "                        asouth = kenv\n",
        "                    awest = k_mat1\n",
        "                    aeast = k_mat1\n",
        "                    anorth = 0 #Adiabático, fluxo de calor = 0\n",
        "\n",
        "                    b = 0\n",
        "                    \n",
        "                    ap = aeast + awest + anorth + asouth\n",
        "                    tp = (awest*twest + aeast*teast + asouth*tsouth + b)/ap\n",
        "                    told = matriz_t[i][j]\n",
        "                    matriz_t[i][j] = tp\n",
        "    \n",
        "            #LINHA WEST INTERNAL\n",
        "            if(0<i<n-1 and j==0):\n",
        "                awest = 0\n",
        "                aeast = k_mat1\n",
        "                asouth = k_mat1\n",
        "                anorth = k_mat1\n",
        "\n",
        "                Sc = 0\n",
        "                Sp = 0\n",
        "\n",
        "                b = Sc*delta*delta\n",
        "                ap = aeast + awest + anorth + asouth - Sp*delta*delta\n",
        "\n",
        "                tp = (aeast*teast + asouth*tsouth + anorth*tnorth + b)/ap\n",
        "                told = matriz_t[i][j]\n",
        "                matriz_t[i][j] = tp\n",
        "    \n",
        "            #LINHA EAST INTERNAL\n",
        "            if(0<i<n-1 and j==n-1):\n",
        "                awest = k_mat1\n",
        "                aeast = 0\n",
        "                asouth = k_mat1\n",
        "                anorth = k_mat1\n",
        "\n",
        "                Sc = (t_inf)/( ( (1/h)+(delta/(2*k_mat1)) ) * delta) \n",
        "                Sp = (-1) / ( ( (1/h) + (delta/(2*k_mat1)) ) * delta)\n",
        "\n",
        "                b = Sc*delta*delta\n",
        "                ap = awest + aeast + anorth + asouth - Sp*delta*delta\n",
        "\n",
        "                tp = (awest*twest + asouth*tsouth + anorth*tnorth + b)/ap\n",
        "                told = matriz_t[i][j]\n",
        "                matriz_t[i][j] = tp\n",
        "    \n",
        "            #DOMINIO ITERNO\n",
        "            if (0<i<(n-1) and 0<j<(n-1)):\n",
        "                #asouth\n",
        "                if( pos_yp <= ymin_concreto):\n",
        "                    asouth = k_mat1\n",
        "                if( ymin_concreto < pos_yp < ymax_concreto ):\n",
        "                    if( pos_xp <= xmin_concreto or pos_xp >= xmax_concreto):\n",
        "                        asouth = k_mat1\n",
        "                    if( xmin_concreto < pos_xp < xmax_concreto and pos_ysouth < ymin_concreto):\n",
        "                        asouth = kenv\n",
        "                    else:\n",
        "                        asouth = k_mat2\n",
        "                if( pos_yp >= ymax_concreto and pos_ysouth < ymax_concreto ):\n",
        "                    asouth = kenv\n",
        "                if( pos_yp > ymax_concreto and pos_ysouth >= ymax_concreto ):\n",
        "                    asouth = k_mat1\n",
        "    \n",
        "                #anorth:\n",
        "                if( pos_yp >= ymax_concreto):\n",
        "                    anorth = k_mat1\n",
        "                if( ymin_concreto <= pos_yp < ymax_concreto ):\n",
        "                    if( pos_xp <= xmin_concreto or pos_xp >= xmax_concreto):\n",
        "                        anorth = k_mat1              \n",
        "                    if( xmin_concreto < pos_xp < xmax_concreto and pos_ynorth >= ymax_concreto):\n",
        "                        anorth = kenv\n",
        "                    else:\n",
        "                        anorth = k_mat2\n",
        "                if( pos_yp <= ymin_concreto and pos_ynorth > ymin_concreto ):\n",
        "                    anorth = kenv\n",
        "                if( pos_yp < ymin_concreto and pos_ynorth <= ymin_concreto ):\n",
        "                    anorth = k_mat1\n",
        "    \n",
        "                #awest\n",
        "                if(pos_xp <= xmin_concreto):\n",
        "                    awest = k_mat1\n",
        "                if( xmin_concreto < pos_xp <= xmax_concreto):\n",
        "                    if( pos_yp >= ymax_concreto or pos_yp < ymin_concreto):\n",
        "                        awest = k_mat1\n",
        "                    if( xmin_concreto < pos_xp < xmax_concreto and pos_xwest <= xmin_concreto):\n",
        "                        awest = kenv\n",
        "                    else:\n",
        "                        awest = k_mat2\n",
        "                if( pos_xp >= xmax_concreto and pos_xwest < xmax_concreto):\n",
        "                    awest = kenv\n",
        "                if( pos_xp > xmax_concreto and pos_xwest >= xmax_concreto):\n",
        "                    awestt = k_mat1\n",
        "    \n",
        "                #aeast\n",
        "                if( pos_xp >= xmax_concreto):\n",
        "                    aeast = k_mat1\n",
        "                if( xmin_concreto < pos_xp < xmax_concreto ):\n",
        "                    if( pos_yp >= ymax_concreto or pos_yp <= ymin_concreto):\n",
        "                        aeast = k_mat1\n",
        "                    if( xmin_concreto < pos_xp < xmax_concreto and pos_xeast >= xmax_concreto):\n",
        "                        aeast = kenv\n",
        "                    else:\n",
        "                        aeast = k_mat2\n",
        "                if( pos_xp <= xmin_concreto and pos_xeast > xmin_concreto):\n",
        "                    aeast = kenv\n",
        "                if( pos_xp < xmin_concreto and pos_xeast <= xmin_concreto):\n",
        "                    aeast = k_mat1\n",
        "                b = 0\n",
        "                ap = awest + aeast + anorth + asouth\n",
        "                tp = (awest*twest + aeast*teast + asouth*tsouth + anorth*tnorth + b)/ap\n",
        "                told = matriz_t[i][j]\n",
        "                matriz_t[i][j] = tp\n",
        "\n",
        "            res_p = (matriz_t[i][j] - told) / (matriz_t[i][j])\n",
        "            matriz_residuos[i][j] = res_p\n",
        "            matriz_residuos_np = np.array(matriz_residuos)\n",
        "            res_max = np.max(matriz_residuos_np)\n",
        "\n",
        "    if(res_max >= convergence):\n",
        "      converged = 0\n",
        "    else:\n",
        "      converged = 1\n",
        "    iteration = iteration + 1\n",
        "\n",
        "print('Iterations:', iteration)"
      ],
      "metadata": {
        "colab": {
          "base_uri": "https://localhost:8080/"
        },
        "id": "xl-08xmPje3U",
        "outputId": "d344a452-f363-4b65-abbd-959677edfd9a"
      },
      "execution_count": 35,
      "outputs": [
        {
          "output_type": "stream",
          "name": "stdout",
          "text": [
            "Solving...\n",
            "Iterations: 598\n"
          ]
        }
      ]
    },
    {
      "cell_type": "markdown",
      "source": [
        "## 1.7) Tratando os dados e solução"
      ],
      "metadata": {
        "id": "SMPlspvO5FXT"
      }
    },
    {
      "cell_type": "markdown",
      "source": [
        "Matriz de temperatura final"
      ],
      "metadata": {
        "id": "cdtVm1SqXC0q"
      }
    },
    {
      "cell_type": "code",
      "execution_count": 36,
      "metadata": {
        "id": "bljfTrwfrd5c",
        "colab": {
          "base_uri": "https://localhost:8080/"
        },
        "outputId": "12853b9e-bcd9-4787-8c6e-c7e99c614eb1"
      },
      "outputs": [
        {
          "output_type": "execute_result",
          "data": {
            "text/plain": [
              "array([[22.98411819, 22.98401862, 22.98381744, 22.98351045, 22.98309109,\n",
              "        22.98254993, 22.98187402, 22.98104588, 22.98004196, 22.9788303 ,\n",
              "        22.97736689, 22.97558972, 22.97340866, 22.97068712, 22.96720598,\n",
              "        22.9625846 , 22.95608223, 22.94601248, 22.92771443, 22.88548323],\n",
              "       [22.95249186, 22.95219502, 22.95159531, 22.95068048, 22.94943121,\n",
              "        22.94781993, 22.94580881, 22.94334694, 22.94036601, 22.93677381,\n",
              "        22.93244424, 22.9272014 , 22.92079324, 22.91284608, 22.90278157,\n",
              "        22.88965631, 22.87183372, 22.84628339, 22.8070921 , 22.74274622],\n",
              "       [22.92123733, 22.92074882, 22.91976219, 22.91825785, 22.91620503,\n",
              "        22.91355993, 22.91026275, 22.90623346, 22.90136545, 22.8955163 ,\n",
              "        22.88849376, 22.88003435, 22.86976965, 22.85717189, 22.8414639 ,\n",
              "        22.82146772, 22.79535149, 22.76022989, 22.71165497, 22.6434814 ],\n",
              "       [22.89058282, 22.88991166, 22.88855668, 22.88649212, 22.88367771,\n",
              "        22.88005633, 22.8755505 , 22.87005735, 22.86344132, 22.85552372,\n",
              "        22.84606761, 22.83475567, 22.82115753, 22.8046814 , 22.78450266,\n",
              "        22.75946197, 22.72793178, 22.68768098, 22.63586174, 22.56946077],\n",
              "       [22.86074665, 22.85990469, 22.85820574, 22.85561932, 22.85209798,\n",
              "        22.8475748 , 22.84195969, 22.83513424, 22.82694439, 22.81719036,\n",
              "        22.80561263, 22.79187272, 22.77552678, 22.75599033, 22.73249328,\n",
              "        22.70402843, 22.66930794, 22.62676802, 22.57470982, 22.51172032],\n",
              "       [22.83193418, 22.83093542, 22.82892127, 22.82585807, 22.82169369,\n",
              "        22.81635507, 22.80974478, 22.80173614, 22.79216672, 22.78082965,\n",
              "        22.76746215, 22.75173096, 22.73321404, 22.71137927, 22.68556262,\n",
              "        22.65495257, 22.61859632, 22.57545657, 22.52456263, 22.46529753],\n",
              "       [22.80433537, 22.80319527, 22.80089754, 22.79740688, 22.79266888,\n",
              "        22.7866079 , 22.77912396, 22.7700887 , 22.75934006, 22.74667547,\n",
              "        22.73184362, 22.71453472, 22.69436987, 22.67089127, 22.64355646,\n",
              "        22.61174346, 22.57477783, 22.53199766, 22.48287332, 22.42718519],\n",
              "       [22.77812324, 22.77685795, 22.7743096 , 22.77044263, 22.76520254,\n",
              "        22.75851412, 22.75027899, 22.74037248, 22.72863963, 22.71489055,\n",
              "        22.69889512, 22.68037765, 22.65901234, 22.63442136, 22.60617881,\n",
              "        22.57382525, 22.5368996 , 22.49499566, 22.44784722, 22.39543448],\n",
              "       [22.7534529 , 22.75207859, 22.74931257, 22.74512017, 22.73944855,\n",
              "        22.7322254 , 22.72335716, 22.71272679, 22.7001912 , 22.68557842,\n",
              "        22.66868498, 22.64927386, 22.62707424, 22.60178446, 22.57308066,\n",
              "        22.54063408, 22.50414055, 22.46336452, 22.41819684, 22.36871798],\n",
              "       [22.73046132, 22.72899368, 22.7260418 , 22.72157276, 22.71553678,\n",
              "        22.70786625, 22.69847466, 22.68725522, 22.67407953, 22.65879629,\n",
              "        22.64123069, 22.62118474, 22.59843964, 22.57276135, 22.54391077,\n",
              "        22.51166045, 22.47581907, 22.43626412, 22.39298024, 22.34609704],\n",
              "       [22.70926774, 22.7077215 , 22.70461352, 22.6999133 , 22.69357497,\n",
              "        22.68553683, 22.67572075, 22.66403163, 22.65035702, 22.63456704,\n",
              "        22.61651516, 22.5960401 , 22.57296967, 22.54712722, 22.51834185,\n",
              "        22.4864629 , 22.45137938, 22.41304348, 22.37149595, 22.32688881],\n",
              "       [22.68997439, 22.68836302, 22.6851261 , 22.68023587, 22.67365093,\n",
              "        22.66531605, 22.65516211, 22.64310612, 22.62905162, 22.6128895 ,\n",
              "        22.59449963, 22.57375371, 22.55051965, 22.52466819, 22.49608207,\n",
              "        22.46466814, 22.43037226, 22.39319607, 22.35321372, 22.3105857 ],\n",
              "       [22.67266765, 22.67100321, 22.66766152, 22.66261774, 22.65583508,\n",
              "        22.6472649 , 22.63684707, 22.62451042, 22.61017368, 22.59374689,\n",
              "        22.5751336 , 22.55423407, 22.53094984, 22.50518988, 22.47687855,\n",
              "        22.4459654 , 22.41243643, 22.37632604, 22.33772811, 22.2968044 ],\n",
              "       [22.65741933, 22.65571236, 22.652287  , 22.64712126, 22.64018284,\n",
              "        22.63142945, 22.62080945, 22.60826264, 22.59372156, 22.57711328,\n",
              "        22.55836184, 22.53739161, 22.51413165, 22.48852125, 22.46051668,\n",
              "        22.43009898, 22.39728249, 22.3621233 , 22.3247267 , 22.28525228],\n",
              "       [22.64428807, 22.64254766, 22.6390567 , 22.63379588, 22.62673703,\n",
              "        22.6178437 , 22.60707188, 22.59437115, 22.57968613, 22.56295849,\n",
              "        22.54412948, 22.52314329, 22.49995102, 22.47451563, 22.44681753,\n",
              "        22.41686085, 22.38467985, 22.350345  , 22.31396798, 22.27570476],\n",
              "       [22.63332071, 22.63155457, 22.6280133 , 22.62267994, 22.61552998,\n",
              "        22.60653201, 22.59564865, 22.5828378 , 22.56805422, 22.55125165,\n",
              "        22.53238539, 22.51141539, 22.48831001, 22.46305029, 22.43563467,\n",
              "        22.40608401, 22.37444647, 22.34080199, 22.30526567, 22.26798957],\n",
              "       [22.62455361, 22.62276824, 22.61918948, 22.61380233, 22.60658531,\n",
              "        22.59751119, 22.586548  , 22.57366036, 22.55881119, 22.54196379,\n",
              "        22.52308437, 22.50214505, 22.47912722, 22.45402535, 22.42685101,\n",
              "        22.3976369 , 22.36644078, 22.33334875, 22.29847759, 22.26197579],\n",
              "       [22.61801376, 22.61621467, 22.6126092 , 22.60718387, 22.59991955,\n",
              "        22.59079219, 22.57977394, 22.56683452, 22.55194292, 22.53506955,\n",
              "        22.51618865, 22.49528114, 22.47233777, 22.44736248, 22.42037594,\n",
              "        22.39141897, 22.36055569, 22.32787607, 22.29349766, 22.25756608],\n",
              "       [22.61371981, 22.61191172, 22.60828875, 22.60283847, 22.59554331,\n",
              "        22.5863814 , 22.57532766, 22.5623552 , 22.54743711, 22.53054845,\n",
              "        22.51166875, 22.49078466, 22.46789296, 22.44300363, 22.41614311,\n",
              "        22.38735725, 22.35671407, 22.32430583, 22.29025035, 22.25469131],\n",
              "       [22.61168279, 22.60986989, 22.60623758, 22.60077394, 22.59346221,\n",
              "        22.58428163, 22.5732085 , 22.56021767, 22.54528424, 22.52838564,\n",
              "        22.509504  , 22.48862883, 22.46575985, 22.44091004, 22.4141086 ,\n",
              "        22.38540385, 22.35486564, 22.32258733, 22.28868684, 22.25330686]])"
            ]
          },
          "metadata": {},
          "execution_count": 36
        }
      ],
      "source": [
        "z = np.array(matriz_t)\n",
        "z"
      ]
    },
    {
      "cell_type": "markdown",
      "source": [
        "### Plot Campo de Temperaturas"
      ],
      "metadata": {
        "id": "DhtRNNu-XHdH"
      }
    },
    {
      "cell_type": "code",
      "execution_count": 37,
      "metadata": {
        "id": "d41As-F568k3",
        "colab": {
          "base_uri": "https://localhost:8080/",
          "height": 397
        },
        "outputId": "8c1cafa5-2d95-4588-8818-358751eca617"
      },
      "outputs": [
        {
          "output_type": "display_data",
          "data": {
            "text/plain": [
              "<Figure size 432x432 with 2 Axes>"
            ],
            "image/png": "[encoded data removed]"
          },
          "metadata": {
            "needs_background": "light"
          }
        }
      ],
      "source": [
        "zmax = np.max(z)\n",
        "zmin = np.min(z)\n",
        "x = np.linspace(0, xmax, n)\n",
        "y = np.linspace(0, ymax, n)\n",
        "\n",
        "X, Y = np.meshgrid(x, y)\n",
        "Z = z.reshape(n, n)\n",
        "v = np.linspace(zmin, zmax, endpoint=True)\n",
        "\n",
        "fig = plt.figure(figsize=(6,6))\n",
        "contours = plt.contourf(X, Y, Z, cmap='rainbow')\n",
        "\n",
        "plt.xlabel('X [mm]', fontsize=16, weight=\"bold\")\n",
        "plt.ylabel('Y [mm]', fontsize=16, weight=\"bold\")\n",
        "\n",
        "cb = plt.colorbar(contours)\n",
        "cb.ax.set_ylabel('Temperature [°C]', fontsize = 16, weight=\"bold\")\n",
        "cb.ax.set_yticklabels([\"{:.4}\".format(i) for i in cb.get_ticks()])\n",
        "\n",
        "plt.show()"
      ]
    },
    {
      "cell_type": "markdown",
      "source": [
        "# Código Python"
      ],
      "metadata": {
        "id": "MYMwTOy2Y9uD"
      }
    },
    {
      "cell_type": "code",
      "source": [
        "import pandas as pd\n",
        "import numpy as np\n",
        "import matplotlib.pyplot as plt\n",
        "\n",
        "length = 20         # Comprimento [m]\n",
        "heigth = 1*length   # Altura [m]\n",
        "delta = 1        # Dimensão do elemento de malha [m]\n",
        "espessura = 1       # Espessura do material isolante ou material alternativo [m]\n",
        "\n",
        "xmin = 0            # Posição x = 0 (origem) no eixo x, plano x=y\n",
        "xmax = length       # Posição x máximo da geometria/domínio no eixo x, plano x-y\n",
        "ymin = 0            # Posição y = 0 (origem) do eixo y, plano x-y\n",
        "ymax = heigth       # Posição y máximo da geometria/domínio no eixo x, plano x-y\n",
        "\n",
        "xmin_concreto = espessura         # Posição x mínino do material interno no eixo x, plano x-y\n",
        "xmax_concreto = xmax - espessura  # Posição x máximo do material interno no eixo x, plano x-y\n",
        "ymin_concreto = espessura         # Posição y mínimo do material interno no eixo y, plano x-y\n",
        "ymax_concreto = ymax - espessura  # Posição y máxima do material interno no eixo y, plano x-y\n",
        "\n",
        "n=int(length/delta) # Número de elementos da malha em cada eixo ortogonal. Malha uniforme com o mesmo número de elementos em ambas direções x-y.\n",
        "\n",
        "#MATRIZ GLOBAL DE POSIÇÃO (X,Y) DO CENTRO DE CADA ELEMENTO DA MALHA\n",
        "\n",
        "x0 = delta / 2                                # Posição x0 do centro do elemento 1, posição (x0, y0)\n",
        "y0 = delta / 2                                # Posição y0 do centro do elemento 1, posição (x0, y0)\n",
        "\n",
        "matriz_posicao = []                           # Inicialização da matriz global de posição do centro de cada elemento da malha\n",
        "\n",
        "\n",
        "# Faz-se uma varredura do domínio entre os limites geométricos 0 e n, através dos sub-índices i e j, representando respectivamente os eixos x e y.\n",
        "# Cada par de valores [i,j] representa o centro (x,y) de um volume finito. Exemplo: para i = j = 0, [0,0] representa o volume finito da linha 0, coluna 0. Para i = 0 e j = 1, [0,1] representa o volume finito da linha 0 e coluna 1.\n",
        "# Exemplo para o primeiro laço/loop:\n",
        "\n",
        "for i in range(n):                          # Para i = 0 (primeira linha do domínio, i = 0)\n",
        "    matriz_posicao.append([])               # Cria-se uma nova matriz [], a qual será a primeira sub-matriz da matriz global de posição, e que irá conter a posição do centro de todos os elementos da primeira linha (i = 0). Aqui, esta sub-matriz para i = 0 representa a primeira linha de elementos da malha. Para o próximo loop, quando i = 1, a subatriz criada representara a segunda linha de elementos. E assim por diante, até i = (n-1), onde teremos uma matriz global de posição com n sub-matrizes, cada uma representando uma linha de n volumes finitos.\n",
        "    y = (i*delta + y0)                      # Quando y = 0, define-se a posição y do centro de cada elemento da primeira linha: y = (0 * delta + y0) = y0 = delta/2\n",
        "\n",
        "    for j in range(n):                      # Agora, cria-se a posição do centro dos volumes finitos de todas as colunas presentes na primeira linha (linha i = 0). Para j = 0:\n",
        "        x = (j*delta + x0)                  # Posição x do volume finito [0,0]: x = (0 * delta + x0) = delta/2\n",
        "        matriz_posicao[i].append((x,y))     # Cria-se o par de coordenadas (x,y) representando o centro do volume finito [0,0].\n",
        "\n",
        "                                            # Repete-se o loop variando o valor de j = 0 até (n-1) para toda a primeira linha, i = 0, criando as coordenadas dos centros de todos os volumes finitos da primeira linha do domínio.\n",
        "                                            # Em seguida, ao finalizar o loop de j para i = 0, inicia-se o loop de i = 1 e todo o procedimento é realizado novamente, mapeando agora, os centros dos volumes finitos de toda a linha i = 1.\n",
        "                                            \n",
        "\n",
        "tprescrito = 23             # Condição de contorno, temperatura prescrita, [K]\n",
        "tinicial = 22               # Condição inicial, temperatura inicial, [K]\n",
        "t_inf = 22                  # Condição de contorno de transf. de calor por convecção, temperatura do fluido, Tinf, [K]\n",
        "h = 10                      # Condição de contorno de transf. de calor por convecção, coeficiente convectivo, h, [W/m²K]\n",
        "\n",
        "k_mat1 = 63.9                                   # Condutividade térmica do material isolante ou alternativo, aço, [W/mK]\n",
        "k_mat2 = k_mat1                               # Condutividade térmica do material base, concreto, [W/mK]\n",
        "kenv = (2*k_mat1*k_mat2)/(k_mat1+k_mat2)    # Condutividade térmica interface, aço-concreto, [W/mK]\n",
        "\n",
        "#MATRIZ TEMPERATURA INICIAL\n",
        "matriz_tinicial = []\n",
        "for i in range(n):\n",
        "    matriz_tinicial.append([])\n",
        "    for j in range(n):\n",
        "        matriz_tinicial[i].append(tinicial)\n",
        "# print(matriz_tinicial)\n",
        "\n",
        "#MATRIZ DE TEMPERATURAS ITERAÇÃO ATUAL\n",
        "matriz_t = []\n",
        "for i in range(n):\n",
        "    matriz_t.append([])\n",
        "    for j in range(n):\n",
        "        matriz_t[i].append(0)\n",
        "\n",
        "#MODELAMENTO NUMÉRICO, SISTEMA DE EQUAÇÕES ALGBÉBRICAS E MATRIZ DE COEFICIENTES\n",
        "iteration = 0           # Contador do número de iterações\n",
        "convergence = 0.00001    # Valor do resíduo que define a convergência e solução do problema\n",
        "converged = 0           # Solução não convergiu, converged = 0. Solução convergiu (resíduo <= convergence), converged = 1.\n",
        "\n",
        "#MATRIZ RESIDUOS\n",
        "matriz_residuos = []\n",
        "for i in range(n):\n",
        "    matriz_residuos.append([])\n",
        "    for j in range(n):\n",
        "        matriz_residuos[i].append(0)\n",
        "# print(matriz_residuos)\n",
        "\n",
        "# Abaixo encontra-se o algorítmo utilizado para solução numérica do problema. Faz-se uma varredura de todos os volumes finitos do domínio, onde em cada um deles são calculados os coeficientes e a temperatura Tp.\n",
        "print('Solving...')\n",
        "while(converged == 0):\n",
        "    for i in range(n):\n",
        "        for j in range(n):\n",
        "            \n",
        "            pos_xp = matriz_posicao[i][j][0]\n",
        "            pos_yp = matriz_posicao[i][j][1]\n",
        "\n",
        "            if(i == 0):\n",
        "                tsouth = tprescrito\n",
        "            else:\n",
        "                if(iteration == 0):\n",
        "                    tsouth = matriz_tinicial[i-1][j]\n",
        "                else:\n",
        "                    tsouth = matriz_t[i-1][j]\n",
        "\n",
        "            if(i == n-1):\n",
        "                tnorth = 0\n",
        "            else:\n",
        "                if(iteration == 0):\n",
        "                    tnorth = matriz_tinicial[i+1][j]\n",
        "                else:\n",
        "                    tnorth = matriz_t[i+1][j]\n",
        "\n",
        "            if(j == 0):\n",
        "                twest = 0\n",
        "            else:\n",
        "                if(iteration == 0):\n",
        "                    twest = matriz_tinicial[i][j-1]\n",
        "                else:\n",
        "                    twest = matriz_t[i][j-1]\n",
        "\n",
        "            if(j == n-1):\n",
        "                teast = 0\n",
        "            else:\n",
        "                if(iteration == 0):\n",
        "                    teast = matriz_tinicial[i][j+1]\n",
        "                else:\n",
        "                    teast = matriz_t[i][j+1]\n",
        "\n",
        "            if(j<n-1):\n",
        "                pos_xeast = matriz_posicao[i][j+1][0]\n",
        "                pos_yesat = matriz_posicao[i][j+1][1]\n",
        "\n",
        "            if(j>0):\n",
        "                pos_xwest = matriz_posicao[i][j-1][0]\n",
        "                pos_ywest = matriz_posicao[i][j-1][1]\n",
        "    \n",
        "            if(i<n-1):\n",
        "                pos_xnorth = matriz_posicao[i+1][j][0]\n",
        "                pos_ynorth = matriz_posicao[i+1][j][1]\n",
        "    \n",
        "            if(i>0):\n",
        "                pos_xsouth = matriz_posicao[i-1][j][0]\n",
        "                pos_ysouth = matriz_posicao[i-1][j][1]\n",
        "\n",
        "            #LINHA BOTTOM\n",
        "            if (i == 0):\n",
        "                if (j == 0):\n",
        "                    asouth = (k_mat1*delta)/(delta/2) #Temperatura prescrita\n",
        "                    awest = 0 #Adiabático, fluxo de calor = 0\n",
        "                    aeast = k_mat1\n",
        "                    anorth = k_mat1\n",
        "\n",
        "                    Sc = 0\n",
        "                    Sp = 0\n",
        "\n",
        "                    b = Sc*delta*delta\n",
        "\n",
        "                    ap = awest + aeast + anorth + asouth - Sp*delta*delta\n",
        "                    tp = (asouth*tsouth + aeast*teast + anorth*tnorth + b)/ap\n",
        "                    told = matriz_t[i][j]\n",
        "                    matriz_t[i][j] = tp\n",
        "    \n",
        "                if (j == n-1):\n",
        "                    asouth = (k_mat1*delta)/(delta/2) #Temperatura prescrita\n",
        "                    awest = k_mat1\n",
        "                    anorth = k_mat1\n",
        "                    aeast = 0 #Convecção\n",
        "\n",
        "                    #Convecção\n",
        "                    Sc = (t_inf)/( ( (1/h)+(delta/(2*k_mat1)) ) * delta)\n",
        "                    Sp = (-1) / ( ( (1/h) + (delta/(2*k_mat1)) ) * delta)\n",
        "\n",
        "                    b = Sc*delta*delta\n",
        "                    \n",
        "                    ap = aeast + awest + anorth + asouth - Sp*delta*delta\n",
        "\n",
        "                    tp = (aeast*teast + awest*twest + anorth*tnorth + asouth*tsouth + b)/ap\n",
        "\n",
        "                    told = matriz_t[i][j]\n",
        "                    matriz_t[i][j] = tp\n",
        "    \n",
        "                if 0 < j < (n-1):\n",
        "                    awest = k_mat1\n",
        "                    aeast = k_mat1\n",
        "\n",
        "                    #anorth\n",
        "                    if pos_xp < espessura and pos_xnorth <= espessura:\n",
        "                        anorth = k_mat1\n",
        "                    elif pos_xp < espessura and pos_xnorth > espessura:\n",
        "                        anorth = kenv\n",
        "\n",
        "                    asouth = (k_mat1*delta)/(delta/2) #Temperatura prescrita\n",
        "\n",
        "                    Sc = 0\n",
        "                    Sp = 0\n",
        "\n",
        "                    b = Sc*delta*delta\n",
        "\n",
        "                    ap = aeast + awest + anorth + asouth - Sp*delta*delta\n",
        "                    tp = (awest*twest + aeast*teast + anorth*tnorth + asouth*tsouth + b)/ap\n",
        "                    told = matriz_t[i][j]\n",
        "                    matriz_t[i][j] = tp\n",
        "    \n",
        "            #LINHA TOP\n",
        "            if (i == n-1):\n",
        "                if (j == 0):\n",
        "                    asouth = k_mat1\n",
        "                    awest = 0 #Adiabático, fluxo de calor = 0\n",
        "                    aeast = k_mat1\n",
        "                    anorth = 0 #Adiabático, fluxo de calor = 0\n",
        "\n",
        "                    Sc = 0\n",
        "                    Sp = 0\n",
        "\n",
        "                    b = Sc*delta*delta\n",
        "\n",
        "                    ap = aeast + awest + anorth + asouth - Sp*delta*delta\n",
        "                    tp = (aeast*teast + asouth*tsouth + b)/ap\n",
        "                    told = matriz_t[i][j]\n",
        "                    matriz_t[i][j] = tp\n",
        "    \n",
        "                if (j == n-1):\n",
        "                    asouth = k_mat1\n",
        "                    awest = k_mat1\n",
        "                    aeast = 0 #Convecção\n",
        "                    anorth = 0 #Adiabático, fluxo de calor = 0\n",
        "\n",
        "                    #Convecção\n",
        "                    Sc = (t_inf)/( ( (1/h)+(delta/(2*k_mat1)) ) * delta) \n",
        "                    Sp = (-1) / ( ( (1/h) + (delta/(2*k_mat1)) ) * delta)\n",
        "                    \n",
        "                    b = Sc*delta*delta\n",
        "\n",
        "                    ap = aeast + awest + anorth + asouth - Sp*delta*delta\n",
        "\n",
        "                    tp = (awest*twest + asouth*tsouth + b)/ap\n",
        "                    told = matriz_t[i][j]\n",
        "                    matriz_t[i][j] = tp\n",
        "    \n",
        "                if (0 < j < (n-1)):\n",
        "                    #asouth\n",
        "                    if pos_xp > ymax_concreto and pos_xsouth >= ymax_concreto:\n",
        "                        asouth = k_mat1\n",
        "                    elif pos_xp > ymax_concreto and pos_xsouth < ymax_concreto:\n",
        "                        asouth = kenv\n",
        "                    awest = k_mat1\n",
        "                    aeast = k_mat1\n",
        "                    anorth = 0 #Adiabático, fluxo de calor = 0\n",
        "\n",
        "                    b = 0\n",
        "                    \n",
        "                    ap = aeast + awest + anorth + asouth\n",
        "                    tp = (awest*twest + aeast*teast + asouth*tsouth + b)/ap\n",
        "                    told = matriz_t[i][j]\n",
        "                    matriz_t[i][j] = tp\n",
        "    \n",
        "            #LINHA WEST INTERNAL\n",
        "            if(0<i<n-1 and j==0):\n",
        "                awest = 0\n",
        "                aeast = k_mat1\n",
        "                asouth = k_mat1\n",
        "                anorth = k_mat1\n",
        "\n",
        "                Sc = 0\n",
        "                Sp = 0\n",
        "\n",
        "                b = Sc*delta*delta\n",
        "                ap = aeast + awest + anorth + asouth - Sp*delta*delta\n",
        "\n",
        "                tp = (aeast*teast + asouth*tsouth + anorth*tnorth + b)/ap\n",
        "                told = matriz_t[i][j]\n",
        "                matriz_t[i][j] = tp\n",
        "    \n",
        "            #LINHA EAST INTERNAL\n",
        "            if(0<i<n-1 and j==n-1):\n",
        "                awest = k_mat1\n",
        "                aeast = 0\n",
        "                asouth = k_mat1\n",
        "                anorth = k_mat1\n",
        "\n",
        "                Sc = (t_inf)/( ( (1/h)+(delta/(2*k_mat1)) ) * delta) \n",
        "                Sp = (-1) / ( ( (1/h) + (delta/(2*k_mat1)) ) * delta)\n",
        "\n",
        "                b = Sc*delta*delta\n",
        "                ap = awest + aeast + anorth + asouth - Sp*delta*delta\n",
        "\n",
        "                tp = (awest*twest + asouth*tsouth + anorth*tnorth + b)/ap\n",
        "                told = matriz_t[i][j]\n",
        "                matriz_t[i][j] = tp\n",
        "    \n",
        "            #DOMINIO ITERNO\n",
        "            if (0<i<(n-1) and 0<j<(n-1)):\n",
        "                #asouth\n",
        "                if( pos_yp <= ymin_concreto):\n",
        "                    asouth = k_mat1\n",
        "                if( ymin_concreto < pos_yp < ymax_concreto ):\n",
        "                    if( pos_xp <= xmin_concreto or pos_xp >= xmax_concreto):\n",
        "                        asouth = k_mat1\n",
        "                    if( xmin_concreto < pos_xp < xmax_concreto and pos_ysouth < ymin_concreto):\n",
        "                        asouth = kenv\n",
        "                    else:\n",
        "                        asouth = k_mat2\n",
        "                if( pos_yp >= ymax_concreto and pos_ysouth < ymax_concreto ):\n",
        "                    asouth = kenv\n",
        "                if( pos_yp > ymax_concreto and pos_ysouth >= ymax_concreto ):\n",
        "                    asouth = k_mat1\n",
        "    \n",
        "                #anorth:\n",
        "                if( pos_yp >= ymax_concreto):\n",
        "                    anorth = k_mat1\n",
        "                if( ymin_concreto <= pos_yp < ymax_concreto ):\n",
        "                    if( pos_xp <= xmin_concreto or pos_xp >= xmax_concreto):\n",
        "                        anorth = k_mat1              \n",
        "                    if( xmin_concreto < pos_xp < xmax_concreto and pos_ynorth >= ymax_concreto):\n",
        "                        anorth = kenv\n",
        "                    else:\n",
        "                        anorth = k_mat2\n",
        "                if( pos_yp <= ymin_concreto and pos_ynorth > ymin_concreto ):\n",
        "                    anorth = kenv\n",
        "                if( pos_yp < ymin_concreto and pos_ynorth <= ymin_concreto ):\n",
        "                    anorth = k_mat1\n",
        "    \n",
        "                #awest\n",
        "                if(pos_xp <= xmin_concreto):\n",
        "                    awest = k_mat1\n",
        "                if( xmin_concreto < pos_xp <= xmax_concreto):\n",
        "                    if( pos_yp >= ymax_concreto or pos_yp < ymin_concreto):\n",
        "                        awest = k_mat1\n",
        "                    if( xmin_concreto < pos_xp < xmax_concreto and pos_xwest <= xmin_concreto):\n",
        "                        awest = kenv\n",
        "                    else:\n",
        "                        awest = k_mat2\n",
        "                if( pos_xp >= xmax_concreto and pos_xwest < xmax_concreto):\n",
        "                    awest = kenv\n",
        "                if( pos_xp > xmax_concreto and pos_xwest >= xmax_concreto):\n",
        "                    awestt = k_mat1\n",
        "    \n",
        "                #aeast\n",
        "                if( pos_xp >= xmax_concreto):\n",
        "                    aeast = k_mat1\n",
        "                if( xmin_concreto < pos_xp < xmax_concreto ):\n",
        "                    if( pos_yp >= ymax_concreto or pos_yp <= ymin_concreto):\n",
        "                        aeast = k_mat1\n",
        "                    if( xmin_concreto < pos_xp < xmax_concreto and pos_xeast >= xmax_concreto):\n",
        "                        aeast = kenv\n",
        "                    else:\n",
        "                        aeast = k_mat2\n",
        "                if( pos_xp <= xmin_concreto and pos_xeast > xmin_concreto):\n",
        "                    aeast = kenv\n",
        "                if( pos_xp < xmin_concreto and pos_xeast <= xmin_concreto):\n",
        "                    aeast = k_mat1\n",
        "                b = 0\n",
        "                ap = awest + aeast + anorth + asouth\n",
        "                tp = (awest*twest + aeast*teast + asouth*tsouth + anorth*tnorth + b)/ap\n",
        "                told = matriz_t[i][j]\n",
        "                matriz_t[i][j] = tp\n",
        "\n",
        "            res_p = (matriz_t[i][j] - told) / (matriz_t[i][j])\n",
        "            matriz_residuos[i][j] = res_p\n",
        "            matriz_residuos_np = np.array(matriz_residuos)\n",
        "            res_max = np.max(matriz_residuos_np)\n",
        "\n",
        "    if(res_max >= convergence):\n",
        "      converged = 0\n",
        "    else:\n",
        "      converged = 1\n",
        "    iteration = iteration + 1\n",
        "\n",
        "print('Iterations:', iteration)"
      ],
      "metadata": {
        "id": "yL_hTAjZY__v",
        "colab": {
          "base_uri": "https://localhost:8080/"
        },
        "outputId": "1688e6bc-4d9a-4536-8f45-ac1c322556eb"
      },
      "execution_count": 23,
      "outputs": [
        {
          "output_type": "stream",
          "name": "stdout",
          "text": [
            "Solving...\n",
            "Iterations: 598\n"
          ]
        }
      ]
    },
    {
      "cell_type": "code",
      "source": [
        "z = np.array(matriz_t)\n",
        "\n",
        "zmax = np.max(z)\n",
        "zmin = np.min(z)\n",
        "x = np.linspace(0, xmax, n)\n",
        "y = np.linspace(0, ymax, n)\n",
        "\n",
        "X, Y = np.meshgrid(x, y)\n",
        "Z = z.reshape(n, n)\n",
        "v = np.linspace(zmin, zmax, endpoint=True)\n",
        "\n",
        "fig = plt.figure(figsize=(6,6))\n",
        "contours = plt.contourf(X, Y, Z, cmap='rainbow')\n",
        "\n",
        "plt.xlabel('X [mm]', fontsize=16, weight=\"bold\")\n",
        "plt.ylabel('Y [mm]', fontsize=16, weight=\"bold\")\n",
        "\n",
        "cb = plt.colorbar(contours)\n",
        "cb.ax.set_ylabel('Temperature [°C]', fontsize = 16, weight=\"bold\")\n",
        "cb.ax.set_yticklabels([\"{:.4}\".format(i) for i in cb.get_ticks()])\n",
        "\n",
        "plt.show()"
      ],
      "metadata": {
        "colab": {
          "base_uri": "https://localhost:8080/",
          "height": 397
        },
        "id": "bJVi3aH3dTMR",
        "outputId": "54cf2938-8e4d-4264-9b1e-1bdbfce86b1c"
      },
      "execution_count": 25,
      "outputs": [
        {
          "output_type": "display_data",
          "data": {
            "text/plain": [
              "<Figure size 432x432 with 2 Axes>"
            ],
            "image/png": "[encoded data removed]"
          },
          "metadata": {
            "needs_background": "light"
          }
        }
      ]
    },
    {
      "cell_type": "code",
      "source": [
        ""
      ],
      "metadata": {
        "id": "j5KMAZ6fjROa"
      },
      "execution_count": null,
      "outputs": []
    }
  ],
  "metadata": {
    "colab": {
      "collapsed_sections": [],
      "name": "MFV CONDUCTION 2D - MATERIAL AND ISOLATION.ipynb",
      "provenance": [],
      "toc_visible": true,
      "authorship_tag": "ABX9TyMKTz5/8rDXrEVwn5HB7dDV",
      "include_colab_link": true
    },
    "kernelspec": {
      "display_name": "Python 3",
      "name": "python3"
    },
    "language_info": {
      "name": "python"
    }
  },
  "nbformat": 4,
  "nbformat_minor": 0
}